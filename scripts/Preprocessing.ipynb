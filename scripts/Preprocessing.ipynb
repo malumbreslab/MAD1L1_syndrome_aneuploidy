{
 "cells": [
  {
   "cell_type": "markdown",
   "id": "bedfb853-f3ff-4a28-b01a-ebface720402",
   "metadata": {},
   "source": [
    "# MAD1 family - scRNAseq from PBMCs"
   ]
  },
  {
   "cell_type": "code",
   "execution_count": null,
   "id": "44a5eace-d904-4fb3-a180-3279c3e61e54",
   "metadata": {},
   "outputs": [],
   "source": []
  },
  {
   "cell_type": "code",
   "execution_count": null,
   "id": "dc04c7a2-de4c-47cd-8306-d820a56094e3",
   "metadata": {},
   "outputs": [],
   "source": [
    "import numpy as np\n",
    "import pandas as pd\n",
    "\n",
    "import matplotlib as mpl\n",
    "import matplotlib.pyplot as plt\n",
    "import seaborn as sns\n",
    "\n",
    "import scanpy as sc"
   ]
  },
  {
   "cell_type": "code",
   "execution_count": null,
   "id": "66f7242a-f414-483c-9877-e210cc890947",
   "metadata": {},
   "outputs": [],
   "source": [
    "sc.logging.print_header()\n",
    "sc.settings.verbosity = 3  "
   ]
  },
  {
   "cell_type": "code",
   "execution_count": null,
   "id": "6d3b7c77-0973-4dbb-99c1-766a49702a91",
   "metadata": {},
   "outputs": [],
   "source": [
    "# This does not work\n",
    "sc.settings.set_figure_params(ipython_format=\"retina\")"
   ]
  },
  {
   "cell_type": "code",
   "execution_count": null,
   "id": "7fe448e2-11ca-4707-a6e5-ba2f73812a6c",
   "metadata": {},
   "outputs": [],
   "source": [
    "from IPython.display import set_matplotlib_formats\n",
    "set_matplotlib_formats('retina')"
   ]
  },
  {
   "cell_type": "markdown",
   "id": "84dc3a9a-235d-4c11-85a7-3eedf47bde19",
   "metadata": {},
   "source": [
    "#### August 18, 2021"
   ]
  },
  {
   "cell_type": "markdown",
   "id": "b231ce60-51c3-42ee-8d24-e7785b730a56",
   "metadata": {},
   "source": [
    "## Read individual .h5 files from 10xGenomics"
   ]
  },
  {
   "cell_type": "code",
   "execution_count": null,
   "id": "0726a16c-983c-483c-8396-9e0a831ddb58",
   "metadata": {},
   "outputs": [],
   "source": [
    "# Hija\n",
    "P = \"/Users/mmm/BioPROJECTS/MAD1 & MVA/scRNAseq PBMCs/hija/\"\n",
    "ad_hija = sc.read_10x_h5(P + \"filtered_feature_bc_matrix.h5\")"
   ]
  },
  {
   "cell_type": "code",
   "execution_count": null,
   "id": "94d608b4-89dd-4651-a880-0f69f1052a63",
   "metadata": {},
   "outputs": [],
   "source": [
    "ad_hija.var[ad_hija.var.index.duplicated()]"
   ]
  },
  {
   "cell_type": "code",
   "execution_count": null,
   "id": "c319d0f1-ae06-48c1-9494-f073afea8b7f",
   "metadata": {},
   "outputs": [],
   "source": [
    "# using the default does not work: use join=\"_\"\n",
    "ad_hija.var_names_make_unique(join=\"_\")"
   ]
  },
  {
   "cell_type": "code",
   "execution_count": null,
   "id": "a6cab791-890a-493b-a722-f292ac33f7e5",
   "metadata": {},
   "outputs": [],
   "source": [
    "ad_hija.var[ad_hija.var.index.duplicated()]"
   ]
  },
  {
   "cell_type": "code",
   "execution_count": null,
   "id": "2e5619ed-53af-4dc6-9ce3-65fee9d078a9",
   "metadata": {},
   "outputs": [],
   "source": [
    "ad_hija.var.index.is_unique"
   ]
  },
  {
   "cell_type": "code",
   "execution_count": null,
   "id": "29b6616a-48ee-4ab2-ada6-973b9bbe06ba",
   "metadata": {},
   "outputs": [],
   "source": [
    "ad_hija.var.loc[\"TBCE\",:]"
   ]
  },
  {
   "cell_type": "code",
   "execution_count": null,
   "id": "c270d6fb-e1a5-4f1d-8f69-c1e20b9de786",
   "metadata": {},
   "outputs": [],
   "source": []
  },
  {
   "cell_type": "code",
   "execution_count": null,
   "id": "79422641-b192-4d12-a7f2-8aeafcf0507d",
   "metadata": {},
   "outputs": [],
   "source": []
  },
  {
   "cell_type": "code",
   "execution_count": null,
   "id": "d60ac360-0cfe-438c-b66a-9666683ff92e",
   "metadata": {},
   "outputs": [],
   "source": []
  },
  {
   "cell_type": "markdown",
   "id": "5023c3ef-987d-4f14-9794-4a6ac7a239b8",
   "metadata": {},
   "source": [
    "## Read the final files"
   ]
  },
  {
   "cell_type": "code",
   "execution_count": null,
   "id": "9bcbe5fc-2fca-4fdb-be12-4187773431eb",
   "metadata": {},
   "outputs": [],
   "source": [
    "# Hija\n",
    "P = \"/Users/mmm/BioPROJECTS/MAD1 & MVA/scRNAseq PBMCs/data/original_from_10x/hija/\"\n",
    "ad_hija = sc.read_10x_h5(P + \"filtered_feature_bc_matrix.h5\")\n",
    "ad_hija.var_names_make_unique(join=\"_\")\n",
    "ad_hija.obs[\"Sample\"] = \"Proband\"\n",
    "ad_hija"
   ]
  },
  {
   "cell_type": "code",
   "execution_count": null,
   "id": "7c2ea8a9-8f57-4185-9cc5-94dfe291b0a6",
   "metadata": {},
   "outputs": [],
   "source": [
    "# Madre\n",
    "P = \"/Users/mmm/BioPROJECTS/MAD1 & MVA/scRNAseq PBMCs/data/original_from_10x/madre/\"\n",
    "ad_madre = sc.read_10x_h5(P + \"filtered_feature_bc_matrix.h5\")\n",
    "ad_madre.var_names_make_unique(join=\"_\")\n",
    "ad_madre.obs[\"Sample\"] = \"Mother\"\n",
    "ad_madre"
   ]
  },
  {
   "cell_type": "code",
   "execution_count": null,
   "id": "70581a62-83f9-40df-9155-255263203128",
   "metadata": {},
   "outputs": [],
   "source": [
    "# Padre\n",
    "P = \"/Users/mmm/BioPROJECTS/MAD1 & MVA/scRNAseq PBMCs/data/original_from_10x/padre/\"\n",
    "ad_padre = sc.read_10x_h5(P + \"filtered_feature_bc_matrix.h5\")\n",
    "ad_padre.var_names_make_unique(join=\"_\")\n",
    "ad_padre.obs[\"Sample\"] = \"Father\"\n",
    "ad_padre"
   ]
  },
  {
   "cell_type": "code",
   "execution_count": null,
   "id": "39ebafe6-dfac-44b8-9f79-1f25459dfbbe",
   "metadata": {},
   "outputs": [],
   "source": [
    "# C1\n",
    "P = \"/Users/mmm/BioPROJECTS/MAD1 & MVA/scRNAseq PBMCs/data/original_from_10x/C1/\"\n",
    "ad_C1 = sc.read_10x_h5(P + \"filtered_feature_bc_matrix.h5\")\n",
    "ad_C1.var_names_make_unique(join=\"_\")\n",
    "ad_C1.obs[\"Sample\"] = \"Control1\"\n",
    "ad_C1"
   ]
  },
  {
   "cell_type": "code",
   "execution_count": null,
   "id": "3db922d1-2586-4cd1-8266-f5ca888300da",
   "metadata": {},
   "outputs": [],
   "source": [
    "# C2\n",
    "P = \"/Users/mmm/BioPROJECTS/MAD1 & MVA/scRNAseq PBMCs/data/original_from_10x/C2/\"\n",
    "ad_C2 = sc.read_10x_h5(P + \"filtered_feature_bc_matrix.h5\")\n",
    "ad_C2.var_names_make_unique(join=\"_\")\n",
    "ad_C2.obs[\"Sample\"] = \"Control2\"\n",
    "ad_C2"
   ]
  },
  {
   "cell_type": "markdown",
   "id": "ea7005ec-5611-4838-8345-b57babe0efe1",
   "metadata": {},
   "source": [
    "### Concatenate"
   ]
  },
  {
   "cell_type": "code",
   "execution_count": null,
   "id": "6c9b0bb0-3a49-44cb-af52-2dde7381a82d",
   "metadata": {},
   "outputs": [],
   "source": [
    "adata = ad_hija.concatenate(ad_madre, ad_padre, ad_C1, ad_C2, )   #index_unique=None"
   ]
  },
  {
   "cell_type": "code",
   "execution_count": null,
   "id": "a1e45828-d7d7-4dbf-a81c-aaba1d044c94",
   "metadata": {},
   "outputs": [],
   "source": [
    "adata.obs"
   ]
  },
  {
   "cell_type": "markdown",
   "id": "6d49b034-28d2-49e7-882e-bb36d39c623d",
   "metadata": {},
   "source": [
    "## Save .h5ad and .csv"
   ]
  },
  {
   "cell_type": "code",
   "execution_count": null,
   "id": "a0341b6a-75cd-45f1-9f49-546e63480b52",
   "metadata": {},
   "outputs": [],
   "source": [
    "P = \"/Users/mmm/BioPROJECTS/MAD1 & MVA/scRNAseq PBMCs/data/\"\n",
    "adata.write(P + \"210818_MAD1_PBMCs.h5ad\")"
   ]
  },
  {
   "cell_type": "code",
   "execution_count": null,
   "id": "222e7c23-2d87-49ca-8ae9-df07037c2e49",
   "metadata": {},
   "outputs": [],
   "source": [
    "adata.write_csvs(P + \"210818_MAD1_PBMCs\")"
   ]
  },
  {
   "cell_type": "code",
   "execution_count": null,
   "id": "ba2e28ca-99a1-4e1b-87ec-b8efe10de4fb",
   "metadata": {},
   "outputs": [],
   "source": []
  },
  {
   "cell_type": "markdown",
   "id": "b109047d-9b68-44fe-8778-82070e7511c5",
   "metadata": {},
   "source": [
    "## Pre-Processing"
   ]
  },
  {
   "cell_type": "code",
   "execution_count": null,
   "id": "5d1c8f27-cca0-4894-921d-a5061987ab69",
   "metadata": {},
   "outputs": [],
   "source": [
    "adata = sc.read_h5ad(\"/Users/mmm/BioPROJECTS/MAD1 & MVA/scRNAseq PBMCs/data/210818_MAD1_PBMCs.h5ad\")"
   ]
  },
  {
   "cell_type": "code",
   "execution_count": null,
   "id": "367a8edc-2f23-4781-b8f3-2af2c6e8c28d",
   "metadata": {},
   "outputs": [],
   "source": [
    "sc.pl.highest_expr_genes(adata, n_top=20, )"
   ]
  },
  {
   "cell_type": "code",
   "execution_count": null,
   "id": "5a3ddf80-2acd-4f07-a8ec-b085300799bc",
   "metadata": {},
   "outputs": [],
   "source": [
    "sc.pp.filter_cells(adata, min_genes=100)\n",
    "sc.pp.filter_genes(adata, min_cells=3)"
   ]
  },
  {
   "cell_type": "code",
   "execution_count": null,
   "id": "05c96095-d933-46fc-b145-988d91e2b213",
   "metadata": {},
   "outputs": [],
   "source": [
    "# Mithochondrial \n",
    "adata.var['mt'] = adata.var_names.str.startswith('MT-')        # annotate the group of mitochondrial genes as 'mt'\n",
    "sc.pp.calculate_qc_metrics(adata, qc_vars=['mt'], percent_top=None, log1p=False, inplace=True)"
   ]
  },
  {
   "cell_type": "code",
   "execution_count": null,
   "id": "b9b40d26-4f28-4f9e-b204-ced38f00b5c3",
   "metadata": {},
   "outputs": [],
   "source": [
    "sc.pl.violin(adata, ['n_genes_by_counts', 'total_counts', 'pct_counts_mt'],\n",
    "             jitter=0.4, multi_panel=True)"
   ]
  },
  {
   "cell_type": "code",
   "execution_count": null,
   "id": "8954b32b-5780-46e5-ad70-11921891318f",
   "metadata": {},
   "outputs": [],
   "source": [
    "sc.pl.scatter(adata, x='total_counts', y='pct_counts_mt')\n",
    "sc.pl.scatter(adata, x='total_counts', y='n_genes_by_counts')"
   ]
  },
  {
   "cell_type": "code",
   "execution_count": null,
   "id": "bff2c14a-82d2-4535-ac24-55009f7ee786",
   "metadata": {},
   "outputs": [],
   "source": [
    "# Remove cells that have too many mitochondrial genes expressed or too many total counts:\n",
    "adata = adata[adata.obs.n_genes_by_counts < 4000, :]\n",
    "adata = adata[adata.obs.pct_counts_mt < 50, :]"
   ]
  },
  {
   "cell_type": "code",
   "execution_count": null,
   "id": "3f02baf6-834d-4faf-bdda-cd95f68cde0d",
   "metadata": {},
   "outputs": [],
   "source": [
    "sc.pp.normalize_total(adata, target_sum=1e4)"
   ]
  },
  {
   "cell_type": "code",
   "execution_count": null,
   "id": "137f4155-e7b5-4590-960c-677b795deb48",
   "metadata": {},
   "outputs": [],
   "source": [
    "sc.pp.log1p(adata)"
   ]
  },
  {
   "cell_type": "code",
   "execution_count": null,
   "id": "13c967a6-7ace-49c3-9ccf-0a25087f9852",
   "metadata": {},
   "outputs": [],
   "source": [
    "# highly variable genes\n",
    "sc.pp.highly_variable_genes(adata, min_mean=0.0125, max_mean=3, min_disp=0.5)"
   ]
  },
  {
   "cell_type": "code",
   "execution_count": null,
   "id": "b7790afa-32ab-4220-b229-1a0c600d85af",
   "metadata": {},
   "outputs": [],
   "source": [
    "sc.pl.highly_variable_genes(adata)"
   ]
  },
  {
   "cell_type": "code",
   "execution_count": null,
   "id": "64ec7180-935b-4d0a-ac4f-19ca2d60b871",
   "metadata": {},
   "outputs": [],
   "source": [
    "adata.raw = adata"
   ]
  },
  {
   "cell_type": "markdown",
   "id": "9fd662fe-4937-42f7-95d9-46118387e3be",
   "metadata": {},
   "source": [
    "#### Not done\n",
    "If you don’t proceed below with correcting the data with sc.pp.regress_out and scaling it via sc.pp.scale, you can also get away without using .raw at all.\n",
    "\n",
    "The result of the previous highly-variable-genes detection is stored as an annotation in .var.highly_variable and auto-detected by PCA and hence, sc.pp.neighbors and subsequent manifold/graph tools. In that case, the step actually do the filtering below is unnecessary, too.\n",
    "\n",
    "Actually do the filtering\n",
    "\n",
    "`adata = adata[:, adata.var.highly_variable]`\n",
    "\n",
    "Regress out effects of total counts per cell and the percentage of mitochondrial genes expressed. Scale the data to unit variance.\n",
    "\n",
    "`sc.pp.regress_out(adata, ['total_counts', 'pct_counts_mt'])`\n",
    "\n",
    "regressing out ['total_counts', 'pct_counts_mt']\n",
    "    sparse input is densified and may lead to high memory use\n",
    "    finished (0:00:06)\n",
    "\n",
    "Scale each gene to unit variance. Clip values exceeding standard deviation 10.\n",
    "\n",
    "`sc.pp.scale(adata, max_value=10)`\n"
   ]
  },
  {
   "cell_type": "markdown",
   "id": "30e5f646-b3d3-46dc-9c41-fd6ed4e2961c",
   "metadata": {},
   "source": [
    "## Principal component analysis"
   ]
  },
  {
   "cell_type": "code",
   "execution_count": null,
   "id": "4d6771b6-6662-43dd-beb8-7a5ed91a82d1",
   "metadata": {},
   "outputs": [],
   "source": [
    "sc.tl.pca(adata, svd_solver='arpack')"
   ]
  },
  {
   "cell_type": "code",
   "execution_count": null,
   "id": "6fbca27b-a37c-472e-a332-2c4a7939db21",
   "metadata": {},
   "outputs": [],
   "source": [
    "sc.pl.pca(adata, color=['CST3', 'Sample'])"
   ]
  },
  {
   "cell_type": "code",
   "execution_count": null,
   "id": "12283b63-ba6c-4c90-8cdd-09816981bfed",
   "metadata": {},
   "outputs": [],
   "source": [
    "sc.pl.pca_variance_ratio(adata, log=True)"
   ]
  },
  {
   "cell_type": "code",
   "execution_count": null,
   "id": "f37e99d2-c6b9-43e3-b4fe-66a922f8b597",
   "metadata": {},
   "outputs": [],
   "source": [
    "# Save the .h5ad file\n",
    "P = \"/Users/mmm/BioPROJECTS/MAD1 & MVA/scRNAseq PBMCs/data/\"\n",
    "adata.write(P + \"210818_MAD1_PBMCs.h5ad\")"
   ]
  },
  {
   "cell_type": "markdown",
   "id": "327c224e-ce23-4bfa-97f8-686a6f048eea",
   "metadata": {},
   "source": [
    "### UMAP"
   ]
  },
  {
   "cell_type": "code",
   "execution_count": null,
   "id": "123f0642-4a09-4309-bdcb-75876e5d3716",
   "metadata": {},
   "outputs": [],
   "source": [
    "sc.pp.neighbors(adata, n_neighbors=10, n_pcs=40)\n",
    "sc.tl.umap(adata)"
   ]
  },
  {
   "cell_type": "code",
   "execution_count": null,
   "id": "42d4129d-b52a-4a01-b0ad-edf0351ccc3a",
   "metadata": {},
   "outputs": [],
   "source": [
    "sc.pl.umap(adata, color=['CST3', 'NKG7', 'PPBP'])"
   ]
  },
  {
   "cell_type": "markdown",
   "id": "7ec85674-152a-4be6-ad99-c9cc95f5d000",
   "metadata": {},
   "source": [
    "### Clustering the neighborhood graph"
   ]
  },
  {
   "cell_type": "code",
   "execution_count": null,
   "id": "25aaa0e8-7b23-4987-86d6-d69d47e3c8e6",
   "metadata": {},
   "outputs": [],
   "source": [
    "sc.tl.leiden(adata, resolution=0.3)\n",
    "sc.pl.umap(adata, color=['leiden', 'CST3', 'NKG7'])"
   ]
  },
  {
   "cell_type": "code",
   "execution_count": null,
   "id": "fe8f1667-da13-4ea7-b414-470a15628093",
   "metadata": {},
   "outputs": [],
   "source": [
    "# Save the .h5ad file\n",
    "P = \"/Users/mmm/BioPROJECTS/MAD1 & MVA/scRNAseq PBMCs/data/\"\n",
    "adata.write(P + \"210818_MAD1_PBMCs.h5ad\")"
   ]
  },
  {
   "cell_type": "code",
   "execution_count": null,
   "id": "5a334d92-d87e-4083-af71-a5565c994109",
   "metadata": {},
   "outputs": [],
   "source": [
    "adata"
   ]
  },
  {
   "cell_type": "code",
   "execution_count": null,
   "id": "19518233-ca6c-4507-aa47-2de8757b40e3",
   "metadata": {},
   "outputs": [],
   "source": [
    "adata.write_csvs(P + \"210818_MAD1_PBMCs\")"
   ]
  },
  {
   "cell_type": "code",
   "execution_count": null,
   "id": "9d558886-8538-41b2-8aa5-d0166afbd6fe",
   "metadata": {},
   "outputs": [],
   "source": [
    "adata.obs.Sample.value_counts()"
   ]
  },
  {
   "cell_type": "markdown",
   "id": "ea8ce380-c838-433d-a3b5-70d752aff901",
   "metadata": {},
   "source": [
    "- 33604 cells\n",
    "    - Proband:     6524\n",
    "    - Mother:      6102\n",
    "    - Father:      9046\n",
    "    - Control1:    4522    \n",
    "    - Control2:    7410\n",
    "- 24339 genes"
   ]
  },
  {
   "cell_type": "markdown",
   "id": "ecb3b3f7-676d-4e8a-9279-d473ae4981db",
   "metadata": {},
   "source": [
    "## Batch effect correction\n",
    "Check whether it is really needed!!!"
   ]
  },
  {
   "cell_type": "code",
   "execution_count": null,
   "id": "a3b0686d-67c1-46de-a1e1-9dfe06071aba",
   "metadata": {},
   "outputs": [],
   "source": [
    "adata = sc.read_h5ad(\"/Users/mmm/BioPROJECTS/MAD1 & MVA/scRNAseq PBMCs/data/210818_MAD1_PBMCs.h5ad\")"
   ]
  },
  {
   "cell_type": "code",
   "execution_count": null,
   "id": "cff09b6e-96c3-403b-a391-bae3f0b87a43",
   "metadata": {},
   "outputs": [],
   "source": [
    "sc.pl.umap(adata, color=['leiden', 'Sample'])"
   ]
  },
  {
   "cell_type": "markdown",
   "id": "e461a6c5-b6f9-4dbf-baa9-60579aec96a2",
   "metadata": {},
   "source": [
    "#### Possibilities: \n",
    "`sc.pp.regress_out()`, `sc.pp.combat()`, Scanorama (`scanorama.correct`), MNN_Correct (`sc.external.pp.mnn_correc`)\n",
    "#### Use sc.pp.combat()\n",
    "- Comparison of batch correction methods in Scanpy: https://www.ncbi.nlm.nih.gov/pmc/articles/PMC7338326/"
   ]
  },
  {
   "cell_type": "code",
   "execution_count": null,
   "id": "c5489a36-4da7-4c91-9719-971dbfd69beb",
   "metadata": {},
   "outputs": [],
   "source": [
    "sc.pp.regress_out(adata, keys=\"batch\")            # default in sc.pp.combat key=\"batch\""
   ]
  },
  {
   "cell_type": "code",
   "execution_count": null,
   "id": "f20114b3-cc0d-4d0a-8cd5-04697fa6d5b5",
   "metadata": {},
   "outputs": [],
   "source": [
    "sc.pp.scale(adata, max_value=10)"
   ]
  },
  {
   "cell_type": "markdown",
   "id": "d258134d-a010-482c-b24d-ee46f401920f",
   "metadata": {},
   "source": [
    "### PCA and UMAP"
   ]
  },
  {
   "cell_type": "code",
   "execution_count": null,
   "id": "fbec9ac4-7ef3-4253-b146-8957c585bb39",
   "metadata": {},
   "outputs": [],
   "source": [
    "sc.tl.pca(adata, svd_solver='arpack')"
   ]
  },
  {
   "cell_type": "code",
   "execution_count": null,
   "id": "3fb31320-2d53-437f-b213-1d852528ce51",
   "metadata": {},
   "outputs": [],
   "source": [
    "sc.pl.pca(adata, color=['CST3', 'Sample'])"
   ]
  },
  {
   "cell_type": "code",
   "execution_count": null,
   "id": "d6716a81-3c10-4f94-af47-7f0ce35e2a19",
   "metadata": {},
   "outputs": [],
   "source": [
    "sc.pp.neighbors(adata, n_neighbors=10, n_pcs=40)\n",
    "sc.tl.umap(adata)"
   ]
  },
  {
   "cell_type": "code",
   "execution_count": null,
   "id": "8786239b-2635-4651-b648-a7d87334098b",
   "metadata": {},
   "outputs": [],
   "source": [
    "sc.pl.umap(adata, color=['leiden', 'Sample'])"
   ]
  },
  {
   "cell_type": "code",
   "execution_count": null,
   "id": "9890aa45-f88d-4d23-8118-f61715b1757a",
   "metadata": {},
   "outputs": [],
   "source": []
  }
 ],
 "metadata": {
  "kernelspec": {
   "display_name": "Python 3 (ipykernel)",
   "language": "python",
   "name": "python3"
  },
  "language_info": {
   "codemirror_mode": {
    "name": "ipython",
    "version": 3
   },
   "file_extension": ".py",
   "mimetype": "text/x-python",
   "name": "python",
   "nbconvert_exporter": "python",
   "pygments_lexer": "ipython3",
   "version": "3.8.12"
  }
 },
 "nbformat": 4,
 "nbformat_minor": 5
}
