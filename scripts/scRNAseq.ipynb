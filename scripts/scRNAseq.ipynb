{
 "cells": [
  {
   "cell_type": "markdown",
   "id": "4f9d4866-ae63-47e3-b2a1-67299b7ab747",
   "metadata": {},
   "source": [
    "# MAD1 PBMC-scRNAseq data\n",
    "\n",
    "@mmm: November 26, 2021 - January 9, 2022 - February 6, 2022  \n",
    "\n",
    "### Data with combined inferCNV analysis on L3 cell classifications"
   ]
  },
  {
   "cell_type": "code",
   "execution_count": null,
   "id": "9cc0ea74-5b96-4253-9602-9fe4f6b51905",
   "metadata": {},
   "outputs": [],
   "source": [
    "import os\n",
    "import numpy as np\n",
    "import pandas as pd\n",
    "\n",
    "import matplotlib.pyplot as plt\n",
    "from matplotlib.pyplot import rc_context\n",
    "from matplotlib import rcParams\n",
    "\n",
    "import seaborn as sns\n",
    "\n",
    "import scanpy as sc\n",
    "import gseapy as gspy"
   ]
  },
  {
   "cell_type": "code",
   "execution_count": null,
   "id": "30202aaf-2f24-4946-8aaf-a1161c82ff37",
   "metadata": {},
   "outputs": [],
   "source": [
    "from IPython.display import set_matplotlib_formats\n",
    "set_matplotlib_formats('retina')\n",
    "sc.settings.set_figure_params(figsize=(4, 4))\n",
    "sc.logging.print_header()"
   ]
  },
  {
   "cell_type": "code",
   "execution_count": null,
   "id": "1263befc-5a0c-475d-af65-4f7c9e8c4d8d",
   "metadata": {},
   "outputs": [],
   "source": [
    "# Directories\n",
    "DATA = \"/Users/mmm/BioPROJECTS/MAD1 & MVA/scRNAseq PBMCs/data/\"\n",
    "DESKTOP = \"/Users/mmm/Desktop/\"\n",
    "sc.settings.figdir = \"/Users/mmm/Desktop\""
   ]
  },
  {
   "cell_type": "markdown",
   "id": "e5846751-3444-445f-9377-1e94892adb48",
   "metadata": {},
   "source": [
    "## Load data and metadata"
   ]
  },
  {
   "cell_type": "code",
   "execution_count": null,
   "id": "c811b5b7-1f53-42cd-b002-87a70c095016",
   "metadata": {},
   "outputs": [],
   "source": [
    "adata = sc.read_h5ad(DATA + \"220207_MAD1_scRNAseq.h5ad\")"
   ]
  },
  {
   "cell_type": "code",
   "execution_count": null,
   "id": "540ac481-c332-44cd-b757-6fc951742a46",
   "metadata": {},
   "outputs": [],
   "source": [
    "cmd = pd.read_csv(DATA + \"220304_cell_metadata.tsv\", sep=\"\\t\", low_memory=False)\n",
    "cmd = cmd.set_index(\"Cell\")\n",
    "adata.obs = cmd\n",
    "adata"
   ]
  },
  {
   "cell_type": "markdown",
   "id": "d7f16bc6-293f-4021-8b4f-0a0bea25cded",
   "metadata": {},
   "source": [
    "### Lists and Subsets"
   ]
  },
  {
   "cell_type": "code",
   "execution_count": null,
   "id": "c45c6391-9c85-446d-a098-5b0bd46448d5",
   "metadata": {},
   "outputs": [],
   "source": [
    "# Lists\n",
    "sample_list = [\"Control1\", \"Control2\", \"Father\", \"Mother\", \"Proband\"]\n",
    "L1 = [\"CD4 T\", \"CD8 T\", \"NK\", \"other T\", \"B\", \"Mono\", \"DC\", \"other\"]\n",
    "L2 = [\"CD4 TEM\", \"CD4 TCM\", \"CD8 Naive\", \"CD8 TEM\", \"CD8 TCM\", \"NK\", \"NK Proliferating\", \n",
    "      \"NK_CD56bright\", \"dnT\", \"gdT\", \"Treg\", \"MAIT\", \"B intermediate\", \"B memory\", \"B naive\", \n",
    "      \"CD14 Mono\", \"CD16 Mono\", \"cDC2\", \"pDC\", \"HSPC\", \"ILC\", \"Platelet\"]\n",
    "\n",
    "# Samples\n",
    "ad_proband = adata[adata.obs[\"Sample\"]==\"Proband\"]\n",
    "ad_controls = adata[adata.obs[\"Sample2\"]==\"Control\"]\n",
    "\n",
    "# Cell types\n",
    "ad_B_cells = adata[adata.obs[\"predicted.celltype.l1\"]==\"B\"]\n",
    "ad_otherT = adata[adata.obs[\"predicted.celltype.l1\"]==\"other T\"]\n",
    "\n",
    "# Aneuploid\n",
    "aneu = adata[adata.obs[\"Aneu.l3\"]== \"Aneuploid\"]\n",
    "aneu_proband = aneu[aneu.obs[\"Sample\"]==\"Proband\"]\n",
    "\n",
    "# Remove rare populations"
   ]
  },
  {
   "cell_type": "markdown",
   "id": "67d90e35-62eb-46e9-bbd3-dbe81b7e44c3",
   "metadata": {},
   "source": [
    "# Menu  <a clmass=\"anchor\" id=\"menu\"></a>\n",
    "### - [1. Statistics](#statistics)\n",
    "### - [2. Gene and score plots](#plots)\n",
    "### - [3. Analysis of Aneuploidy](#aneuploidy)\n",
    "### - [4. Differential expression](#diffexp)\n",
    "### - [5. Pathway Plots](#pathways)\n",
    "### - [6. Tumor signatures](#tumor)"
   ]
  },
  {
   "cell_type": "code",
   "execution_count": null,
   "id": "141efac3-a396-4610-a31a-7ba41703eae9",
   "metadata": {},
   "outputs": [],
   "source": []
  },
  {
   "cell_type": "markdown",
   "id": "a2917730-e0d5-4c10-87f7-16ff5b3f6d97",
   "metadata": {},
   "source": [
    "## 1. Some statistics <a class=\"anchor\" id=\"statistics\"></a>\n",
    "[Back to Menu](#menu)"
   ]
  },
  {
   "cell_type": "markdown",
   "id": "d628f275-1b2a-45a1-afaf-a33dc47a5922",
   "metadata": {},
   "source": [
    "### Cells per Sample"
   ]
  },
  {
   "cell_type": "code",
   "execution_count": null,
   "id": "3db89728-0a7a-4c3e-bd80-1fa36b85d932",
   "metadata": {},
   "outputs": [],
   "source": [
    "samples = adata.obs[\"Sample\"].value_counts()\n",
    "samples = pd.DataFrame(samples)\n",
    "samples = samples.rename(columns={\"Sample\": \"Values\"})\n",
    "samples.reset_index(inplace=True)\n",
    "samples"
   ]
  },
  {
   "cell_type": "code",
   "execution_count": null,
   "id": "3aa02cf8-49a7-4bca-991b-8a7fbca1c8e9",
   "metadata": {},
   "outputs": [],
   "source": [
    "sns.catplot(x=\"index\", y=\"Values\", data=samples, kind=\"bar\", order=sample_list,\n",
    "           height=3, aspect=1.5)"
   ]
  },
  {
   "cell_type": "code",
   "execution_count": null,
   "id": "88980505-f083-4c56-bd6f-5ab6759c6088",
   "metadata": {},
   "outputs": [],
   "source": [
    "sc.pl.umap(adata, color=\"Sample\", s=5)"
   ]
  },
  {
   "cell_type": "code",
   "execution_count": null,
   "id": "dc8a4719-3722-4f6b-abc9-d61988650852",
   "metadata": {},
   "outputs": [],
   "source": [
    "sc.pl.umap(adata, color=\"Sample\", s=5, groups=\"Proband\")"
   ]
  },
  {
   "cell_type": "code",
   "execution_count": null,
   "id": "d135a5b3-6968-4276-9c07-7aaa671fb701",
   "metadata": {},
   "outputs": [],
   "source": [
    "sc.pl.umap(adata, color=[\"predicted.celltype.l1\", \"predicted.celltype.l2\"],\n",
    "          ncols=1)"
   ]
  },
  {
   "cell_type": "code",
   "execution_count": null,
   "id": "cd8851cd-0678-404e-ab9e-ff6c6975de10",
   "metadata": {},
   "outputs": [],
   "source": [
    "sc.pl.umap(adata, color=[\"predicted.celltype.l3\"])"
   ]
  },
  {
   "cell_type": "markdown",
   "id": "06c82a57-6459-4b39-b912-1b0b85f2871d",
   "metadata": {},
   "source": [
    "## 2. Cell type markers - Gene, scores and Plots<a class=\"anchor\" id=\"plots\"></a>\n",
    "[Back to Menu](#menu)"
   ]
  },
  {
   "cell_type": "code",
   "execution_count": null,
   "id": "c4974ed2-06ba-410f-8326-df7d0234873a",
   "metadata": {},
   "outputs": [],
   "source": [
    "# T-cells\n",
    "sc.pl.umap(adata, color=[\"CD3D\", \"CD8A\", \"NKG7\", \"TRDC\", ])"
   ]
  },
  {
   "cell_type": "code",
   "execution_count": null,
   "id": "d586553e-145e-4d50-9a4a-e65e4a03d196",
   "metadata": {},
   "outputs": [],
   "source": [
    "# B-cells\n",
    "sc.pl.umap(adata, color=[\"CD79A\", \"MS4A1\", \"BANK1\", \"IGKC\", ])"
   ]
  },
  {
   "cell_type": "code",
   "execution_count": null,
   "id": "c8492619-2475-4358-87d2-43e501f2c200",
   "metadata": {},
   "outputs": [],
   "source": [
    "# Myeloid\n",
    "sc.pl.umap(adata, color=[\"CST3\", \"LYZ\", \"CD14\", \"FCER1A\", ]) \n",
    "#FCGR3A is CD16"
   ]
  },
  {
   "cell_type": "markdown",
   "id": "db7d1534-c310-40f9-b78c-017fcb7c9ac3",
   "metadata": {},
   "source": [
    "### Abundance of cell types"
   ]
  },
  {
   "cell_type": "code",
   "execution_count": null,
   "id": "26ef50aa-1bf1-488d-b0a3-e5c5586ca595",
   "metadata": {},
   "outputs": [],
   "source": [
    "# L1\n",
    "l1_per_sample = adata.obs.groupby(\"Sample\")[\"predicted.celltype.l1\"].value_counts(normalize=True)\n",
    "l1_per_sample = pd.DataFrame(l1_per_sample)\n",
    "l1_per_sample = l1_per_sample.rename(columns={\"predicted.celltype.l1\": \"Values\"})\n",
    "l1_per_sample.reset_index(inplace=True)\n",
    "l1_per_sample.head(3)"
   ]
  },
  {
   "cell_type": "code",
   "execution_count": null,
   "id": "9c52b27f-460a-4cdc-8554-52ffbd802ca3",
   "metadata": {},
   "outputs": [],
   "source": [
    "sns.catplot(x=\"predicted.celltype.l1\", y=\"Values\", data=l1_per_sample, hue=\"Sample\", kind=\"bar\",\n",
    "           height=4, aspect=1.5)"
   ]
  },
  {
   "cell_type": "code",
   "execution_count": null,
   "id": "6d1a4c75-6e1a-4ffe-bdb3-5cbd55d6822b",
   "metadata": {},
   "outputs": [],
   "source": [
    "# L2\n",
    "l2_per_sample = adata.obs.groupby(\"Sample\")[\"predicted.celltype.l2\"].value_counts(normalize=True)\n",
    "l2_per_sample = pd.DataFrame(l2_per_sample)\n",
    "l2_per_sample = l2_per_sample.rename(columns={\"predicted.celltype.l2\": \"Values\"})\n",
    "l2_per_sample.reset_index(inplace=True)\n",
    "\n",
    "sns.catplot(y=\"predicted.celltype.l2\", x=\"Values\", data=l2_per_sample, hue=\"Sample\", kind=\"bar\",\n",
    "           height=8, aspect=0.7)"
   ]
  },
  {
   "cell_type": "code",
   "execution_count": null,
   "id": "b8931558-1f68-492d-b24c-be50068dfe00",
   "metadata": {},
   "outputs": [],
   "source": [
    "# Only in other T\n",
    "l2_per_sample_otherT = otherT.obs.groupby(\"Sample\")[\"predicted.celltype.l2\"].value_counts()   #normalize=True\n",
    "l2_per_sample_otherT = pd.DataFrame(l2_per_sample_otherT)\n",
    "l2_per_sample_otherT = l2_per_sample_otherT.rename(columns={\"predicted.celltype.l2\": \"Values\"})\n",
    "l2_per_sample_otherT.reset_index(inplace=True)\n",
    "\n",
    "sns.catplot(y=\"predicted.celltype.l2\", x=\"Values\", data=l2_per_sample_otherT, hue=\"Sample\", \n",
    "            kind=\"bar\", height=4, aspect=1\n",
    "            )"
   ]
  },
  {
   "cell_type": "code",
   "execution_count": null,
   "id": "693bc905-4695-4084-a801-d8a3f1204567",
   "metadata": {},
   "outputs": [],
   "source": [
    "# L3\n",
    "l3_per_sample = adata.obs.groupby(\"Sample\")[\"predicted.celltype.l3\"].value_counts(normalize=True)\n",
    "l3_per_sample = pd.DataFrame(l3_per_sample)\n",
    "l3_per_sample = l3_per_sample.rename(columns={\"predicted.celltype.l3\": \"Values\"})\n",
    "l3_per_sample.reset_index(inplace=True)\n",
    "\n",
    "sns.catplot(y=\"predicted.celltype.l3\", x=\"Values\", data=l3_per_sample, hue=\"Sample\", kind=\"bar\",\n",
    "           height=14, aspect=0.4)"
   ]
  },
  {
   "cell_type": "markdown",
   "id": "fd0923ab-8465-48c0-84b5-9e483d1cc763",
   "metadata": {},
   "source": [
    "#### gdT and intermediate kappa B cells\n",
    "- https://azimuth.hubmapconsortium.org/references/#Human%20-%20PBMC"
   ]
  },
  {
   "cell_type": "code",
   "execution_count": null,
   "id": "59d90ed5-3543-4b9c-856c-f7ed455ccdbf",
   "metadata": {},
   "outputs": [],
   "source": [
    "gdT_list = [\"TRDC\", \"TRGC1\", \"TRGC2\", \"KLRC1\", \"NKG7\", \"TRDV2\", \"CD7\", \"TRGV9\", \"KLRD1\", \"KLRG1\"]\n",
    "gdT_list2 = [\"TRDC\", \"TRGC1\", \"TRGC2\", \"NKG7\", \"TRDV2\", \"KLRD1\", \"KLRG1\"]\n",
    "gdT_2_list = [\"KLRC2\", \"CD3G\", \"KIR3DL2\", \"CD3D\", \"TRDC\", \"TRDV1\", \"ZNF683\", \"KLRC1\", \n",
    "              \"TRGC1\", \"GZMH\"]\n",
    "gdT_4_list = [\"TRDC\", \"TIGIT\", \"KLRC2\", \"TRGC2\", \"IKZF2\", \"GCSAM\", \"FCRL6\", \"TRDV1\", \"CST7\", \"CMC1\"]\n",
    "intkappa_B_list = [\"MS4A1\", \"IGKC\", \"IGHM\", \"LINC01857\", \"MARCKS\", \"IGHD\", \"TNFRSF13B\", \"CD24\",\n",
    "                   \"FCRL2\", \"BANK1\"]\n",
    "intkappa_B_list2 = [\"IGKC\", \"IGHM\", \"LINC01857\", \"MARCKS\", ]"
   ]
  },
  {
   "cell_type": "code",
   "execution_count": null,
   "id": "a9cb5a5d-4791-4f4b-b623-b0a6c3b215f1",
   "metadata": {},
   "outputs": [],
   "source": [
    "sc.pl.dotplot(ad_otherT, gdT_list, 'Sample', standard_scale=\"var\")  \n",
    "sc.pl.dotplot(ad_otherT, gdT_list2, 'Sample', standard_scale=\"var\") "
   ]
  },
  {
   "cell_type": "code",
   "execution_count": null,
   "id": "5eee653b-4dbe-4957-9055-679b38a2ede5",
   "metadata": {},
   "outputs": [],
   "source": [
    "sc.pl.dotplot(ad_otherT, gdT_2_list, 'Sample', standard_scale=\"var\")\n",
    "sc.pl.dotplot(ad_otherT, gdT_4_list, 'Sample', standard_scale=\"var\")  "
   ]
  },
  {
   "cell_type": "code",
   "execution_count": null,
   "id": "686970d0-3b69-4513-a3dc-935be4ab98a3",
   "metadata": {},
   "outputs": [],
   "source": [
    "gdT_2_4_list = {\"Delta-gamma chains\": [\"TRGC1\", \"TRGC2\", \"TRDV1\", \"TRDV2\", \"TRDC\"], \n",
    "                \"CD3 chains\": [\"CD3G\", \"CD3D\",],\n",
    "                \"Cytotoxicity\": [\"KLRC2\", \"KLRD1\", \"KLRG1\", \"GZMH\", \"FCRL6\", \"CST7\",], \n",
    "                \"Other gdT markers\": [\"TIGIT\", \"IKZF2\", \"CMC1\"],\n",
    "               }\n",
    "\n",
    "ss = {\"TEST\": [\"CD27\", \"CD28\"]}\n",
    "\n",
    "sc.pl.dotplot(ad_otherT, gdT_2_4_list, 'Sample', standard_scale=\"var\") \n",
    "sc.pl.dotplot(ad_otherT, ss, 'Sample', ) \n",
    "sc.pl.heatmap(ad_otherT, gdT_2_4_list, groupby=\"Sample\", cmap=\"Reds\")"
   ]
  },
  {
   "cell_type": "code",
   "execution_count": null,
   "id": "db702bf7-b82d-4e1b-a93c-696df984b670",
   "metadata": {},
   "outputs": [],
   "source": [
    "sc.pl.heatmap(ad_otherT, gdT_2_4_list, groupby=\"CleanAneu.l3\", cmap=\"coolwarm\")"
   ]
  },
  {
   "cell_type": "code",
   "execution_count": null,
   "id": "ef19ec8e-0770-4266-bcf4-e0ceee082da4",
   "metadata": {},
   "outputs": [],
   "source": [
    "sc.pl.dotplot(adata, [\"PDCD1\", \"CD274\", \"CTLA4\"], groupby=\"Sample\", standard_scale=\"var\")  "
   ]
  },
  {
   "cell_type": "code",
   "execution_count": null,
   "id": "b31e7bf9-f387-457a-a4bb-b90964491fde",
   "metadata": {},
   "outputs": [],
   "source": [
    "CD4cells = adata[adata.obs[\"predicted.celltype.l1\"]==\"CD4 T\"]\n",
    "sc.pl.dotplot(CD4cells, [\"PDCD1\", \"CD274\", \"CTLA4\"], groupby=\"Sample\", standard_scale=\"var\")  \n"
   ]
  },
  {
   "cell_type": "code",
   "execution_count": null,
   "id": "2b3c5c42-fd4c-4922-93db-2b78fe56333a",
   "metadata": {},
   "outputs": [],
   "source": [
    "sc.pl.dotplot(B_cells, intkappa_B_list, 'Sample', standard_scale=\"var\")  "
   ]
  },
  {
   "cell_type": "code",
   "execution_count": null,
   "id": "caaab446-c95f-4bb3-bfeb-3ba83f61f3c5",
   "metadata": {},
   "outputs": [],
   "source": [
    "sc.pl.dotplot(B_cells, intkappa_B_list2, 'Sample', standard_scale=\"var\")  "
   ]
  },
  {
   "cell_type": "code",
   "execution_count": null,
   "id": "8551f2f5-1452-4562-a95d-da534f7f0efb",
   "metadata": {},
   "outputs": [],
   "source": [
    "sc.pl.umap(adata, color=[\"IGKC\", \"Aneu.l3\", \"Sample\", ], vmax=4.8, s=5)"
   ]
  },
  {
   "cell_type": "code",
   "execution_count": null,
   "id": "64a7aaa2-fade-43d2-98e2-a6691b24e121",
   "metadata": {},
   "outputs": [],
   "source": [
    "sc.pl.umap(adata, color=[\"ESAM\", \"Aneu.l3\", \"Sample\", ], vmax=3, s=5)"
   ]
  },
  {
   "cell_type": "code",
   "execution_count": null,
   "id": "929a9830-1cc9-457f-9505-e86767f35699",
   "metadata": {},
   "outputs": [],
   "source": [
    "sc.pl.dotplot(adata, \"ESAM\", groupby=\"predicted.celltype.l3\", standard_scale=\"var\", swap_axes=True)"
   ]
  },
  {
   "cell_type": "code",
   "execution_count": null,
   "id": "324490af-096d-48c5-9b4b-98749a4fddf0",
   "metadata": {},
   "outputs": [],
   "source": [
    "noPlat = adata[adata.obs[\"predicted.celltype.l3\"]!=\"Platelet\"]\n",
    "sc.pl.dotplot(noPlat, \"ESAM\", groupby=\"predicted.celltype.l3\", swap_axes=True)"
   ]
  },
  {
   "cell_type": "code",
   "execution_count": null,
   "id": "73a17170-06c9-4eb9-ba16-ba3d8399f611",
   "metadata": {},
   "outputs": [],
   "source": [
    "sc.pl.dotplot(adata, \"ESAM\", groupby=\"Sample\", standard_scale=\"var\")"
   ]
  },
  {
   "cell_type": "code",
   "execution_count": null,
   "id": "e2299c71-2faa-4eec-b7ac-b07ba95daa50",
   "metadata": {},
   "outputs": [],
   "source": [
    "### Cytokines\n",
    "# not found: \"CCL1\", \"CXCL11\", \"CXCL12\", \n",
    "cytokines = [ \"CCL5\", \"ICAM1\", \"IL1RN\", \"IL13\", \"MIF\", \"SERPINE1\"]\n",
    "sc.pl.dotplot(adata, cytokines, groupby=\"Sample2\", standard_scale=\"var\",)"
   ]
  },
  {
   "cell_type": "code",
   "execution_count": null,
   "id": "1c00a7d7-951b-4bb8-b2cb-a9cb1f1ed232",
   "metadata": {},
   "outputs": [],
   "source": [
    "# MHC Class II\n",
    "sc.pl.umap(ad_proband, color=[\"HLA-DRB5\", \"HLA-DQA2\", \"HLA-B\"])"
   ]
  },
  {
   "cell_type": "code",
   "execution_count": null,
   "id": "d042ec82-29e5-4e18-8f49-fdf8a9646fa5",
   "metadata": {},
   "outputs": [],
   "source": [
    "# MHC Class II\n",
    "sc.pl.umap(adata, color=[\"predicted.celltype.l1\"])"
   ]
  },
  {
   "cell_type": "markdown",
   "id": "b3ea6fa2-2eee-4003-941f-2b9f662541c4",
   "metadata": {},
   "source": [
    "## 3. Analysis of aneuploidy <a class=\"anchor\" id=\"aneuploidy\"></a>\n",
    "[Back to Menu](#menu)"
   ]
  },
  {
   "cell_type": "code",
   "execution_count": null,
   "id": "20290924-6a4d-4d83-8bcf-fb97878f721d",
   "metadata": {},
   "outputs": [],
   "source": [
    "sc.pl.umap(adata, color=[\"Sample2_Aneu.l3\"], groups=[\"Control_Aneuploid\"], palette=\"Reds\",\n",
    "          #wspace=0.4,\n",
    "          )"
   ]
  },
  {
   "cell_type": "code",
   "execution_count": null,
   "id": "67159501-b89b-4cd1-b812-12769b343b31",
   "metadata": {},
   "outputs": [],
   "source": [
    "sc.pl.umap(adata, color=[\"Sample2_Aneu.l3\"], groups=[\"Mother_Aneuploid\"], palette=\"Blues\",\n",
    "          #wspace=0.4,\n",
    "          )"
   ]
  },
  {
   "cell_type": "code",
   "execution_count": null,
   "id": "e2de23e9-6931-4b7f-8f71-afc4d94f4fd6",
   "metadata": {},
   "outputs": [],
   "source": [
    "sc.pl.umap(adata, color=[\"Aneu.l3\"], groups=[\"Aneuploid\"],\n",
    "          #wspace=0.4,\n",
    "          )"
   ]
  },
  {
   "cell_type": "code",
   "execution_count": null,
   "id": "20b6a8a8-03f8-4287-9102-c6581140612f",
   "metadata": {},
   "outputs": [],
   "source": [
    "sc.pl.umap(ad_proband, color=[\"CleanAneu.l3\"], groups=[\"CleanAneu\"], size=5)"
   ]
  },
  {
   "cell_type": "code",
   "execution_count": null,
   "id": "cb1bbd2e-a241-4221-8fa6-bb72a9d97afd",
   "metadata": {},
   "outputs": [],
   "source": [
    "ad_proband.obs[\"CleanAneu.l3\"].value_counts()"
   ]
  },
  {
   "cell_type": "code",
   "execution_count": null,
   "id": "8662bf01-6ad8-4c74-b6d8-4695fe5b9cb8",
   "metadata": {},
   "outputs": [],
   "source": [
    "sc.pl.umap(adata, color=[\"Aneu.l1\", \"Aneu.l2\", \"Aneu.l3\"],\n",
    "          wspace=0.4)"
   ]
  },
  {
   "cell_type": "code",
   "execution_count": null,
   "id": "cb774db5-50eb-49a7-bcb6-0d31b53852fc",
   "metadata": {},
   "outputs": [],
   "source": [
    "sc.pl.umap(adata, color=[\"Aneu.l1\", \"Aneu.l2\", \"Aneu.l3\"], groups=[\"Aneuploid\"],\n",
    "          wspace=0.4)"
   ]
  },
  {
   "cell_type": "markdown",
   "id": "e69c0ac0-885d-47ec-bc2f-7820c50ac549",
   "metadata": {},
   "source": [
    "### All cells"
   ]
  },
  {
   "cell_type": "code",
   "execution_count": null,
   "id": "2e4fc82d-ca3a-43a7-ad1f-a8c9fd409239",
   "metadata": {},
   "outputs": [],
   "source": [
    "g = sns.catplot(x=\"Sample\", data=adata.obs, \n",
    "                hue=\"Aneu.l1\", hue_order=[\"Euploid\", \"Aneuploid\"], kind=\"count\",\n",
    "                height=4, aspect=1.2)"
   ]
  },
  {
   "cell_type": "code",
   "execution_count": null,
   "id": "f98d3c34-1b12-488d-9374-24fc46ea38d2",
   "metadata": {},
   "outputs": [],
   "source": [
    "g = sns.catplot(x=\"Sample\", data=adata.obs, \n",
    "                hue=\"Aneu.l2\", hue_order=[\"Euploid\", \"Aneuploid\"], kind=\"count\",\n",
    "                height=4, aspect=1.2)"
   ]
  },
  {
   "cell_type": "code",
   "execution_count": null,
   "id": "4c00a20d-2acd-44f3-9f5d-efc21276b1ac",
   "metadata": {},
   "outputs": [],
   "source": [
    "x,y = 'Sample', 'Aneu.l1'\n",
    "\n",
    "(adata.obs.groupby(x)[y].value_counts(normalize=True)\n",
    "                          .mul(100)\n",
    "                          .rename('percent')\n",
    "                          .reset_index()\n",
    "                          .pipe((sns.catplot,'data'), x=x,y='percent',hue=y, kind='bar',\n",
    "                                hue_order=[\"Euploid\", \"Aneuploid\"], height=4, aspect=1.2))"
   ]
  },
  {
   "cell_type": "code",
   "execution_count": null,
   "id": "a94ebce5-e6d1-4c4d-aeb0-90aa83a43cc5",
   "metadata": {},
   "outputs": [],
   "source": [
    "adata.obs.groupby(x)[y].value_counts(normalize=True)"
   ]
  },
  {
   "cell_type": "code",
   "execution_count": null,
   "id": "109137d9-5fd6-4d01-acf1-18d05342dcf9",
   "metadata": {},
   "outputs": [],
   "source": [
    "x,y = 'Sample', 'Aneu.l2'\n",
    "\n",
    "(adata.obs.groupby(x)[y].value_counts(normalize=True)\n",
    "                          .mul(100)\n",
    "                          .rename('percent')\n",
    "                          .reset_index()\n",
    "                          .pipe((sns.catplot,'data'), x=x,y='percent',hue=y, kind='bar',\n",
    "                                hue_order=[\"Euploid\", \"Aneuploid\"], height=4, aspect=1.2))"
   ]
  },
  {
   "cell_type": "code",
   "execution_count": null,
   "id": "6ec2ef3b-5e3d-4363-a761-7770ecf61d16",
   "metadata": {},
   "outputs": [],
   "source": [
    "adata.obs.groupby(x)[y].value_counts(normalize=True)"
   ]
  },
  {
   "cell_type": "code",
   "execution_count": null,
   "id": "309e2a19-6728-4857-8a75-ad4d421c327f",
   "metadata": {},
   "outputs": [],
   "source": [
    "x,y = 'Sample', 'Aneu.l3'\n",
    "\n",
    "(adata.obs.groupby(x)[y].value_counts(normalize=True)\n",
    "                          .mul(100)\n",
    "                          .rename('percent')\n",
    "                          .reset_index()\n",
    "                          .pipe((sns.catplot,'data'), x=x,y='percent',hue=y, kind='bar',\n",
    "                                hue_order=[\"Aneuploid\"], height=4, aspect=0.7))\n",
    "plt.ylim(0,100)\n",
    "plt.xticks(rotation=90)\n",
    "plt.show()"
   ]
  },
  {
   "cell_type": "code",
   "execution_count": null,
   "id": "45108782-7a83-4825-80ca-2b152919fa20",
   "metadata": {},
   "outputs": [],
   "source": [
    "adata.obs.groupby(x)[y].value_counts(normalize=True)"
   ]
  },
  {
   "cell_type": "code",
   "execution_count": null,
   "id": "b32a3e87-59bd-4426-a084-1842b167d3fb",
   "metadata": {},
   "outputs": [],
   "source": [
    "x,y = 'predicted.celltype.l1', 'Aneu.l3'\n",
    "\n",
    "(adata.obs.groupby(x)[y].value_counts(normalize=True)\n",
    "                          .mul(100)\n",
    "                          .rename('percent')\n",
    "                          .reset_index()\n",
    "                          .pipe((sns.catplot,'data'), x=x,y='percent',hue=y, kind='bar',\n",
    "                                hue_order=[\"Euploid\", \"Aneuploid\"], height=4, aspect=1.5))"
   ]
  },
  {
   "cell_type": "code",
   "execution_count": null,
   "id": "734f1a0e-c7bf-4970-bc1f-f315824323cc",
   "metadata": {},
   "outputs": [],
   "source": [
    "# ONly in the proband\n",
    "x,y = 'predicted.celltype.l1', 'Aneu.l3'\n",
    "\n",
    "(proband.obs.groupby(x)[y].value_counts(normalize=True)\n",
    "                          .mul(100)\n",
    "                          .rename('percent')\n",
    "                          .reset_index()\n",
    "                          .pipe((sns.catplot,'data'), x=x,y='percent',hue=y, kind='bar',\n",
    "                                hue_order=[\"Euploid\", \"Aneuploid\"], height=4, aspect=1.5))"
   ]
  },
  {
   "cell_type": "code",
   "execution_count": null,
   "id": "3748d33e-7200-4f1e-9d04-5298f789aebe",
   "metadata": {},
   "outputs": [],
   "source": [
    "x,y = 'predicted.celltype.l2', 'Aneu.l3'\n",
    "\n",
    "(adata.obs.groupby(x)[y].value_counts(normalize=True)\n",
    "                          .mul(100)\n",
    "                          .rename('percent')\n",
    "                          .reset_index()\n",
    "                          .pipe((sns.catplot,'data'), x=x,y='percent',hue=y, kind='bar',\n",
    "                               height=3, aspect=8))\n"
   ]
  },
  {
   "cell_type": "code",
   "execution_count": null,
   "id": "bfcce224-7cbe-498c-92db-e0b6c0bd11ee",
   "metadata": {},
   "outputs": [],
   "source": [
    "percent = (adata.obs.groupby(x)[y].value_counts(normalize=True)\n",
    "                          .mul(100)\n",
    "                          .rename('percent')\n",
    "                          .reset_index())\n",
    "g = sns.catplot(x=x, y=\"percent\", data=percent, hue=y, kind=\"bar\", height=2.5, aspect=4,\n",
    "               hue_order=[\"Euploid\", \"Aneuploid\"],)\n",
    "plt.xticks(rotation=90)\n",
    "plt.show()"
   ]
  },
  {
   "cell_type": "code",
   "execution_count": null,
   "id": "6a6e7ce0-80c5-4d37-9903-42fc77ef990f",
   "metadata": {},
   "outputs": [],
   "source": [
    "# ONly in the proband\n",
    "percent = (proband.obs.groupby(x)[y].value_counts(normalize=True)\n",
    "                          .mul(100)\n",
    "                          .rename('percent')\n",
    "                          .reset_index())\n",
    "g = sns.catplot(x=x, y=\"percent\", data=percent, hue=y, kind=\"bar\", height=2.5, aspect=4,\n",
    "               hue_order=[\"Euploid\", \"Aneuploid\"],)\n",
    "plt.xticks(rotation=90)\n",
    "plt.show()"
   ]
  },
  {
   "cell_type": "code",
   "execution_count": null,
   "id": "e41905d7-9485-4705-afed-d2a2f0cf9e77",
   "metadata": {},
   "outputs": [],
   "source": [
    "# ONly in the proband\n",
    "\n",
    "x,y = 'predicted.celltype.l3', 'Aneu.l3'\n",
    "\n",
    "percent = (proband.obs.groupby(x)[y].value_counts(normalize=True)\n",
    "                          .mul(100)\n",
    "                          .rename('percent')\n",
    "                          .reset_index())\n",
    "g = sns.catplot(x=x, y=\"percent\", data=percent, hue=y, kind=\"bar\", height=2.5, aspect=6,\n",
    "               hue_order=[\"Euploid\", \"Aneuploid\"],)\n",
    "plt.xticks(rotation=90)\n",
    "plt.show()"
   ]
  },
  {
   "cell_type": "markdown",
   "id": "5cd20623-3e03-4f6e-b931-da80cfe2bbe0",
   "metadata": {},
   "source": [
    "### Compare Controls vs Proband"
   ]
  },
  {
   "cell_type": "code",
   "execution_count": null,
   "id": "6a8c03ad-59bf-43a3-a1f7-9b05fd4bd231",
   "metadata": {},
   "outputs": [],
   "source": [
    "# Remove ASDC (no ASDC cells in the proband)\n",
    "df = pd.read_csv(DATA + \"211126_cell_metadata_noASDC.tsv\", sep=\"\\t\")\n",
    "print(len(adata.obs[\"predicted.celltype.l2\"].unique()))\n",
    "print(len(df[\"predicted.celltype.l2\"].unique()))"
   ]
  },
  {
   "cell_type": "code",
   "execution_count": null,
   "id": "9afdee8c-85b0-4b9a-8724-d8fdaf9d334b",
   "metadata": {},
   "outputs": [],
   "source": [
    "controls = df[(df[\"Sample\"]==\"Control1\") | (df[\"Sample\"]==\"Control2\")]\n",
    "proband = df[df[\"Sample\"]==\"Proband\"]\n",
    "print(controls.shape)\n",
    "print(proband.shape)\n",
    "print(len(controls[\"predicted.celltype.l2\"].unique()))\n",
    "print(len(proband[\"predicted.celltype.l2\"].unique()))"
   ]
  },
  {
   "cell_type": "code",
   "execution_count": null,
   "id": "5940eb1e-e8ed-4fc5-af78-7e9c783df8cb",
   "metadata": {},
   "outputs": [],
   "source": [
    "x,y = 'predicted.celltype.l1', 'Aneu.l3'\n",
    "\n",
    "(controls.groupby(x)[y].value_counts(normalize=True)\n",
    "                          .mul(100)\n",
    "                          .rename('percent')\n",
    "                          .reset_index()\n",
    "                          .pipe((sns.catplot,'data'), x=x,y='percent',hue=y, kind='bar',\n",
    "                                hue_order=[\"Euploid\", \"Aneuploid\"], height=4, aspect=1.5))"
   ]
  },
  {
   "cell_type": "code",
   "execution_count": null,
   "id": "72c9add8-bcf8-4bbd-a906-2b0fb6e0960c",
   "metadata": {},
   "outputs": [],
   "source": [
    "x,y = 'predicted.celltype.l1', 'Aneu.l3'\n",
    "\n",
    "(proband.groupby(x)[y].value_counts(normalize=True)\n",
    "                          .mul(100)\n",
    "                          .rename('percent')\n",
    "                          .reset_index()\n",
    "                          .pipe((sns.catplot,'data'), x=x,y='percent',hue=y, kind='bar',\n",
    "                                hue_order=[\"Euploid\", \"Aneuploid\"], height=4, aspect=1.5))"
   ]
  },
  {
   "cell_type": "code",
   "execution_count": null,
   "id": "9633acd7-b12a-414c-8868-cae04db4946e",
   "metadata": {},
   "outputs": [],
   "source": [
    "x,y = 'predicted.celltype.l1', 'Aneu.l3'\n",
    "\n",
    "percent_controls = (controls.groupby(x)[y].value_counts(normalize=True)\n",
    "                          .mul(100)\n",
    "                          .rename('percent')\n",
    "                          .reset_index())\n",
    "g = sns.catplot(x=x, y=\"percent\", data=percent_controls, hue=y, hue_order=[\"Aneuploid\"], \n",
    "                kind=\"bar\", height=3, aspect=1.5)\n",
    "plt.xticks(rotation=90)\n",
    "plt.ylim(0,100)\n",
    "plt.show()"
   ]
  },
  {
   "cell_type": "code",
   "execution_count": null,
   "id": "217c9002-1a22-4d3d-8ede-5da73ed9517e",
   "metadata": {},
   "outputs": [],
   "source": [
    "x,y = 'predicted.celltype.l1', 'Aneu.l3'\n",
    "\n",
    "percent_controls = (proband.groupby(x)[y].value_counts(normalize=True)\n",
    "                          .mul(100)\n",
    "                          .rename('percent')\n",
    "                          .reset_index())\n",
    "g = sns.catplot(x=x, y=\"percent\", data=percent_controls, hue=y, hue_order=[\"Aneuploid\"], \n",
    "                kind=\"bar\", height=3, aspect=1.5)\n",
    "plt.xticks(rotation=90)\n",
    "plt.ylim(0,100)\n",
    "plt.show()"
   ]
  },
  {
   "cell_type": "code",
   "execution_count": null,
   "id": "18f11a62-8232-4085-9c90-cecd4a933b6f",
   "metadata": {},
   "outputs": [],
   "source": [
    "x,y = 'predicted.celltype.l2', 'Aneu.l3'\n",
    "percent_controls = (controls.groupby(x)[y].value_counts(normalize=True)\n",
    "                          .mul(100)\n",
    "                          .rename('percent')\n",
    "                          .reset_index())\n",
    "g = sns.catplot(x=x, y=\"percent\", data=percent_controls, hue=y, kind=\"bar\", height=3, aspect=3)\n",
    "plt.xticks(rotation=90)\n",
    "plt.show()"
   ]
  },
  {
   "cell_type": "code",
   "execution_count": null,
   "id": "3db838d8-8037-494e-94bb-4edc748a97ab",
   "metadata": {},
   "outputs": [],
   "source": [
    "x,y = 'predicted.celltype.l2', 'Aneu.l3'\n",
    "percent_controls = (controls.groupby(x)[y].value_counts(normalize=True)\n",
    "                          .mul(100)\n",
    "                          .rename('percent')\n",
    "                          .reset_index())\n",
    "g = sns.catplot(x=x, y=\"percent\", data=percent_controls, hue=y, hue_order=[\"Aneuploid\"],\n",
    "                kind=\"bar\", height=3, aspect=3)\n",
    "plt.xticks(rotation=90)\n",
    "plt.ylim(0,100)\n",
    "plt.show()"
   ]
  },
  {
   "cell_type": "code",
   "execution_count": null,
   "id": "74dedbe6-4553-492f-8054-a6e84bdcb580",
   "metadata": {},
   "outputs": [],
   "source": [
    "x,y = 'predicted.celltype.l2', 'Aneu.l3'\n",
    "percent_proband = (proband.groupby(x)[y].value_counts(normalize=True)\n",
    "                          .mul(100)\n",
    "                          .rename('percent')\n",
    "                          .reset_index())\n",
    "g = sns.catplot(x=x, y=\"percent\", data=percent_proband, hue=y, hue_order=[\"Euploid\", \"Aneuploid\"],\n",
    "                kind=\"bar\", height=3, aspect=3)\n",
    "plt.xticks(rotation=90)\n",
    "plt.show()"
   ]
  },
  {
   "cell_type": "code",
   "execution_count": null,
   "id": "e5b9182e-2f36-4be3-bf1d-91fc36b0c853",
   "metadata": {},
   "outputs": [],
   "source": [
    "x,y = 'predicted.celltype.l2', 'Aneu.l3'\n",
    "percent_proband = (proband.groupby(x)[y].value_counts(normalize=True)\n",
    "                          .mul(100)\n",
    "                          .rename('percent')\n",
    "                          .reset_index())\n",
    "g = sns.catplot(x=x, y=\"percent\", data=percent_proband, hue=y, hue_order=[\"Aneuploid\"],\n",
    "                kind=\"bar\", height=3, aspect=3)\n",
    "plt.xticks(rotation=90)\n",
    "plt.ylim(0,100)\n",
    "plt.show()"
   ]
  },
  {
   "cell_type": "code",
   "execution_count": null,
   "id": "c1e36fb2-a46c-4621-b916-f279b5f47673",
   "metadata": {},
   "outputs": [],
   "source": [
    "controls.groupby(x)[y].value_counts()"
   ]
  },
  {
   "cell_type": "code",
   "execution_count": null,
   "id": "fd737f0b-6e02-436f-9751-7e586f15e22b",
   "metadata": {},
   "outputs": [],
   "source": [
    "x,y = 'predicted.celltype.l3', 'Aneu.l3'\n",
    "df = controls\n",
    "\n",
    "percent = (df.groupby(x)[y].value_counts(normalize=True)\n",
    "                          .mul(100)\n",
    "                          .rename('percent')\n",
    "                          .reset_index())\n",
    "g = sns.catplot(x=x, y=\"percent\", data=percent, hue=y, hue_order=[\"Aneuploid\"],\n",
    "                kind=\"bar\", height=3, aspect=4)\n",
    "plt.xticks(rotation=90)\n",
    "plt.ylim(0,100)\n",
    "plt.show()"
   ]
  },
  {
   "cell_type": "code",
   "execution_count": null,
   "id": "57bf1620-c961-4841-bc95-7dbe31fb3228",
   "metadata": {},
   "outputs": [],
   "source": [
    "x,y = 'predicted.celltype.l3', 'Aneu.l3'\n",
    "df = proband\n",
    "\n",
    "percent = (df.groupby(x)[y].value_counts(normalize=True)\n",
    "                          .mul(100)\n",
    "                          .rename('percent')\n",
    "                          .reset_index())\n",
    "g = sns.catplot(x=x, y=\"percent\", data=percent, hue=y, hue_order=[\"Aneuploid\"],\n",
    "                kind=\"bar\", height=3, aspect=4)\n",
    "plt.xticks(rotation=90)\n",
    "plt.ylim(0,100)\n",
    "plt.show()"
   ]
  },
  {
   "cell_type": "code",
   "execution_count": null,
   "id": "e6bd3ba1-6b5b-416b-a62f-1ad5c646fbe6",
   "metadata": {},
   "outputs": [],
   "source": [
    "x,y = 'predicted.celltype.l2', 'Aneu.l3'\n",
    "proband.groupby(x)[y].value_counts(normalize=True)"
   ]
  },
  {
   "cell_type": "code",
   "execution_count": null,
   "id": "f0d67996-b069-467c-87da-7aafbfb3abca",
   "metadata": {},
   "outputs": [],
   "source": [
    "x,y = 'predicted.celltype.l2', 'Aneu.l3'\n",
    "proband.groupby(x)[y].value_counts()"
   ]
  },
  {
   "cell_type": "code",
   "execution_count": null,
   "id": "983eccf1-1164-4d8b-9b1a-a991baa465e9",
   "metadata": {},
   "outputs": [],
   "source": []
  },
  {
   "cell_type": "markdown",
   "id": "96ce0443-e412-46ea-be75-cfc14426e097",
   "metadata": {},
   "source": [
    "## Clean celltypes - Remove low represented populations in the proband (n>10)"
   ]
  },
  {
   "cell_type": "code",
   "execution_count": null,
   "id": "790755dc-385d-4928-b5cc-5220ee423c86",
   "metadata": {},
   "outputs": [],
   "source": [
    "print(ad_proband.shape)\n",
    "print(ad_controls.shape)"
   ]
  },
  {
   "cell_type": "code",
   "execution_count": null,
   "id": "8b8cb341-d552-41f5-a570-3ce026f8138c",
   "metadata": {},
   "outputs": [],
   "source": [
    "# Celltypes to remove\n",
    "f_ASDC = adata.obs[\"predicted.celltype.l2\"]!= \"ASDC\"\n",
    "f_CD4_Naive = adata.obs[\"predicted.celltype.l2\"]!= \"CD4 Naive\"\n",
    "f_CD4_Proliferating = adata.obs[\"predicted.celltype.l2\"]!= \"CD4 Proliferating\"\n",
    "f_CD8_Proliferating = adata.obs[\"predicted.celltype.l2\"]!= \"CD8 Proliferating\"\n",
    "f_CD8_TCM = adata.obs[\"predicted.celltype.l2\"]!= \"CD8 TCM\"\n",
    "f_NK_Proliferating = adata.obs[\"predicted.celltype.l2\"]!= \"NK Proliferating\"\n",
    "f_Plasmablast = adata.obs[\"predicted.celltype.l2\"]!= \"Plasmablast\"\n",
    "f_cDC1 = adata.obs[\"predicted.celltype.l2\"]!= \"cDC1\"\n",
    "f_dnT = adata.obs[\"predicted.celltype.l2\"]!= \"dnT\"\n",
    "\n",
    "f_Platelet = adata.obs[\"predicted.celltype.l2\"]!= \"Platelet\""
   ]
  },
  {
   "cell_type": "code",
   "execution_count": null,
   "id": "1c2016d3-a5f7-4e1f-9566-b72332eaba99",
   "metadata": {},
   "outputs": [],
   "source": [
    "ad_L2_clean = adata[f_ASDC & f_CD4_Naive & f_CD4_Proliferating & f_CD8_Proliferating & f_CD8_TCM &\n",
    "                    f_NK_Proliferating & f_Plasmablast & f_cDC1 & f_dnT & f_Platelet]"
   ]
  },
  {
   "cell_type": "code",
   "execution_count": null,
   "id": "9d100595-289e-4b20-8f91-83476ea6c8fa",
   "metadata": {},
   "outputs": [],
   "source": [
    "ad_proband_L2_clean = ad_L2_clean[ad_L2_clean.obs[\"Sample\"]==\"Proband\"]\n",
    "ad_controls_L2_clean = ad_L2_clean[ad_L2_clean.obs[\"Sample2\"]==\"Control\"]"
   ]
  },
  {
   "cell_type": "code",
   "execution_count": null,
   "id": "4a2f0990-e5bd-4ca0-b983-52fbd011416c",
   "metadata": {},
   "outputs": [],
   "source": [
    "print(ad_proband_L2_clean.shape)\n",
    "print(ad_controls_L2_clean.shape)"
   ]
  },
  {
   "cell_type": "markdown",
   "id": "4863e176-102f-4d1f-9deb-c8ffb1a4f5a0",
   "metadata": {},
   "source": [
    "### Plots"
   ]
  },
  {
   "cell_type": "markdown",
   "id": "c5c5853c-b33d-4770-af39-8e535293346a",
   "metadata": {},
   "source": [
    "### L1"
   ]
  },
  {
   "cell_type": "code",
   "execution_count": null,
   "id": "9d87aeec-37ed-43f9-a1f4-c76e0f04f634",
   "metadata": {},
   "outputs": [],
   "source": [
    "ad_controls_L2_clean.obs.groupby(\"predicted.celltype.l1\")['predicted.celltype.l1'].value_counts()"
   ]
  },
  {
   "cell_type": "code",
   "execution_count": null,
   "id": "78a12f56-0159-4e5c-9d36-129a7a996745",
   "metadata": {},
   "outputs": [],
   "source": [
    "x,y = 'predicted.celltype.l1', 'CleanAneu.l3'\n",
    "percent = (ad_controls_L2_clean.obs.groupby(x)[y].value_counts(normalize=True)\n",
    "                          .mul(100)\n",
    "                          .rename('percent')\n",
    "                          .reset_index())\n",
    "g = sns.catplot(x=x, y=\"percent\", data=percent, hue=y, hue_order=[\"CleanAneu\"],\n",
    "                kind=\"bar\", height=3, aspect=1)\n",
    "plt.xticks(rotation=90)\n",
    "plt.ylim(0,100)\n",
    "plt.show()"
   ]
  },
  {
   "cell_type": "code",
   "execution_count": null,
   "id": "879e553a-63f0-4530-be0d-7228558d953e",
   "metadata": {},
   "outputs": [],
   "source": [
    "ad_controls_L2_clean.obs.groupby('predicted.celltype.l1')[\"CleanAneu.l3\"].value_counts()"
   ]
  },
  {
   "cell_type": "code",
   "execution_count": null,
   "id": "415199e3-53e2-44da-b928-d477a1884748",
   "metadata": {},
   "outputs": [],
   "source": [
    "x,y = 'predicted.celltype.l1', 'CleanAneu.l3'\n",
    "percent = (ad_proband_L2_clean.obs.groupby(x)[y].value_counts(normalize=True)\n",
    "                          .mul(100)\n",
    "                          .rename('percent')\n",
    "                          .reset_index())\n",
    "g = sns.catplot(x=x, y=\"percent\", data=percent, hue=y, hue_order=[\"CleanAneu\"],\n",
    "                kind=\"bar\", height=3, aspect=1)\n",
    "plt.xticks(rotation=90)\n",
    "plt.ylim(0,100)\n",
    "plt.show()"
   ]
  },
  {
   "cell_type": "markdown",
   "id": "8315aba4-c2c6-47bf-8e92-5c74bb7b1d1a",
   "metadata": {},
   "source": [
    "### L2"
   ]
  },
  {
   "cell_type": "code",
   "execution_count": null,
   "id": "196787de-657b-4d9c-b064-bc971da96da4",
   "metadata": {},
   "outputs": [],
   "source": [
    "x,y = 'predicted.celltype.l2', 'Aneu.l3'\n",
    "percent = (ad_controls_L2_clean.obs.groupby(x)[y].value_counts(normalize=True)\n",
    "                          .mul(100)\n",
    "                          .rename('percent')\n",
    "                          .reset_index())\n",
    "g = sns.catplot(x=x, y=\"percent\", data=percent, hue=y, hue_order=[\"Aneuploid\"],\n",
    "                kind=\"bar\", height=3, aspect=2.4)\n",
    "plt.xticks(rotation=90)\n",
    "plt.ylim(0,100)\n",
    "plt.show()"
   ]
  },
  {
   "cell_type": "code",
   "execution_count": null,
   "id": "7fdf2825-914f-4800-82df-e174a02f6f07",
   "metadata": {},
   "outputs": [],
   "source": [
    "x,y = 'predicted.celltype.l2', 'Aneu.l3'\n",
    "percent = (ad_proband_L2_clean.obs.groupby(x)[y].value_counts(normalize=True)\n",
    "                          .mul(100)\n",
    "                          .rename('percent')\n",
    "                          .reset_index())\n",
    "g = sns.catplot(x=x, y=\"percent\", data=percent, hue=y, hue_order=[\"Aneuploid\"],\n",
    "                kind=\"bar\", height=3, aspect=2.4)\n",
    "plt.xticks(rotation=90)\n",
    "plt.ylim(0,100)\n",
    "plt.show()"
   ]
  },
  {
   "cell_type": "markdown",
   "id": "529af6d4-17c7-4601-b27c-13e049c49f77",
   "metadata": {},
   "source": [
    "### L3"
   ]
  },
  {
   "cell_type": "code",
   "execution_count": null,
   "id": "2c9f5486-f852-4667-ae6a-bbef095fb6c9",
   "metadata": {},
   "outputs": [],
   "source": [
    "ad_controls_L2_clean.obs.groupby(\"predicted.celltype.l3\")['predicted.celltype.l3'].value_counts()"
   ]
  },
  {
   "cell_type": "code",
   "execution_count": null,
   "id": "777d00b5-d2d4-4c74-963e-6e7bbbe64952",
   "metadata": {},
   "outputs": [],
   "source": [
    "# Celltypes to remove\n",
    "f_ASDC_mDC = ad_L2_clean.obs[\"predicted.celltype.l3\"]!= \"ASDC_mDC\"\n",
    "f_CD4_TEM_3 = ad_L2_clean.obs[\"predicted.celltype.l3\"]!= \"CD4 TEM_3\"\n",
    "f_CD8_TCM_2 = ad_L2_clean.obs[\"predicted.celltype.l3\"]!= \"CD8 TCM_2\"\n",
    "f_CD8_TCM_3 = ad_L2_clean.obs[\"predicted.celltype.l3\"]!= \"CD8 TCM_3\"\n",
    "f_CD8_TEM_3 = ad_L2_clean.obs[\"predicted.celltype.l3\"]!= \"CD8 TEM_3\"\n",
    "f_CD8_TEM_4 = ad_L2_clean.obs[\"predicted.celltype.l3\"]!= \"CD8 TEM_4\"\n",
    "f_Platelet_L3 = ad_L2_clean.obs[\"predicted.celltype.l3\"]!= \"Platelet\"\n",
    "f_dnT_2 = ad_L2_clean.obs[\"predicted.celltype.l3\"]!= \"dnT_2\"\n",
    "\n",
    "f_B_memory_lambda = ad_L2_clean.obs[\"predicted.celltype.l3\"]!= \"B memory lambda\"\n",
    "f_CD4_Naive = ad_L2_clean.obs[\"predicted.celltype.l3\"]!= \"CD4 Naive\"\n",
    "f_CD8_Naive = ad_L2_clean.obs[\"predicted.celltype.l3\"]!= \"CD8 Naive\"\n",
    "f_NK_1 = ad_L2_clean.obs[\"predicted.celltype.l3\"]!= \"NK_1\"\n",
    "f_cDC2_1 = ad_L2_clean.obs[\"predicted.celltype.l3\"]!= \"cDC2_1\"\n"
   ]
  },
  {
   "cell_type": "code",
   "execution_count": null,
   "id": "f401cb5d-eea2-45d2-8291-cf1880ce5f89",
   "metadata": {},
   "outputs": [],
   "source": [
    "ad_L3_clean = ad_L2_clean[f_ASDC_mDC & f_CD4_TEM_3 & f_CD8_TCM_2 & f_CD8_TCM_3 & f_CD8_TEM_3 & f_CD8_TEM_4 &\n",
    "                          f_Platelet_L3 & f_dnT_2 & f_B_memory_lambda & f_CD4_Naive & f_CD8_Naive &\n",
    "                          f_NK_1 & f_cDC2_1]\n",
    "\n",
    "ad_proband_L3_clean = ad_L3_clean[ad_L3_clean.obs[\"Sample\"]==\"Proband\"]\n",
    "ad_controls_L3_clean = ad_L3_clean[ad_L3_clean.obs[\"Sample2\"]==\"Control\"]"
   ]
  },
  {
   "cell_type": "code",
   "execution_count": null,
   "id": "31e84157-1d51-407b-ad0b-4305885f62f8",
   "metadata": {},
   "outputs": [],
   "source": [
    "x,y = 'predicted.celltype.l3', 'Aneu.l3'\n",
    "percent = (ad_controls_L3_clean.obs.groupby(x)[y].value_counts(normalize=True)\n",
    "                          .mul(100)\n",
    "                          .rename('percent')\n",
    "                          .reset_index())\n",
    "g = sns.catplot(x=x, y=\"percent\", data=percent, hue=y, hue_order=[\"Aneuploid\"],\n",
    "                kind=\"bar\", height=3, aspect=3.4)\n",
    "plt.xticks(rotation=90)\n",
    "plt.ylim(0,100)\n",
    "plt.show()"
   ]
  },
  {
   "cell_type": "code",
   "execution_count": null,
   "id": "aa0bd87b-73e1-4055-ac48-6d8d9f734a58",
   "metadata": {},
   "outputs": [],
   "source": [
    "x,y = 'predicted.celltype.l3', 'Aneu.l3'\n",
    "percent = (ad_proband_L3_clean.obs.groupby(x)[y].value_counts(normalize=True)\n",
    "                          .mul(100)\n",
    "                          .rename('percent')\n",
    "                          .reset_index())\n",
    "g = sns.catplot(x=x, y=\"percent\", data=percent, hue=y, hue_order=[\"Aneuploid\"],\n",
    "                kind=\"bar\", height=3, aspect=3.4)\n",
    "plt.xticks(rotation=90)\n",
    "plt.ylim(0,100)\n",
    "plt.show()"
   ]
  },
  {
   "cell_type": "code",
   "execution_count": null,
   "id": "3f466ffc-a25c-462e-aa1f-e2617b0c988a",
   "metadata": {},
   "outputs": [],
   "source": [
    "ad_proband_L3_clean.obs.groupby(\"predicted.celltype.l3\")['predicted.celltype.l3'].value_counts()"
   ]
  },
  {
   "cell_type": "markdown",
   "id": "c82ac8d9-5a73-4451-b890-4249cbfca7da",
   "metadata": {},
   "source": [
    "### Chromosomes"
   ]
  },
  {
   "cell_type": "code",
   "execution_count": null,
   "id": "00118bc7-22a0-4530-9571-11427c9914c2",
   "metadata": {},
   "outputs": [],
   "source": [
    "adata.obs[\"GLs\"].value_counts(normalize=True)"
   ]
  },
  {
   "cell_type": "code",
   "execution_count": null,
   "id": "64f5cce5-e845-4d40-a8f0-f2ba93b6d316",
   "metadata": {},
   "outputs": [],
   "source": [
    "aneu_proband = aneu[aneu.obs[\"Sample\"]==\"Proband\"]"
   ]
  },
  {
   "cell_type": "code",
   "execution_count": null,
   "id": "7328acbd-1b00-4df5-b3c8-9fc55b702c21",
   "metadata": {},
   "outputs": [],
   "source": [
    "aneu_proband.obs[\"GLs\"].value_counts(normalize=True)"
   ]
  },
  {
   "cell_type": "code",
   "execution_count": null,
   "id": "1f34bf01-c650-41d3-83c8-4f3f85bebea7",
   "metadata": {},
   "outputs": [],
   "source": [
    "plt.subplots(figsize=(3,3))\n",
    "aneu_proband.obs[\"GLs\"].value_counts(normalize=True)[:12].plot(kind=\"bar\")\n",
    "plt.ylim(0,0.15)"
   ]
  },
  {
   "cell_type": "code",
   "execution_count": null,
   "id": "2bf0d19a-25e5-4aa3-8f5e-005e33e844e9",
   "metadata": {},
   "outputs": [],
   "source": [
    "pepe = (aneu_proband.obs[\"GLs\"].value_counts(normalize=True)[:12]\n",
    "                    .mul(100)\n",
    "                    .rename('percent')\n",
    "                    .reset_index())\n",
    "pepe.plot(kind=\"bar\")"
   ]
  },
  {
   "cell_type": "code",
   "execution_count": null,
   "id": "78796557-128b-4741-bad6-18fe6a1fff45",
   "metadata": {},
   "outputs": [],
   "source": [
    "sns.barplot(x=\"index\", y=\"percent\", data=pepe)"
   ]
  },
  {
   "cell_type": "code",
   "execution_count": null,
   "id": "97d3ce4f-d239-4d5b-9ed7-fffcb0457b33",
   "metadata": {},
   "outputs": [],
   "source": [
    "plot = (aneu_proband.obs[\"GLs\"].value_counts(normalize=True)[:12]\n",
    "                    .mul(100)\n",
    "                    .rename('percent')\n",
    "                    .reset_index())\n",
    "g = sns.catplot(x=\"index\", y=\"percent\", data=plot[:12], #hue=y, hue_order=[\"Aneuploid\"],\n",
    "                kind=\"bar\", height=3, aspect=3.4)\n",
    "plt.xticks(rotation=90)\n",
    "plt.ylim(0,100)\n",
    "plt.show()"
   ]
  },
  {
   "cell_type": "code",
   "execution_count": null,
   "id": "6647b4f4-016a-4563-8c1e-de8283275b71",
   "metadata": {},
   "outputs": [],
   "source": [
    "aneu_proband.obs[\"AneuScore\"].value_counts(normalize=True)"
   ]
  },
  {
   "cell_type": "code",
   "execution_count": null,
   "id": "dc111b7d-f94c-481b-a628-27ed8e4939e6",
   "metadata": {},
   "outputs": [],
   "source": [
    "plt.subplots(figsize=(3,4))\n",
    "aneu_proband.obs[\"AneuScore\"].value_counts(normalize=True).plot(kind=\"bar\")"
   ]
  },
  {
   "cell_type": "code",
   "execution_count": null,
   "id": "4b77a5b6-87bd-4b51-88f3-4572277bc274",
   "metadata": {},
   "outputs": [],
   "source": [
    "aneu_proband_AS2 = aneu_proband[aneu_proband.obs[\"AneuScore\"]>1]\n",
    "plt.subplots(figsize=(3,3))\n",
    "aneu_proband_AS2.obs[\"GLs\"].value_counts(normalize=True)[:12].plot(kind=\"bar\")\n",
    "plt.ylim(0,0.05)"
   ]
  },
  {
   "cell_type": "code",
   "execution_count": null,
   "id": "570a2a70-d922-4fd6-8dd0-865b909dc11f",
   "metadata": {},
   "outputs": [],
   "source": [
    "sc.pl.umap(aneu_proband, color=[\"G12\", \"G18\", \"G21\"])"
   ]
  },
  {
   "cell_type": "code",
   "execution_count": null,
   "id": "861d961e-f565-414e-a5f3-69ea40362dcc",
   "metadata": {},
   "outputs": [],
   "source": [
    "sc.pl.umap(aneu_proband, color=[\"G07\", \"G08\", \"G11\"])"
   ]
  },
  {
   "cell_type": "code",
   "execution_count": null,
   "id": "4fc23f50-f5fa-432e-8aee-7f951a57739e",
   "metadata": {},
   "outputs": [],
   "source": [
    "sc.pl.umap(aneu_proband, color=[\"G12\", \"L12\", \"G18\", \"G21\"])"
   ]
  },
  {
   "cell_type": "markdown",
   "id": "1accc776-de26-4931-9c5d-cc4f0c1f69ed",
   "metadata": {},
   "source": [
    "### Gains / Losses per celltype"
   ]
  },
  {
   "cell_type": "markdown",
   "id": "eec4427e-8535-4a9a-b6e1-098a061edcff",
   "metadata": {},
   "source": [
    "#### L1"
   ]
  },
  {
   "cell_type": "code",
   "execution_count": null,
   "id": "b3f8645d-62b8-4b48-badc-6783db39efc3",
   "metadata": {},
   "outputs": [],
   "source": [
    "ad_aneu_L2_clean = ad_L2_clean[ad_L2_clean.obs[\"Aneu.l3\"]==\"Aneuploid\"]\n",
    "ad_aneu_proband_L2_clean = ad_aneu_L2_clean[ad_aneu_L2_clean.obs[\"Sample\"]==\"Proband\"]"
   ]
  },
  {
   "cell_type": "code",
   "execution_count": null,
   "id": "05c14382-48cd-4e3c-99b5-6852d9b3e3d7",
   "metadata": {},
   "outputs": [],
   "source": [
    "ad_aneu_proband_L2_clean.obs.groupby(\"predicted.celltype.l1\")[\"predicted.celltype.l1\"].count()"
   ]
  },
  {
   "cell_type": "code",
   "execution_count": null,
   "id": "7e2188ba-bbe2-4463-bd11-b42d6e10b8a3",
   "metadata": {},
   "outputs": [],
   "source": [
    "ad_aneu_proband_L2_clean = ad_aneu_proband_L2_clean[ad_aneu_proband_L2_clean.obs[\"predicted.celltype.l1\"] != \"other\"]"
   ]
  },
  {
   "cell_type": "code",
   "execution_count": null,
   "id": "0f20f52a-6cd4-4f57-94c1-31633bb4a513",
   "metadata": {},
   "outputs": [],
   "source": [
    "df_gains = ad_aneu_proband_L2_clean.obs[[\"predicted.celltype.l1\", \"G01\", \"G02\", \"G03\", \"G04\", \"G05\", \"G06\", \"G07\", \"G08\",\n",
    "                             \"G09\", \"G10\", \"G11\", \"G12\", \"G13\", \"G14\", \"G15\", \"G16\", \"G17\", \"G18\", \"G19\", \"G20\",\n",
    "                             \"G21\", \"G22\"]]\n",
    "df_losses = ad_aneu_proband_L2_clean.obs[[\"predicted.celltype.l1\", \"L01\", \"L02\", \"L03\", \"L04\", \"L05\", \"L06\", \"L07\", \"L08\",\n",
    "                              \"L09\", \"L10\", \"L11\", \"L12\", \"L13\", \"L14\", \"L15\", \"L16\", \"L17\", \"L18\", \"L19\", \"L20\",\n",
    "                              \"L21\", \"L22\"]]"
   ]
  },
  {
   "cell_type": "code",
   "execution_count": null,
   "id": "bf35da0a-cde9-4ff4-8284-316256f3a4eb",
   "metadata": {},
   "outputs": [],
   "source": [
    "df2_gains = df_gains.groupby(\"predicted.celltype.l1\").count()\n",
    "df2_losses = df_losses.groupby(\"predicted.celltype.l1\").count()"
   ]
  },
  {
   "cell_type": "code",
   "execution_count": null,
   "id": "792f4fec-b3ff-40f3-9411-0188aa6ff72f",
   "metadata": {},
   "outputs": [],
   "source": [
    "totals = ad_aneu_proband_L2_clean.obs.groupby(\"predicted.celltype.l1\")[\"predicted.celltype.l1\"].count()\n",
    "totals = pd.DataFrame(totals)\n",
    "totals = totals.rename(columns={\"predicted.celltype.l1\": \"Total\"})\n",
    "totals"
   ]
  },
  {
   "cell_type": "code",
   "execution_count": null,
   "id": "4eac69ce-4d70-4f2b-9d0f-be308486fb5b",
   "metadata": {},
   "outputs": [],
   "source": [
    "df2_gains[\"Total\"] = totals\n",
    "df2_losses[\"Total\"] = totals"
   ]
  },
  {
   "cell_type": "code",
   "execution_count": null,
   "id": "7db38f5e-6c22-4eef-b3fe-786e2026c3f1",
   "metadata": {},
   "outputs": [],
   "source": [
    "df3_gains = df2_gains.iloc[:,:-1].div(df2_gains.Total, axis=0)\n",
    "df3_losses = df2_losses.iloc[:,:-1].div(df2_losses.Total, axis=0)"
   ]
  },
  {
   "cell_type": "code",
   "execution_count": null,
   "id": "57c6f7b3-0c3a-4e46-a7a3-d61777391f44",
   "metadata": {},
   "outputs": [],
   "source": [
    "# \"scattermaps_mm.py\" needs to be in the same folder as this notebook\n",
    "import scattermaps_mm\n",
    "from scattermaps_mm import scattermap"
   ]
  },
  {
   "cell_type": "code",
   "execution_count": null,
   "id": "02039efc-dfcd-4fe5-a048-7ef73b4da26d",
   "metadata": {},
   "outputs": [],
   "source": [
    "plt.figure(figsize=(8,3))\n",
    "ax = scattermap(df3_gains, cmap='Reds', factor=2, square=True)\n",
    "plt.tight_layout()\n",
    "#plt.savefig(DESKTOP + \"GSEApy_dotPlot.png\")"
   ]
  },
  {
   "cell_type": "code",
   "execution_count": null,
   "id": "28cec6c3-b2ec-4660-a581-faee3e35ce46",
   "metadata": {},
   "outputs": [],
   "source": [
    "plt.figure(figsize=(8,3))\n",
    "ax = scattermap(df3_losses, cmap='Blues', factor=2, vmax=0.8, square=True)\n",
    "plt.tight_layout()\n",
    "#plt.savefig(DESKTOP + \"GSEApy_dotPlot.png\")"
   ]
  },
  {
   "cell_type": "markdown",
   "id": "c8479a52-02d4-4041-8002-67fe77abfe8c",
   "metadata": {},
   "source": [
    "#### L2"
   ]
  },
  {
   "cell_type": "code",
   "execution_count": null,
   "id": "42a1133a-743d-4529-92d2-8364a4aef8cc",
   "metadata": {},
   "outputs": [],
   "source": [
    "ad_aneu_proband_L2_clean.obs.groupby(\"predicted.celltype.l2\")[\"predicted.celltype.l2\"].count()"
   ]
  },
  {
   "cell_type": "code",
   "execution_count": null,
   "id": "308abf54-39d7-46c7-b2df-db3ee4888dcb",
   "metadata": {},
   "outputs": [],
   "source": [
    "f_ILC = ad_aneu_proband_L2_clean.obs[\"predicted.celltype.l2\"] != \"ILC\"\n",
    "f_pDC = ad_aneu_proband_L2_clean.obs[\"predicted.celltype.l2\"] != \"pDC\"\n",
    "ad_aneu_proband_L2_clean = ad_aneu_proband_L2_clean[f_ILC & f_pDC]"
   ]
  },
  {
   "cell_type": "code",
   "execution_count": null,
   "id": "d604daea-4fe1-42da-bdfd-0b22919887ff",
   "metadata": {},
   "outputs": [],
   "source": [
    "ad_aneu_proband_L2_clean.obs.groupby(\"predicted.celltype.l2\")[\"predicted.celltype.l2\"].count()"
   ]
  },
  {
   "cell_type": "code",
   "execution_count": null,
   "id": "52a34140-0870-4a8b-b73c-9dbf6c478a03",
   "metadata": {},
   "outputs": [],
   "source": [
    "df_gains = ad_aneu_proband_L2_clean.obs[[\"predicted.celltype.l2\", \"G01\", \"G02\", \"G03\", \"G04\", \"G05\", \"G06\", \"G07\", \"G08\",\n",
    "                             \"G09\", \"G10\", \"G11\", \"G12\", \"G13\", \"G14\", \"G15\", \"G16\", \"G17\", \"G18\", \"G19\", \"G20\",\n",
    "                             \"G21\", \"G22\"]]\n",
    "df_losses = ad_aneu_proband_L2_clean.obs[[\"predicted.celltype.l2\", \"L01\", \"L02\", \"L03\", \"L04\", \"L05\", \"L06\", \"L07\", \"L08\",\n",
    "                              \"L09\", \"L10\", \"L11\", \"L12\", \"L13\", \"L14\", \"L15\", \"L16\", \"L17\", \"L18\", \"L19\", \"L20\",\n",
    "                              \"L21\", \"L22\"]]"
   ]
  },
  {
   "cell_type": "code",
   "execution_count": null,
   "id": "ca0e41a6-60f2-426f-a361-4d041fd5c2a7",
   "metadata": {},
   "outputs": [],
   "source": [
    "df2_gains = df_gains.groupby(\"predicted.celltype.l2\").count()\n",
    "df2_losses = df_losses.groupby(\"predicted.celltype.l2\").count()"
   ]
  },
  {
   "cell_type": "code",
   "execution_count": null,
   "id": "16e03cbb-ba93-4475-92b8-36945d81f2b1",
   "metadata": {},
   "outputs": [],
   "source": [
    "totals = ad_aneu_proband_L2_clean.obs.groupby(\"predicted.celltype.l2\")[\"predicted.celltype.l2\"].count()\n",
    "totals = pd.DataFrame(totals)\n",
    "totals = totals.rename(columns={\"predicted.celltype.l2\": \"Total\"})\n",
    "totals"
   ]
  },
  {
   "cell_type": "code",
   "execution_count": null,
   "id": "472b7182-5c8a-4a7f-a60b-7483fb904dc4",
   "metadata": {},
   "outputs": [],
   "source": [
    "df2_gains[\"Total\"] = totals\n",
    "df2_losses[\"Total\"] = totals"
   ]
  },
  {
   "cell_type": "code",
   "execution_count": null,
   "id": "65bf7870-565d-4fea-8e97-6de50182c2e1",
   "metadata": {},
   "outputs": [],
   "source": [
    "df3_gains = df2_gains.iloc[:,:-1].div(df2_gains.Total, axis=0)\n",
    "df3_losses = df2_losses.iloc[:,:-1].div(df2_losses.Total, axis=0)"
   ]
  },
  {
   "cell_type": "code",
   "execution_count": null,
   "id": "a8ffcd79-23df-4e8a-a818-103a43ddbf27",
   "metadata": {},
   "outputs": [],
   "source": [
    "# \"scattermaps_mm.py\" needs to be in the same folder as this notebook\n",
    "import scattermaps_mm\n",
    "from scattermaps_mm import scattermap"
   ]
  },
  {
   "cell_type": "code",
   "execution_count": null,
   "id": "7ac73dde-5ab1-4218-9628-273a56fb84ab",
   "metadata": {},
   "outputs": [],
   "source": [
    "plt.figure(figsize=(9,9))\n",
    "ax = scattermap(df3_gains, cmap='Reds', factor=2.5, square=True)\n",
    "plt.tight_layout()\n",
    "#plt.savefig(DESKTOP + \"GSEApy_dotPlot.png\")"
   ]
  },
  {
   "cell_type": "code",
   "execution_count": null,
   "id": "623e3ec1-b00d-4d12-a864-65c966744e13",
   "metadata": {},
   "outputs": [],
   "source": [
    "plt.figure(figsize=(23,4))\n",
    "ax = scattermap(df3_gains, cmap='Reds', factor=2.5, square=True)\n",
    "plt.tight_layout()\n",
    "#plt.savefig(DESKTOP + \"GSEApy_dotPlot.png\")"
   ]
  },
  {
   "cell_type": "code",
   "execution_count": null,
   "id": "90a27d2d-2fe3-40fb-a951-ec015e509b08",
   "metadata": {},
   "outputs": [],
   "source": [
    "plt.figure(figsize=(9,9))\n",
    "ax = scattermap(df3_losses, cmap='Blues', factor=2.5, vmax=1, square=True)\n",
    "plt.tight_layout()\n",
    "#plt.savefig(DESKTOP + \"GSEApy_dotPlot.png\")"
   ]
  },
  {
   "cell_type": "code",
   "execution_count": null,
   "id": "93d0d52c-ad07-4d3a-a09c-6dfcc838d2dc",
   "metadata": {},
   "outputs": [],
   "source": [
    "plt.figure(figsize=(23,4))\n",
    "ax = scattermap(df3_losses, cmap='Blues', factor=2.5, vmax=1, square=True)\n",
    "plt.tight_layout()\n",
    "#plt.savefig(DESKTOP + \"GSEApy_dotPlot.png\")"
   ]
  },
  {
   "cell_type": "markdown",
   "id": "a0fd5690-9b0a-4b58-9dee-1cfa3c7bb433",
   "metadata": {},
   "source": [
    "#### L3"
   ]
  },
  {
   "cell_type": "code",
   "execution_count": null,
   "id": "dc5fd2c7-c7b6-4277-b7e0-6bcfddfa8589",
   "metadata": {},
   "outputs": [],
   "source": [
    "ad_aneu_proband_L2_clean.obs.groupby(\"predicted.celltype.l3\")[\"predicted.celltype.l3\"].count()"
   ]
  },
  {
   "cell_type": "code",
   "execution_count": null,
   "id": "c9cd1c75-451b-4a93-b1ae-d37f5614b9a9",
   "metadata": {},
   "outputs": [],
   "source": [
    "# Celltypes to remove\n",
    "f_B_memory_lambda = ad_aneu_proband_L2_clean.obs[\"predicted.celltype.l3\"]!= \"B memory lambda\"\n",
    "f_CD4_TEM_3 = ad_aneu_proband_L2_clean.obs[\"predicted.celltype.l3\"]!= \"CD4 TEM_3\"\n",
    "f_CD8_TCM_3 = ad_aneu_proband_L2_clean.obs[\"predicted.celltype.l3\"]!= \"CD8 TCM_3\"\n",
    "f_CD8_TEM_3 = ad_aneu_proband_L2_clean.obs[\"predicted.celltype.l3\"]!= \"CD8 TEM_3\"\n",
    "f_ILC = ad_aneu_proband_L2_clean.obs[\"predicted.celltype.l3\"]!= \"ILC\"\n",
    "f_Platelet = ad_aneu_proband_L2_clean.obs[\"predicted.celltype.l3\"]!= \"Platelet\"\n",
    "f_cDC2_1 = ad_aneu_proband_L2_clean.obs[\"predicted.celltype.l3\"]!= \"cDC2_1\"\n",
    "f_dnT_2 = ad_aneu_proband_L2_clean.obs[\"predicted.celltype.l3\"]!= \"dnT_2\"\n",
    "\n",
    "\"\"\"\n",
    "f_ASDC_mDC = ad_L2_clean.obs[\"predicted.celltype.l3\"]!= \"ASDC_mDC\"\n",
    "f_CD8_TCM_2 = ad_L2_clean.obs[\"predicted.celltype.l3\"]!= \"CD8 TCM_2\"\n",
    "\n",
    "f_CD8_TEM_4 = ad_L2_clean.obs[\"predicted.celltype.l3\"]!= \"CD8 TEM_4\"\n",
    "f_CD4_Naive = ad_L2_clean.obs[\"predicted.celltype.l3\"]!= \"CD4 Naive\"\n",
    "f_CD8_Naive = ad_L2_clean.obs[\"predicted.celltype.l3\"]!= \"CD8 Naive\"\n",
    "f_NK_1 = ad_L2_clean.obs[\"predicted.celltype.l3\"]!= \"NK_1\"\n",
    "\"\"\"\n",
    "\n",
    "ad_aneu_proband_L3_clean = ad_aneu_proband_L2_clean[f_B_memory_lambda & f_CD4_TEM_3 & f_CD8_TCM_3 &\n",
    "                                                    f_CD8_TEM_3 &\n",
    "                                                    f_ILC & f_Platelet & f_cDC2_1 & f_dnT_2]\n",
    "                                        "
   ]
  },
  {
   "cell_type": "code",
   "execution_count": null,
   "id": "0fccf603-6fd6-489d-9eda-8fce7ece9301",
   "metadata": {},
   "outputs": [],
   "source": [
    "df_gains = ad_aneu_proband_L3_clean.obs[[\"predicted.celltype.l3\", \"G01\", \"G02\", \"G03\", \"G04\", \"G05\", \"G06\", \"G07\", \"G08\",\n",
    "                             \"G09\", \"G10\", \"G11\", \"G12\", \"G13\", \"G14\", \"G15\", \"G16\", \"G17\", \"G18\", \"G19\", \"G20\",\n",
    "                             \"G21\", \"G22\"]]\n",
    "df_losses = ad_aneu_proband_L3_clean.obs[[\"predicted.celltype.l3\", \"L01\", \"L02\", \"L03\", \"L04\", \"L05\", \"L06\", \"L07\", \"L08\",\n",
    "                              \"L09\", \"L10\", \"L11\", \"L12\", \"L13\", \"L14\", \"L15\", \"L16\", \"L17\", \"L18\", \"L19\", \"L20\",\n",
    "                              \"L21\", \"L22\"]]"
   ]
  },
  {
   "cell_type": "code",
   "execution_count": null,
   "id": "0bc3004a-db2d-4048-b37b-aec51b081018",
   "metadata": {},
   "outputs": [],
   "source": [
    "df2_gains = df_gains.groupby(\"predicted.celltype.l3\").count()\n",
    "df2_losses = df_losses.groupby(\"predicted.celltype.l3\").count()"
   ]
  },
  {
   "cell_type": "code",
   "execution_count": null,
   "id": "612b1520-1588-4f87-b6e4-37c787394ad1",
   "metadata": {},
   "outputs": [],
   "source": [
    "totals = ad_aneu_proband_L3_clean.obs.groupby(\"predicted.celltype.l3\")[\"predicted.celltype.l3\"].count()\n",
    "totals = pd.DataFrame(totals)\n",
    "totals = totals.rename(columns={\"predicted.celltype.l3\": \"Total\"})\n",
    "totals"
   ]
  },
  {
   "cell_type": "code",
   "execution_count": null,
   "id": "b5c1875f-4915-4f2e-91eb-b4092087925b",
   "metadata": {},
   "outputs": [],
   "source": [
    "df2_gains[\"Total\"] = totals\n",
    "df2_losses[\"Total\"] = totals"
   ]
  },
  {
   "cell_type": "code",
   "execution_count": null,
   "id": "5f213d3a-2d5b-45f9-b3fc-3c395832f618",
   "metadata": {},
   "outputs": [],
   "source": [
    "df3_gains = df2_gains.iloc[:,:-1].div(df2_gains.Total, axis=0)\n",
    "df3_losses = df2_losses.iloc[:,:-1].div(df2_losses.Total, axis=0)"
   ]
  },
  {
   "cell_type": "code",
   "execution_count": null,
   "id": "53b9f26e-09c3-499a-b6ff-8cfef338ee88",
   "metadata": {},
   "outputs": [],
   "source": [
    "# \"scattermaps_mm.py\" needs to be in the same folder as this notebook\n",
    "import scattermaps_mm\n",
    "from scattermaps_mm import scattermap"
   ]
  },
  {
   "cell_type": "code",
   "execution_count": null,
   "id": "ec4501e2-c166-4db0-82c6-c7cc9be4202c",
   "metadata": {},
   "outputs": [],
   "source": [
    "plt.figure(figsize=(9,8))\n",
    "ax = scattermap(df3_gains, cmap='Reds', factor=2.5, square=True)\n",
    "plt.tight_layout()\n",
    "#plt.savefig(DESKTOP + \"GSEApy_dotPlot.png\")"
   ]
  },
  {
   "cell_type": "code",
   "execution_count": null,
   "id": "93a6e455-cdf8-4aba-af93-539e087eb78e",
   "metadata": {},
   "outputs": [],
   "source": [
    "plt.figure(figsize=(23,4))\n",
    "ax = scattermap(df3_gains, cmap='Reds', factor=2.5, square=True)\n",
    "plt.tight_layout()\n",
    "#plt.savefig(DESKTOP + \"GSEApy_dotPlot.png\")"
   ]
  },
  {
   "cell_type": "code",
   "execution_count": null,
   "id": "9241aaee-95eb-423d-abc1-f8a3dbda1f04",
   "metadata": {},
   "outputs": [],
   "source": [
    "plt.figure(figsize=(9,8))\n",
    "ax = scattermap(df3_losses, cmap='Blues', factor=2.5, vmax=1, square=True)\n",
    "plt.tight_layout()\n",
    "#plt.savefig(DESKTOP + \"GSEApy_dotPlot.png\")"
   ]
  },
  {
   "cell_type": "code",
   "execution_count": null,
   "id": "4c23a0e6-e01d-4bbd-ad82-a83162347942",
   "metadata": {},
   "outputs": [],
   "source": [
    "plt.figure(figsize=(23,4))\n",
    "ax = scattermap(df3_losses, cmap='Blues', factor=2.5, vmax=1, square=True)\n",
    "plt.tight_layout()\n",
    "#plt.savefig(DESKTOP + \"GSEApy_dotPlot.png\")"
   ]
  },
  {
   "cell_type": "markdown",
   "id": "d1ec72f3-9187-4d73-b9c1-c26da8fd8310",
   "metadata": {},
   "source": [
    "### Analysis of B-cells and gdT cells"
   ]
  },
  {
   "cell_type": "markdown",
   "id": "0ec709b0-afe1-4bb1-8af7-01cc303dddf6",
   "metadata": {},
   "source": [
    "### B-cells"
   ]
  },
  {
   "cell_type": "code",
   "execution_count": null,
   "id": "f13aa474-6435-453c-b29a-91ca7785bd70",
   "metadata": {},
   "outputs": [],
   "source": [
    "adata.obs[\"Sample2_predicted.celltype.l1_G12\"].unique()"
   ]
  },
  {
   "cell_type": "code",
   "execution_count": null,
   "id": "aa066181-9004-490a-95ae-6b2ba3cf2433",
   "metadata": {},
   "outputs": [],
   "source": [
    "#aneu_Bcells = aneu[aneu.obs[\"predicted.celltype.l1\"] == \"B\"].copy()\n",
    "sc.pl.umap(adata, color=[\"Sample2_predicted.celltype.l1_G12\",],\n",
    "           groups = [\"Proband_B_CleanAneuG12\", \"Proband_B_CleanAneu\"], \n",
    "           palette=\"prism\", s=50,\n",
    "           #palette={\"Proband_B_CleanAneuG12\": \"red\", \"Proband_B_CleanAneu\": \"blue\"}\n",
    "          )"
   ]
  },
  {
   "cell_type": "code",
   "execution_count": null,
   "id": "a104e027-10c7-487f-8d8d-494e4d4946ca",
   "metadata": {},
   "outputs": [],
   "source": [
    "eu = adata[adata.obs[\"Sample2_predicted.celltype.l1_G12\"] == \"Proband_B_CleanEU\"]\n",
    "G12 = adata[adata.obs[\"Sample2_predicted.celltype.l1_G12\"] == \"Proband_B_CleanAneuG12\"]\n",
    "noG12 = adata[adata.obs[\"Sample2_predicted.celltype.l1_G12\"] == \"Proband_B_CleanAneu\"]\n",
    "\n",
    "eu_data = eu.obs.loc[:, \"chr1\":\"chr22\"]\n",
    "G12_data = G12.obs.loc[:, \"chr1\":\"chr22\"]\n",
    "noG12_data = noG12.obs.loc[:, \"chr1\":\"chr22\"]\n",
    "\n",
    "print(eu_data.shape)\n",
    "print(G12_data.shape)\n",
    "print(noG12_data.shape)"
   ]
  },
  {
   "cell_type": "code",
   "execution_count": null,
   "id": "12828c87-cd92-41e4-986d-5f833d063727",
   "metadata": {},
   "outputs": [],
   "source": [
    "plt.subplots(figsize=(14,1))\n",
    "sns.heatmap(noG12_data, vmin=-1.5, vmax=1.5, cmap=\"bwr\")"
   ]
  },
  {
   "cell_type": "code",
   "execution_count": null,
   "id": "0ea4e9e2-d258-46b1-86ad-e6531a3a6341",
   "metadata": {},
   "outputs": [],
   "source": [
    "sns.clustermap(eu_data, vmin=-1.7, vmax=1.7, cmap=\"bwr\", figsize=(10,2),\n",
    "              col_cluster=False, row_cluster=False)"
   ]
  },
  {
   "cell_type": "code",
   "execution_count": null,
   "id": "df4d6fde-2c07-4a5f-a066-a90793a23cb7",
   "metadata": {},
   "outputs": [],
   "source": [
    "sns.clustermap(noG12_data, vmin=-1.7, vmax=1.7, cmap=\"bwr\", figsize=(10,1),\n",
    "              col_cluster=False)"
   ]
  },
  {
   "cell_type": "code",
   "execution_count": null,
   "id": "a0aaec2a-c400-470b-b762-864c198be667",
   "metadata": {},
   "outputs": [],
   "source": [
    "sns.clustermap(G12_data, vmin=-1.7, vmax=1.7, cmap=\"bwr\", figsize=(10,5),\n",
    "              col_cluster=False)"
   ]
  },
  {
   "cell_type": "code",
   "execution_count": null,
   "id": "e2a7788c-be37-41b7-9318-c078835f59a7",
   "metadata": {},
   "outputs": [],
   "source": [
    "other = adata[adata.obs[\"predicted.celltype.l1\"]==\"other\"]"
   ]
  },
  {
   "cell_type": "code",
   "execution_count": null,
   "id": "34da4e6c-fb4e-4fdc-81d3-135f3d76b56e",
   "metadata": {},
   "outputs": [],
   "source": [
    "other.obs.groupby(\"predicted.celltype.l1\")[\"predicted.celltype.l2\"].value_counts()"
   ]
  },
  {
   "cell_type": "markdown",
   "id": "21cd826c-7c61-4f40-8223-e9e72079cda7",
   "metadata": {},
   "source": [
    "### gdT cells"
   ]
  },
  {
   "cell_type": "code",
   "execution_count": null,
   "id": "ea7cc0df-1c84-47b3-b175-a4bddfd3d625",
   "metadata": {},
   "outputs": [],
   "source": [
    "adata.obs[\"Sample2_predicted.celltype.l2_G18\"].unique()"
   ]
  },
  {
   "cell_type": "code",
   "execution_count": null,
   "id": "3d15bc24-9975-443c-b88b-d5309e46f978",
   "metadata": {},
   "outputs": [],
   "source": [
    "#aneu_Bcells = aneu[aneu.obs[\"predicted.celltype.l1\"] == \"B\"].copy()\n",
    "sc.pl.umap(adata, color=[\"Sample2_predicted.celltype.l2_G18\",],\n",
    "           groups = [\"Proband_gdT_CleanAneuG18\", \"Proband_gdT_CleanAneu\"], \n",
    "           palette=\"prism\", s=50,\n",
    "           #palette={\"Proband_B_CleanAneuG12\": \"red\", \"Proband_B_CleanAneu\": \"blue\"}\n",
    "          )"
   ]
  },
  {
   "cell_type": "code",
   "execution_count": null,
   "id": "809521e0-02dc-4ae7-a819-c8062f20588e",
   "metadata": {},
   "outputs": [],
   "source": [
    "eu = adata[adata.obs[\"Sample2_predicted.celltype.l2_G18\"] == \"Proband_gdT_CleanEU\"]\n",
    "G18 = adata[adata.obs[\"Sample2_predicted.celltype.l2_G18\"] == \"Proband_gdT_CleanAneuG18\"]\n",
    "noG18 = adata[adata.obs[\"Sample2_predicted.celltype.l2_G18\"] == \"Proband_gdT_CleanAneu\"]\n",
    "\n",
    "eu_data = eu.obs.loc[:, \"chr1\":\"chr22\"]\n",
    "G18_data = G18.obs.loc[:, \"chr1\":\"chr22\"]\n",
    "noG18_data = noG18.obs.loc[:, \"chr1\":\"chr22\"]\n",
    "\n",
    "print(eu_data.shape)\n",
    "print(noG18_data.shape)\n",
    "print(G18_data.shape)"
   ]
  },
  {
   "cell_type": "code",
   "execution_count": null,
   "id": "6868c06c-2917-49e6-9a4c-deeca7b87c1e",
   "metadata": {},
   "outputs": [],
   "source": [
    "sns.clustermap(eu_data, vmin=-1.7, vmax=1.7, cmap=\"bwr\", figsize=(10,4),\n",
    "              col_cluster=False, row_cluster=False)"
   ]
  },
  {
   "cell_type": "code",
   "execution_count": null,
   "id": "6127842e-2c72-41ec-b19b-b8b2dd327f88",
   "metadata": {},
   "outputs": [],
   "source": [
    "sns.clustermap(noG18_data, vmin=-1.7, vmax=1.7, cmap=\"bwr\", figsize=(10,2),\n",
    "              col_cluster=False, ) #row_cluster=False"
   ]
  },
  {
   "cell_type": "code",
   "execution_count": null,
   "id": "1dd71d98-ca5b-4c94-9b2b-a59dbabcbf90",
   "metadata": {},
   "outputs": [],
   "source": [
    "sns.clustermap(G18_data, vmin=-1.7, vmax=1.7, cmap=\"bwr\", figsize=(10,3),\n",
    "              col_cluster=False, ) #row_cluster=False"
   ]
  },
  {
   "cell_type": "code",
   "execution_count": null,
   "id": "0f73fe5f-628a-4349-9951-7cabcc721949",
   "metadata": {},
   "outputs": [],
   "source": []
  },
  {
   "cell_type": "code",
   "execution_count": null,
   "id": "ba728c7c-128d-43cf-bb45-467e657186fa",
   "metadata": {},
   "outputs": [],
   "source": [
    "gdT_2_4_list = {\"Delta-gamma chains\": [\"TRGC1\", \"TRGC2\", \"TRDV1\", \"TRDV2\", \"TRDC\"], \n",
    "                \"CD3 chains\": [\"CD3G\", \"CD3D\",],\n",
    "                \"Cytotoxicity\": [\"KLRC2\", \"KLRD1\", \"KLRG1\", \"GZMH\", \"FCRL6\", \"CST7\",], \n",
    "                \"Other gdT markers\": [\"TIGIT\", \"IKZF2\", \"CMC1\"]\n",
    "               }\n",
    "\n",
    "sc.pl.dotplot(ad_otherT, gdT_2_4_list, 'Sample', standard_scale=\"var\") "
   ]
  },
  {
   "cell_type": "code",
   "execution_count": null,
   "id": "928bcbcb-6add-46fd-8296-e2777b6967f7",
   "metadata": {},
   "outputs": [],
   "source": [
    "gdT = adata[adata.obs[\"predicted.celltype.l2\"]==\"gdT\"]\n",
    "gdT_G18 = adata[(adata.obs[\"Sample2_predicted.celltype.l2_G18\"]==\"Control_gdT_CleanEU\") |\n",
    "                (adata.obs[\"Sample2_predicted.celltype.l2_G18\"]==\"Proband_gdT_CleanEU\") |\n",
    "                (adata.obs[\"Sample2_predicted.celltype.l2_G18\"]==\"Proband_gdT_CleanAneu\") |\n",
    "                (adata.obs[\"Sample2_predicted.celltype.l2_G18\"]==\"Proband_gdT_CleanAneuG18\")\n",
    "               ]"
   ]
  },
  {
   "cell_type": "code",
   "execution_count": null,
   "id": "a62b7f80-d087-4966-90a5-9500d3f3a6d4",
   "metadata": {},
   "outputs": [],
   "source": [
    "sc.pl.dotplot(gdT, gdT_2_4_list, 'Sample', standard_scale=\"var\") \n",
    "sc.pl.dotplot(gdT_G18, gdT_2_4_list, 'Sample2_predicted.celltype.l2_G18', standard_scale=\"var\",\n",
    "             categories_order=[\"Control_gdT_CleanEU\", \"Proband_gdT_CleanEU\", \"Proband_gdT_CleanAneu\",\n",
    "                               \"Proband_gdT_CleanAneuG18\"]) "
   ]
  },
  {
   "cell_type": "code",
   "execution_count": null,
   "id": "50245e87-4b7c-42f4-8d22-a05f1cf502ec",
   "metadata": {},
   "outputs": [],
   "source": []
  },
  {
   "cell_type": "markdown",
   "id": "8781f5cc-92f1-4984-a19b-8f2b0cb21326",
   "metadata": {},
   "source": [
    "## 4. Differential Expression <a class=\"anchor\" id=\"diffexp\"></a>\n",
    "[Back to Menu](#menu)"
   ]
  },
  {
   "cell_type": "code",
   "execution_count": null,
   "id": "05cba3c1-e157-4393-953c-bfb9e956a73b",
   "metadata": {},
   "outputs": [],
   "source": [
    "# Functions\n",
    "def dedf_to_rnk(de_df, outdir, dataname, samplename):\n",
    "    \"\"\"Generates a .rnk file from differential expression for GSEA analysis.\"\"\"\n",
    "    \n",
    "    rnk = de_df[[\"names\", \"scores\"]].copy()\n",
    "    rnk.columns = [\"#names\", \"scores\"]\n",
    "    rnk[\"#names\"] = rnk[\"#names\"].astype(str).str.upper()   # all to uppercase\n",
    "    rnk.to_csv(outdir + \"/\" + samplename + \".rnk\", sep=\"\\t\", index=False)\n",
    "    return rnk\n",
    "\n",
    "def rnk_to_geseapy(pre_res, rnk, gset, outdir, samplename):\n",
    "    \"\"\"Run GSEApy and merge index results with a previous table.\"\"\"\n",
    "    \n",
    "    gene_set    = gset + \".gmt\"\n",
    "    pre_res_new = gspy.prerank(rnk=rnk, gene_sets= gene_set, processes=4, permutation_num=1000,\n",
    "                               outdir=outdir, graph_num=60, format='png', seed=6)\n",
    "    pre_res_new_df = pd.DataFrame(pre_res_new.res2d.sort_index())\n",
    "    pre_res_new_df.to_csv(outdir + \"/\" + \"GSEApy_results.tsv\", sep=\"\\t\")\n",
    "    pre_res     = pd.concat([pre_res, pre_res_new.res2d.sort_index()])\n",
    "    n           = pre_res_new.res2d.shape[0]                                  # number of new files added\n",
    "    pre_res.iloc[-n:, -1] = samplename                                        # add sample code to last column\n",
    "    return pre_res\n",
    "\n",
    "def run_all(DESKTOP, database, dataname, score, groupA, groupB, method, pre_res):\n",
    "    \"\"\"RUN all scripts\"\"\"\n",
    "    \n",
    "    # Organize variables & folders\n",
    "    sample = groupA + \"_vs_\" + groupB\n",
    "    outdir = DESKTOP + \"/\" + dataname + \"_\" + sample\n",
    "    samplename = dataname + \"_\" + groupA + \"_vs_\" + groupB\n",
    "\n",
    "    if not os.path.exists(outdir):\n",
    "        os.mkdir(outdir)\n",
    "\n",
    "    # Differential expression\n",
    "    sc.tl.rank_genes_groups(database, score, groups=[groupA], reference=groupB, method=method, \n",
    "                        use_raw=True, log_transformed=True, n_genes=-1)\n",
    "    de_df = sc.get.rank_genes_groups_df(database, group=groupA)\n",
    "    de_df.to_csv(outdir + \"/\" + samplename + \".tsv\", sep='\\t', index=False) \n",
    "\n",
    "    with rc_context({'figure.figsize': (9, 4)}):\n",
    "        sc.pl.rank_genes_groups(database, n_genes=50, save=\"_\" + groupA + \"_vs_\" + groupB + \".png\")\n",
    "    \n",
    "    # Save .rnk list adn run GSEA\n",
    "    rnk = dedf_to_rnk(de_df, outdir, dataname, samplename)\n",
    "    pre_res = rnk_to_geseapy(pre_res, rnk, gset, outdir, samplename)\n",
    "    #pre_res.to_csv(outdir + \"/GSEApy_results.tsv\", sep=\"\\t\")\n",
    "    #print(pre_res.head(3))\n",
    "    \n",
    "    return pre_res"
   ]
  },
  {
   "cell_type": "markdown",
   "id": "dca715a9-8262-4f67-acc7-0608d07c149d",
   "metadata": {},
   "source": [
    "### 4.1. For each group of similar comparisons, select the following parameters:\n",
    "Gene sets:\n",
    "- HALLMARKS (51 genesets): `h.all.v7.2.symbols`\n",
    "- Combined HALLMARKS and others (2000 genesets): `h.c2.cp.v7.2.symbols_mix`\n",
    "- MAD1_selected: `MAD1_selected`, `MAD1_selected_30`"
   ]
  },
  {
   "cell_type": "code",
   "execution_count": null,
   "id": "fbe397ec-9641-4049-8f7a-97c08768cc86",
   "metadata": {},
   "outputs": [],
   "source": [
    "GENESETS = \"/Users/mmm/BioPROJECTS/Public_Data/Signatures & Gene Sets/GSEA Gene Sets/\"\n",
    "gset = GENESETS + \"MAD1_selected_30\"\n",
    "\n",
    "# Empty dataframe to accumulate all GSEA results\n",
    "pre_res = pd.read_csv(GENESETS + \"pre_res_empy.tsv\", sep=\"\\t\", index_col=\"Term\")"
   ]
  },
  {
   "cell_type": "code",
   "execution_count": null,
   "id": "7d6b3026-bd76-4a29-b7ee-d490ddd6478c",
   "metadata": {},
   "outputs": [],
   "source": [
    "# EDIT\n",
    "database = adata            # adata (all samples) or subset of data\n",
    "dataname = \"ad\"\n",
    "\n",
    "method = 'wilcoxon'         # 't-test' or 'wilcoxon'"
   ]
  },
  {
   "cell_type": "markdown",
   "id": "bd58d212-ea15-42b4-91f6-d64bee4cabd0",
   "metadata": {},
   "source": [
    "### 4.2. Run the following cells for each comparison in the same group"
   ]
  },
  {
   "cell_type": "markdown",
   "id": "fefdcc59-5a5c-4238-9748-2140b850f1ed",
   "metadata": {},
   "source": [
    "Columns \n",
    "- `Sample2_CleanAneu.l3`\n",
    "- `Sample2_predicted.celltype.l2_CleanAneu.l3`\n",
    "- `Sample2_predicted.celltype.l3_CleanAneu.l3`\n"
   ]
  },
  {
   "cell_type": "markdown",
   "id": "cd9525c7-0957-409f-b684-0d09930b6bb6",
   "metadata": {},
   "source": [
    "## Proband vs controls"
   ]
  },
  {
   "cell_type": "code",
   "execution_count": null,
   "id": "aea1835c-7195-4c4b-a1ba-5196ca96c9a7",
   "metadata": {},
   "outputs": [],
   "source": [
    "GENESETS = \"/Users/mmm/BioPROJECTS/Public_Data/Signatures & Gene Sets/GSEA Gene Sets/\"\n",
    "gset = GENESETS + \"MAD1_selected_30\"\n",
    "\n",
    "# Empty dataframe to accumulate all GSEA results\n",
    "pre_res = pd.read_csv(GENESETS + \"pre_res_empy.tsv\", sep=\"\\t\", index_col=\"Term\")\n",
    "\n",
    "score = \"Sample2\"\n",
    "\n",
    "groupA = \"Proband\"             \n",
    "groupB = \"Control\"                \n",
    "pre_res = run_all(DESKTOP, database, dataname, score, groupA, groupB, method, pre_res)"
   ]
  },
  {
   "cell_type": "markdown",
   "id": "0d1be73b-7c06-4f1b-9198-d3e0eafd581f",
   "metadata": {},
   "source": [
    "### Proband vs controls - L1"
   ]
  },
  {
   "cell_type": "code",
   "execution_count": null,
   "id": "fe560ea1-35e0-4d1b-b829-377974dbc0a2",
   "metadata": {},
   "outputs": [],
   "source": [
    "# Select Pathways\n",
    "GENESETS = \"/Users/mmm/BioPROJECTS/Public_Data/Signatures & Gene Sets/GSEA Gene Sets/\"\n",
    "gset = GENESETS + \"MAD1_selected_30\"\n",
    "\n",
    "# Empty dataframe to accumulate all GSEA results\n",
    "pre_res = pd.read_csv(GENESETS + \"pre_res_empy.tsv\", sep=\"\\t\", index_col=\"Term\")\n",
    "\n",
    "# Column and groups\n",
    "score = \"Sample2_predicted.celltype.l1\"            # column in adata.obs\n",
    "\n",
    "groupA = \"Proband_CD8 T\"              # label for score in adata.obs\n",
    "groupB = \"Control_CD8 T\"                # label for score in adata.obs\n",
    "pre_res = run_all(DESKTOP, database, dataname, score, groupA, groupB, method, pre_res)\n",
    "\n",
    "groupA = \"Proband_CD4 T\"              # label for score in adata.obs\n",
    "groupB = \"Control_CD4 T\"                # label for score in adata.obs\n",
    "pre_res = run_all(DESKTOP, database, dataname, score, groupA, groupB, method, pre_res)\n",
    "\n",
    "groupA = \"Proband_NK\"              # label for score in adata.obs\n",
    "groupB = \"Control_NK\"                # label for score in adata.obs\n",
    "pre_res = run_all(DESKTOP, database, dataname, score, groupA, groupB, method, pre_res)\n",
    "\n",
    "groupA = \"Proband_Mono\"              # label for score in adata.obs\n",
    "groupB = \"Control_Mono\"                # label for score in adata.obs\n",
    "pre_res = run_all(DESKTOP, database, dataname, score, groupA, groupB, method, pre_res)\n",
    "\n",
    "groupA = \"Proband_B\"              # label for score in adata.obs\n",
    "groupB = \"Control_B\"                # label for score in adata.obs\n",
    "pre_res = run_all(DESKTOP, database, dataname, score, groupA, groupB, method, pre_res)\n",
    "\n",
    "groupA = \"Proband_other T\"              # label for score in adata.obs\n",
    "groupB = \"Control_other T\"                # label for score in adata.obs\n",
    "pre_res = run_all(DESKTOP, database, dataname, score, groupA, groupB, method, pre_res)\n",
    "\n",
    "groupA = \"Proband_DC\"              # label for score in adata.obs\n",
    "groupB = \"Control_DC\"                # label for score in adata.obs\n",
    "pre_res = run_all(DESKTOP, database, dataname, score, groupA, groupB, method, pre_res)\n",
    "\n",
    "groupA = \"Proband_other\"              # label for score in adata.obs\n",
    "groupB = \"Control_other\"                # label for score in adata.obs\n",
    "pre_res = run_all(DESKTOP, database, dataname, score, groupA, groupB, method, pre_res)\n",
    "\n",
    "\n",
    "pre_res.to_csv(DESKTOP + \"GSEApy_Combined_results.tsv\", sep=\"\\t\")\n"
   ]
  },
  {
   "cell_type": "markdown",
   "id": "d2e42867-e9d2-4bce-819f-6bd3b94d138d",
   "metadata": {},
   "source": [
    "## Proband vs Controls - L2"
   ]
  },
  {
   "cell_type": "markdown",
   "id": "509f2e3f-71a7-44b3-bc3e-4aeb91b394a0",
   "metadata": {},
   "source": [
    "#### Sample2_predicted.celltype.l2"
   ]
  },
  {
   "cell_type": "code",
   "execution_count": null,
   "id": "35d8e21d-775c-4788-bbce-8f41d0d9c6d1",
   "metadata": {},
   "outputs": [],
   "source": [
    "sample_numbers = adata.obs[\"Sample2_predicted.celltype.l2\"].value_counts()\n",
    "sample_numbers = pd.DataFrame(sample_numbers)\n",
    "sample_numbers.to_csv(DESKTOP + \"sample_numbers.tsv\", sep=\"\\t\")"
   ]
  },
  {
   "cell_type": "code",
   "execution_count": null,
   "id": "65a0f7ed-1bda-429e-9f9c-4ae35e9c5d29",
   "metadata": {},
   "outputs": [],
   "source": []
  },
  {
   "cell_type": "code",
   "execution_count": null,
   "id": "20ef781c-9aa9-42fd-8cd1-550fa72e3d75",
   "metadata": {},
   "outputs": [],
   "source": [
    "# Select Pathways\n",
    "GENESETS = \"/Users/mmm/BioPROJECTS/Public_Data/Signatures & Gene Sets/GSEA Gene Sets/\"\n",
    "gset = GENESETS + \"MAD1_selected_30\"\n",
    "\n",
    "# Empty dataframe to accumulate all GSEA results\n",
    "pre_res = pd.read_csv(GENESETS + \"pre_res_empy.tsv\", sep=\"\\t\", index_col=\"Term\")\n",
    "\n",
    "\n",
    "score = \"Sample2_predicted.celltype.l2\"            # column in adata.obs\n",
    "\n",
    "groupA = \"Proband_B intermediate\"              # label for score in adata.obs\n",
    "groupB = \"Control_B intermediate\"                # label for score in adata.obs\n",
    "pre_res = run_all(DESKTOP, database, dataname, score, groupA, groupB, method, pre_res)\n",
    "\n",
    "groupA = \"Proband_B memory\"              # label for score in adata.obs\n",
    "groupB = \"Control_B memory\"                # label for score in adata.obs\n",
    "pre_res = run_all(DESKTOP, database, dataname, score, groupA, groupB, method, pre_res)\n",
    "\n",
    "groupA = \"Proband_B naive\"              # label for score in adata.obs\n",
    "groupB = \"Control_B naive\"                # label for score in adata.obs\n",
    "pre_res = run_all(DESKTOP, database, dataname, score, groupA, groupB, method, pre_res)\n",
    "\n",
    "groupA = \"Proband_CD14 Mono\"              # label for score in adata.obs\n",
    "groupB = \"Control_CD14 Mono\"                # label for score in adata.obs\n",
    "pre_res = run_all(DESKTOP, database, dataname, score, groupA, groupB, method, pre_res)\n",
    "\n",
    "groupA = \"Proband_CD16 Mono\"              # label for score in adata.obs\n",
    "groupB = \"Control_CD16 Mono\"                # label for score in adata.obs\n",
    "pre_res = run_all(DESKTOP, database, dataname, score, groupA, groupB, method, pre_res)\n",
    "\n",
    "groupA = \"Proband_CD4 TCM\"              # label for score in adata.obs\n",
    "groupB = \"Control_CD4 TCM\"                # label for score in adata.obs\n",
    "pre_res = run_all(DESKTOP, database, dataname, score, groupA, groupB, method, pre_res)\n",
    "\n",
    "groupA = \"Proband_CD4 TEM\"              # label for score in adata.obs\n",
    "groupB = \"Control_CD4 TEM\"                # label for score in adata.obs\n",
    "pre_res = run_all(DESKTOP, database, dataname, score, groupA, groupB, method, pre_res)\n",
    "\n",
    "groupA = \"Proband_CD8 Naive\"              # label for score in adata.obs\n",
    "groupB = \"Control_CD8 Naive\"                # label for score in adata.obs\n",
    "pre_res = run_all(DESKTOP, database, dataname, score, groupA, groupB, method, pre_res)\n",
    "\n",
    "groupA = \"Proband_CD8 TCM\"              # label for score in adata.obs\n",
    "groupB = \"Control_CD8 TCM\"                # label for score in adata.obs\n",
    "pre_res = run_all(DESKTOP, database, dataname, score, groupA, groupB, method, pre_res)\n",
    "\n",
    "groupA = \"Proband_CD8 TEM\"              # label for score in adata.obs\n",
    "groupB = \"Control_CD8 TEM\"                # label for score in adata.obs\n",
    "pre_res = run_all(DESKTOP, database, dataname, score, groupA, groupB, method, pre_res)\n",
    "\n",
    "groupA = \"Proband_cDC2\"              # label for score in adata.obs\n",
    "groupB = \"Control_cDC2\"                # label for score in adata.obs\n",
    "pre_res = run_all(DESKTOP, database, dataname, score, groupA, groupB, method, pre_res)\n",
    "\n",
    "groupA = \"Proband_dnT\"              # label for score in adata.obs\n",
    "groupB = \"Control_dnT\"                # label for score in adata.obs\n",
    "pre_res = run_all(DESKTOP, database, dataname, score, groupA, groupB, method, pre_res)\n",
    "\n",
    "groupA = \"Proband_gdT\"              # label for score in adata.obs\n",
    "groupB = \"Control_gdT\"                # label for score in adata.obs\n",
    "pre_res = run_all(DESKTOP, database, dataname, score, groupA, groupB, method, pre_res)\n",
    "\n",
    "groupA = \"Proband_HSPC\"              # label for score in adata.obs\n",
    "groupB = \"Control_HSPC\"                # label for score in adata.obs\n",
    "pre_res = run_all(DESKTOP, database, dataname, score, groupA, groupB, method, pre_res)\n",
    "\n",
    "groupA = \"Proband_ILC\"              # label for score in adata.obs\n",
    "groupB = \"Control_ILC\"                # label for score in adata.obs\n",
    "pre_res = run_all(DESKTOP, database, dataname, score, groupA, groupB, method, pre_res)\n",
    "\n",
    "groupA = \"Proband_MAIT\"              # label for score in adata.obs\n",
    "groupB = \"Control_MAIT\"                # label for score in adata.obs\n",
    "pre_res = run_all(DESKTOP, database, dataname, score, groupA, groupB, method, pre_res)\n",
    "\n",
    "groupA = \"Proband_NK\"              # label for score in adata.obs\n",
    "groupB = \"Control_NK\"                # label for score in adata.obs\n",
    "pre_res = run_all(DESKTOP, database, dataname, score, groupA, groupB, method, pre_res)\n",
    "\n",
    "groupA = \"Proband_NK Proliferating\"              # label for score in adata.obs\n",
    "groupB = \"Control_NK Proliferating\"                # label for score in adata.obs\n",
    "pre_res = run_all(DESKTOP, database, dataname, score, groupA, groupB, method, pre_res)\n",
    "\n",
    "groupA = \"Proband_NK_CD56bright\"              # label for score in adata.obs\n",
    "groupB = \"Control_NK_CD56bright\"                # label for score in adata.obs\n",
    "pre_res = run_all(DESKTOP, database, dataname, score, groupA, groupB, method, pre_res)\n",
    "\n",
    "groupA = \"Proband_pDC\"              # label for score in adata.obs\n",
    "groupB = \"Control_pDC\"                # label for score in adata.obs\n",
    "pre_res = run_all(DESKTOP, database, dataname, score, groupA, groupB, method, pre_res)\n",
    "\n",
    "groupA = \"Proband_Platelet\"              # label for score in adata.obs\n",
    "groupB = \"Control_Platelet\"                # label for score in adata.obs\n",
    "pre_res = run_all(DESKTOP, database, dataname, score, groupA, groupB, method, pre_res)\n",
    "\n",
    "groupA = \"Proband_Treg\"              # label for score in adata.obs\n",
    "groupB = \"Control_Treg\"                # label for score in adata.obs\n",
    "pre_res = run_all(DESKTOP, database, dataname, score, groupA, groupB, method, pre_res)\n",
    "\n",
    "pre_res.to_csv(DESKTOP + \"GSEApy_Combined_results.tsv\", sep=\"\\t\")"
   ]
  },
  {
   "cell_type": "code",
   "execution_count": null,
   "id": "02f65403-6181-4b2e-a71b-6a5fc05f88e5",
   "metadata": {},
   "outputs": [],
   "source": []
  },
  {
   "cell_type": "markdown",
   "id": "037356e2-ec02-452b-ba0e-97b7db871f8b",
   "metadata": {},
   "source": [
    "## Aneuploid vs Euploid"
   ]
  },
  {
   "cell_type": "markdown",
   "id": "27eac440-acd7-4ce6-b325-290785bf74cc",
   "metadata": {},
   "source": [
    "## All celltypes combined"
   ]
  },
  {
   "cell_type": "code",
   "execution_count": null,
   "id": "04ce1748-a6f3-45d1-bce7-520becf2a856",
   "metadata": {},
   "outputs": [],
   "source": [
    "adata.obs[\"Sample2_CleanAneu.l3\"].unique()"
   ]
  },
  {
   "cell_type": "code",
   "execution_count": null,
   "id": "807d4f65-7de6-4644-ad78-8bbc40655f71",
   "metadata": {},
   "outputs": [],
   "source": [
    "# Select Pathways\n",
    "GENESETS = \"/Users/mmm/BioPROJECTS/Public_Data/Signatures & Gene Sets/GSEA Gene Sets/\"\n",
    "gset = GENESETS + \"MAD1_selected_30\"\n",
    "\n",
    "# Empty dataframe to accumulate all GSEA results\n",
    "pre_res = pd.read_csv(GENESETS + \"pre_res_empy.tsv\", sep=\"\\t\", index_col=\"Term\")\n",
    "\n",
    "# Column and groups\n",
    "score = \"Sample2_CleanAneu.l3\"\n",
    "\n",
    "groupA = \"Proband_CleanAneu\"              # label for score in adata.obs\n",
    "groupB = \"Control_CleanEU\"                # label for score in adata.obs\n",
    "pre_res = run_all(DESKTOP, database, dataname, score, groupA, groupB, method, pre_res)\n",
    "\n",
    "groupA = \"Proband_CleanAneu\"              # label for score in adata.obs\n",
    "groupB = \"Proband_CleanEU\"                # label for score in adata.obs\n",
    "pre_res = run_all(DESKTOP, database, dataname, score, groupA, groupB, method, pre_res)\n",
    "\n",
    "groupA = \"Proband_CleanEU\"              # label for score in adata.obs\n",
    "groupB = \"Control_CleanEU\"                # label for score in adata.obs\n",
    "pre_res = run_all(DESKTOP, database, dataname, score, groupA, groupB, method, pre_res)\n",
    "\n",
    "pre_res.to_csv(DESKTOP + \"GSEApy_Combined_results.tsv\", sep=\"\\t\")"
   ]
  },
  {
   "cell_type": "markdown",
   "id": "d0ad57c4-32c8-4f25-8535-b9741f28ad65",
   "metadata": {},
   "source": [
    "### Sample2.CleanAneuStable (removing B_G12 and gdT_G18)"
   ]
  },
  {
   "cell_type": "code",
   "execution_count": null,
   "id": "d2c916cf-682b-4f20-aab0-25b6e163149d",
   "metadata": {},
   "outputs": [],
   "source": [
    "# Select Pathways\n",
    "GENESETS = \"/Users/mmm/BioPROJECTS/Public_Data/Signatures & Gene Sets/GSEA Gene Sets/\"\n",
    "gset = GENESETS + \"h.c2.cp.v7.2.symbols_mix\"   # h.c2.cp.v7.2.symbols_mix\n",
    "\n",
    "\n",
    "# Empty dataframe to accumulate all GSEA results\n",
    "pre_res = pd.read_csv(GENESETS + \"pre_res_empy.tsv\", sep=\"\\t\", index_col=\"Term\")\n",
    "\n",
    "# Column and groups\n",
    "score = \"Sample2_CleanAneu.l3.Stable\"\n",
    "\n",
    "groupA = \"Proband_CleanAneu\"              # label for score in adata.obs\n",
    "groupB = \"Control_CleanEU\"                # label for score in adata.obs\n",
    "pre_res = run_all(DESKTOP, database, dataname, score, groupA, groupB, method, pre_res)\n",
    "\n",
    "groupA = \"Proband_CleanAneu\"              # label for score in adata.obs\n",
    "groupB = \"Proband_CleanEU\"                # label for score in adata.obs\n",
    "pre_res = run_all(DESKTOP, database, dataname, score, groupA, groupB, method, pre_res)\n",
    "\n",
    "groupA = \"Proband_CleanEU\"              # label for score in adata.obs\n",
    "groupB = \"Control_CleanEU\"                # label for score in adata.obs\n",
    "pre_res = run_all(DESKTOP, database, dataname, score, groupA, groupB, method, pre_res)\n",
    "\n",
    "pre_res.to_csv(DESKTOP + \"GSEApy_Combined_results.tsv\", sep=\"\\t\")"
   ]
  },
  {
   "cell_type": "markdown",
   "id": "a8af7f0e-58f3-45a5-ac57-cb791b9aa572",
   "metadata": {},
   "source": [
    "## L1"
   ]
  },
  {
   "cell_type": "code",
   "execution_count": null,
   "id": "f09b26b3-6402-4f7f-a1bc-a582ee5f4ba1",
   "metadata": {
    "tags": []
   },
   "outputs": [],
   "source": [
    "adata.obs[\"Sample2_predicted.celltype.l1_CleanAneu.l3\"].value_counts()"
   ]
  },
  {
   "cell_type": "code",
   "execution_count": null,
   "id": "e0ab5bdd-f2f9-4ba2-84ed-9e8b10b58b90",
   "metadata": {},
   "outputs": [],
   "source": [
    "list_samples = adata.obs[\"Sample2_predicted.celltype.l1_CleanAneu.l3\"].unique().tolist()\n",
    "list_samples = [x for x in list_samples if not x.endswith(\"Dirty\")]\n",
    "list_samples = [x for x in list_samples if not x.startswith(\"Mother\")]\n",
    "list_samples = [x for x in list_samples if not x.startswith(\"Father\")]"
   ]
  },
  {
   "cell_type": "code",
   "execution_count": null,
   "id": "5f4dc934-d3f1-469b-be60-bd15984de84e",
   "metadata": {},
   "outputs": [],
   "source": [
    "list_samples"
   ]
  },
  {
   "cell_type": "code",
   "execution_count": null,
   "id": "0fdccd30-1382-4172-8b8b-8cf59df333e5",
   "metadata": {},
   "outputs": [],
   "source": [
    "sample_numbers = adata.obs[\"Sample2_predicted.celltype.l1_CleanAneu.l3\"].value_counts()\n",
    "sample_numbers = pd.DataFrame(sample_numbers)\n",
    "sample_numbers.to_csv(DESKTOP + \"sample_numbers.tsv\", sep=\"\\t\")"
   ]
  },
  {
   "cell_type": "code",
   "execution_count": null,
   "id": "59a2ae0c-0d42-4849-b97d-6e60d61635d5",
   "metadata": {},
   "outputs": [],
   "source": [
    "# Select Pathways\n",
    "GENESETS = \"/Users/mmm/BioPROJECTS/Public_Data/Signatures & Gene Sets/GSEA Gene Sets/\"\n",
    "gset = GENESETS + \"MAD1_selected_30\"\n",
    "\n",
    "# Empty dataframe to accumulate all GSEA results\n",
    "pre_res = pd.read_csv(GENESETS + \"pre_res_empy.tsv\", sep=\"\\t\", index_col=\"Term\")\n",
    "\n",
    "score = \"Sample2_predicted.celltype.l1_CleanAneu.l3\"            # column in adata.obs\n",
    "\n",
    "groupA = \"Proband_CD8 T_CleanEU\"              # label for score in adata.obs\n",
    "groupB = \"Control_CD8 T_CleanEU\"                # label for score in adata.obs\n",
    "pre_res = run_all(DESKTOP, database, dataname, score, groupA, groupB, method, pre_res)\n",
    "\n",
    "groupA = \"Proband_CD4 T_CleanEU\"              # label for score in adata.obs\n",
    "groupB = \"Control_CD4 T_CleanEU\"                # label for score in adata.obs\n",
    "pre_res = run_all(DESKTOP, database, dataname, score, groupA, groupB, method, pre_res)\n",
    "\n",
    "groupA = \"Proband_NK_CleanEU\"              # label for score in adata.obs\n",
    "groupB = \"Control_NK_CleanEU\"                # label for score in adata.obs\n",
    "pre_res = run_all(DESKTOP, database, dataname, score, groupA, groupB, method, pre_res)\n",
    "\n",
    "groupA = \"Proband_Mono_CleanEU\"              # label for score in adata.obs\n",
    "groupB = \"Control_Mono_CleanEU\"                # label for score in adata.obs\n",
    "pre_res = run_all(DESKTOP, database, dataname, score, groupA, groupB, method, pre_res)\n",
    "\n",
    "groupA = \"Proband_B_CleanEU\"              # label for score in adata.obs\n",
    "groupB = \"Control_B_CleanEU\"                # label for score in adata.obs\n",
    "pre_res = run_all(DESKTOP, database, dataname, score, groupA, groupB, method, pre_res)\n",
    "\n",
    "groupA = \"Proband_other T_CleanEU\"              # label for score in adata.obs\n",
    "groupB = \"Control_other T_CleanEU\"                # label for score in adata.obs\n",
    "pre_res = run_all(DESKTOP, database, dataname, score, groupA, groupB, method, pre_res)\n",
    "\n",
    "groupA = \"Proband_DC_CleanEU\"              # label for score in adata.obs\n",
    "groupB = \"Control_DC_CleanEU\"                # label for score in adata.obs\n",
    "pre_res = run_all(DESKTOP, database, dataname, score, groupA, groupB, method, pre_res)\n",
    "\n",
    "groupA = \"Proband_other_CleanEU\"              # label for score in adata.obs\n",
    "groupB = \"Control_other_CleanEU\"                # label for score in adata.obs\n",
    "pre_res = run_all(DESKTOP, database, dataname, score, groupA, groupB, method, pre_res)\n",
    "\n",
    "pre_res.to_csv(DESKTOP + \"GSEApy_Combined_results.tsv\", sep=\"\\t\")"
   ]
  },
  {
   "cell_type": "code",
   "execution_count": null,
   "id": "66145adf-709c-4ba5-aaad-c07d18862768",
   "metadata": {},
   "outputs": [],
   "source": []
  },
  {
   "cell_type": "markdown",
   "id": "e19798d2-d1a1-4e60-8c7e-66b2acfd8e86",
   "metadata": {},
   "source": [
    "### B-cells with G12 vs non-G12"
   ]
  },
  {
   "cell_type": "code",
   "execution_count": null,
   "id": "ca17b5d5-001a-4dbb-89cd-3e7a0a21bf18",
   "metadata": {},
   "outputs": [],
   "source": [
    "sample_numbers = adata.obs[\"Sample2_predicted.celltype.l1_G12\"].value_counts()\n",
    "sample_numbers = pd.DataFrame(sample_numbers)\n",
    "sample_numbers.to_csv(DESKTOP + \"sample_numbers.tsv\", sep=\"\\t\")"
   ]
  },
  {
   "cell_type": "code",
   "execution_count": null,
   "id": "7fa7d88d-b553-4a9c-8045-4f4811bd33fe",
   "metadata": {},
   "outputs": [],
   "source": [
    "GENESETS = \"/Users/mmm/BioPROJECTS/Public_Data/Signatures & Gene Sets/GSEA Gene Sets/\"\n",
    "gset = GENESETS + \"MAD1_selected_30\"\n",
    "\n",
    "# Empty dataframe to accumulate all GSEA results\n",
    "pre_res = pd.read_csv(GENESETS + \"pre_res_empy.tsv\", sep=\"\\t\", index_col=\"Term\")\n",
    "\n",
    "\n",
    "score = \"Sample2_predicted.celltype.l1_G12\"\n",
    "\n",
    "groupA = \"Proband_B_CleanAneuG12\"              \n",
    "groupB = \"Control_B_CleanEU\"                \n",
    "pre_res = run_all(DESKTOP, database, dataname, score, groupA, groupB, method, pre_res)\n",
    "\n",
    "groupA = \"Proband_B_CleanAneu\"              \n",
    "groupB = \"Control_B_CleanEU\"                \n",
    "pre_res = run_all(DESKTOP, database, dataname, score, groupA, groupB, method, pre_res)\n",
    "\n",
    "groupA = \"Proband_B_CleanAneuG12\"              \n",
    "groupB = \"Proband_B_CleanEU\"                \n",
    "pre_res = run_all(DESKTOP, database, dataname, score, groupA, groupB, method, pre_res)\n",
    "\n",
    "groupA = \"Proband_B_CleanAneu\"              \n",
    "groupB = \"Proband_B_CleanEU\"                \n",
    "pre_res = run_all(DESKTOP, database, dataname, score, groupA, groupB, method, pre_res)\n",
    "\n",
    "groupA = \"Proband_B_CleanEU\"              \n",
    "groupB = \"Control_B_CleanEU\"                \n",
    "pre_res = run_all(DESKTOP, database, dataname, score, groupA, groupB, method, pre_res)\n",
    "\n",
    "groupA = \"Proband_B_CleanAneuG12\"              \n",
    "groupB = \"Proband_B_CleanAneu\"                \n",
    "pre_res = run_all(DESKTOP, database, dataname, score, groupA, groupB, method, pre_res)\n",
    "\n",
    "pre_res.to_csv(DESKTOP + \"GSEApy_Combined_results.tsv\", sep=\"\\t\")"
   ]
  },
  {
   "cell_type": "markdown",
   "id": "b0977945-2fda-49b6-ba50-962512c68fb6",
   "metadata": {},
   "source": [
    "### gdT-cells with G18 vs non-G18"
   ]
  },
  {
   "cell_type": "code",
   "execution_count": null,
   "id": "f1e8b429-ffd4-43af-9fcf-6daf83057afd",
   "metadata": {},
   "outputs": [],
   "source": [
    "sample_numbers = adata.obs[\"Sample2_predicted.celltype.l2_G18\"].value_counts()\n",
    "sample_numbers = pd.DataFrame(sample_numbers)\n",
    "sample_numbers.to_csv(DESKTOP + \"sample_numbers.tsv\", sep=\"\\t\")"
   ]
  },
  {
   "cell_type": "code",
   "execution_count": null,
   "id": "2620a24d-f09e-40be-b135-c26fe16de080",
   "metadata": {},
   "outputs": [],
   "source": [
    "GENESETS = \"/Users/mmm/BioPROJECTS/Public_Data/Signatures & Gene Sets/GSEA Gene Sets/\"\n",
    "gset = GENESETS + \"MAD1_selected_30\"\n",
    "\n",
    "# Empty dataframe to accumulate all GSEA results\n",
    "pre_res = pd.read_csv(GENESETS + \"pre_res_empy.tsv\", sep=\"\\t\", index_col=\"Term\")\n",
    "\n",
    "\n",
    "score = \"Sample2_predicted.celltype.l2_G18\"\n",
    "\n",
    "groupA = \"Proband_gdT_CleanAneuG18\"              \n",
    "groupB = \"Control_gdT_CleanEU\"                \n",
    "pre_res = run_all(DESKTOP, database, dataname, score, groupA, groupB, method, pre_res)\n",
    "\n",
    "groupA = \"Proband_gdT_CleanAneu\"              \n",
    "groupB = \"Control_gdT_CleanEU\"                \n",
    "pre_res = run_all(DESKTOP, database, dataname, score, groupA, groupB, method, pre_res)\n",
    "\n",
    "groupA = \"Proband_gdT_CleanAneuG18\"              \n",
    "groupB = \"Proband_gdT_CleanEU\"                \n",
    "pre_res = run_all(DESKTOP, database, dataname, score, groupA, groupB, method, pre_res)\n",
    "\n",
    "groupA = \"Proband_gdT_CleanAneu\"              \n",
    "groupB = \"Proband_gdT_CleanEU\"                \n",
    "pre_res = run_all(DESKTOP, database, dataname, score, groupA, groupB, method, pre_res)\n",
    "\n",
    "groupA = \"Proband_gdT_CleanEU\"              \n",
    "groupB = \"Control_gdT_CleanEU\"                \n",
    "pre_res = run_all(DESKTOP, database, dataname, score, groupA, groupB, method, pre_res)\n",
    "\n",
    "groupA = \"Proband_gdT_CleanAneuG18\"              \n",
    "groupB = \"Proband_gdT_CleanAneu\"                \n",
    "pre_res = run_all(DESKTOP, database, dataname, score, groupA, groupB, method, pre_res)\n",
    "\n",
    "\n",
    "pre_res.to_csv(DESKTOP + \"GSEApy_Combined_results.tsv\", sep=\"\\t\")"
   ]
  },
  {
   "cell_type": "code",
   "execution_count": null,
   "id": "db906bb9-4d9d-4809-b5c7-1ff1a727cc0a",
   "metadata": {},
   "outputs": [],
   "source": []
  },
  {
   "cell_type": "code",
   "execution_count": null,
   "id": "b333b2b3-d60d-4107-a3c1-971acb087271",
   "metadata": {},
   "outputs": [],
   "source": []
  },
  {
   "cell_type": "code",
   "execution_count": null,
   "id": "906db3f1-7790-4da0-853b-9707261dcba2",
   "metadata": {},
   "outputs": [],
   "source": []
  },
  {
   "cell_type": "code",
   "execution_count": null,
   "id": "d59506c3-8cd3-4657-9b80-51b524af7de5",
   "metadata": {},
   "outputs": [],
   "source": []
  },
  {
   "cell_type": "markdown",
   "id": "a97800ce-1061-47ed-b625-4e154b0015ba",
   "metadata": {},
   "source": [
    "# OTHERS"
   ]
  },
  {
   "cell_type": "markdown",
   "id": "d02b979b-c480-40f7-b8dc-268dd5633b3a",
   "metadata": {},
   "source": [
    "### gdT G18 aneuploid vs non-G18 aneuploid"
   ]
  },
  {
   "cell_type": "code",
   "execution_count": null,
   "id": "a1c1a65c-6414-4607-8082-13356dd83800",
   "metadata": {},
   "outputs": [],
   "source": [
    "GENESETS = \"/Users/mmm/BioPROJECTS/Public_Data/Signatures & Gene Sets/GSEA Gene Sets/\"\n",
    "gset = GENESETS + \"gdTcells\"\n",
    "\n",
    "# Empty dataframe to accumulate all GSEA results\n",
    "pre_res = pd.read_csv(GENESETS + \"pre_res_empy.tsv\", sep=\"\\t\", index_col=\"Term\")\n",
    "\n",
    "score = \"Sample2_predicted.celltype.l2_G18\"\n",
    "\n",
    "groupA = \"Proband_gdT_CleanAneuG18\"             # label for score in adata.obs\n",
    "groupB = \"Proband_gdT_CleanAneu\"                # label for score in adata.obs\n",
    "pre_res = run_all(DESKTOP, database, dataname, score, groupA, groupB, method, pre_res)"
   ]
  },
  {
   "cell_type": "markdown",
   "id": "c2325f93-4bf7-43ba-a311-0fc220d4e45d",
   "metadata": {},
   "source": [
    "### B G12 aneuploid vs non-G12 aneuploid"
   ]
  },
  {
   "cell_type": "code",
   "execution_count": null,
   "id": "5696db5d-5083-4e41-8122-eff8fbab06f3",
   "metadata": {},
   "outputs": [],
   "source": [
    "# Empty dataframe to accumulate all GSEA results\n",
    "pre_res = pd.read_csv(GENESETS + \"pre_res_empy.tsv\", sep=\"\\t\", index_col=\"Term\")\n",
    "\n",
    "score = \"Sample2_predicted.celltype.l1_G12\"\n",
    "\n",
    "groupA = \"Proband_B_CleanAneuG12\"             # label for score in adata.obs\n",
    "groupB = \"Proband_B_CleanAneu\"                # label for score in adata.obs\n",
    "pre_res = run_all(DESKTOP, database, dataname, score, groupA, groupB, method, pre_res)"
   ]
  },
  {
   "cell_type": "code",
   "execution_count": null,
   "id": "81da98fe-aaf0-47bc-84b1-8fd199f88903",
   "metadata": {},
   "outputs": [],
   "source": []
  },
  {
   "cell_type": "markdown",
   "id": "2a9d2b57-7e79-4c05-b01c-c8dbdf308458",
   "metadata": {},
   "source": [
    "### Only platelets"
   ]
  },
  {
   "cell_type": "code",
   "execution_count": null,
   "id": "772aa0ff-21c4-40ae-a626-2c6190d4c359",
   "metadata": {},
   "outputs": [],
   "source": [
    "score = \"Sample2_predicted.celltype.l2\"\n",
    "\n",
    "GENESETS = \"/Users/mmm/BioPROJECTS/Public_Data/Signatures & Gene Sets/GSEA Gene Sets/\"\n",
    "gset = GENESETS + \"platelets\"\n",
    "\n",
    "# Empty dataframe to accumulate all GSEA results\n",
    "pre_res = pd.read_csv(GENESETS + \"pre_res_empy.tsv\", sep=\"\\t\", index_col=\"Term\")\n",
    "\n",
    "groupA = \"Proband_Platelet\"              # label for score in adata.obs\n",
    "groupB = \"Control_Platelet\"                # label for score in adata.obs\n",
    "pre_res = run_all(DESKTOP, database, dataname, score, groupA, groupB, method, pre_res)"
   ]
  },
  {
   "cell_type": "markdown",
   "id": "f0ff1164-6ba8-4cb7-b255-5b7a694963b2",
   "metadata": {},
   "source": [
    "#### Sample2_predicted.celltype.l2_CleanAneu.l3"
   ]
  },
  {
   "cell_type": "markdown",
   "id": "a0d081e9-6fd9-4830-912b-2154073d402a",
   "metadata": {},
   "source": [
    "Without data (n<3): \"Plasmablast\", \"ASDC\", \"NK Proliferating\", \"CD4 Naive\", \"cDC2\", \"NK_CD56bright\", \"CD8 Proliferating\", \"pDC\", \"cDC1\", \"B memory\", \"CD4 Proliferating\", \"MAIT\", \"Treg\", \"CD8 Naive\", \"HSPC\", \"ILC\""
   ]
  },
  {
   "cell_type": "code",
   "execution_count": null,
   "id": "48f0a3f0-0ea8-4dc0-898e-fea944e38fb0",
   "metadata": {},
   "outputs": [],
   "source": [
    "sample_numbers = adata.obs[\"Sample2_predicted.celltype.l2_CleanAneu.l3\"].value_counts()\n",
    "sample_numbers = pd.DataFrame(sample_numbers)\n",
    "sample_numbers.to_csv(DESKTOP + \"sample_numbers.tsv\", sep=\"\\t\")"
   ]
  },
  {
   "cell_type": "markdown",
   "id": "e674f511-48d8-43a0-89b4-ac40aa6b6bb8",
   "metadata": {},
   "source": [
    "### A: Proband.CleanAneu vs Control.CleanEU"
   ]
  },
  {
   "cell_type": "code",
   "execution_count": null,
   "id": "d142b4ed-4817-4c75-8214-b68816b5706f",
   "metadata": {},
   "outputs": [],
   "source": [
    "GENESETS = \"/Users/mmm/BioPROJECTS/Public_Data/Signatures & Gene Sets/GSEA Gene Sets/\"\n",
    "gset = GENESETS + \"MAD1_selected\"\n",
    "\n",
    "#h.c2.cp.v7.2.symbols_mix\n",
    "\n",
    "# Empty dataframe to accumulate all GSEA results\n",
    "pre_res = pd.read_csv(GENESETS + \"pre_res_empy.tsv\", sep=\"\\t\", index_col=\"Term\")"
   ]
  },
  {
   "cell_type": "code",
   "execution_count": null,
   "id": "398db7fe-4452-4ee6-9d4d-4a7d6b13fcf8",
   "metadata": {},
   "outputs": [],
   "source": [
    "score = \"Sample2_predicted.celltype.l2_CleanAneu.l3\"\n",
    "\n",
    "groupA = \"Proband_B intermediate_CleanAneu\"              \n",
    "groupB = \"Control_B intermediate_CleanEU\"                \n",
    "pre_res = run_all(DESKTOP, database, dataname, score, groupA, groupB, method, pre_res)\n",
    "\n",
    "groupA = \"Proband_B memory_CleanAneu\"              \n",
    "groupB = \"Control_B memory_CleanEU\"                \n",
    "pre_res = run_all(DESKTOP, database, dataname, score, groupA, groupB, method, pre_res)\n",
    "\n",
    "groupA = \"Proband_B naive_CleanAneu\"              \n",
    "groupB = \"Control_B naive_CleanEU\"                \n",
    "pre_res = run_all(DESKTOP, database, dataname, score, groupA, groupB, method, pre_res)\n",
    "\n",
    "groupA = \"Proband_CD14 Mono_CleanAneu\"              # label for score in adata.obs\n",
    "groupB = \"Control_CD14 Mono_CleanEU\"                # label for score in adata.obs\n",
    "pre_res = run_all(DESKTOP, database, dataname, score, groupA, groupB, method, pre_res)\n",
    "\n",
    "groupA = \"Proband_CD16 Mono_CleanAneu\"              # label for score in adata.obs\n",
    "groupB = \"Control_CD16 Mono_CleanEU\"                # label for score in adata.obs\n",
    "pre_res = run_all(DESKTOP, database, dataname, score, groupA, groupB, method, pre_res)\n",
    "\n",
    "groupA = \"Proband_CD4 TCM_CleanAneu\"              # label for score in adata.obs\n",
    "groupB = \"Control_CD4 TCM_CleanEU\"                # label for score in adata.obs\n",
    "pre_res = run_all(DESKTOP, database, dataname, score, groupA, groupB, method, pre_res)\n",
    "\n",
    "groupA = \"Proband_CD4 TEM_CleanAneu\"              # label for score in adata.obs\n",
    "groupB = \"Control_CD4 TEM_CleanEU\"                # label for score in adata.obs\n",
    "pre_res = run_all(DESKTOP, database, dataname, score, groupA, groupB, method, pre_res)\n",
    "\n",
    "groupA = \"Proband_CD8 Naive_CleanAneu\"              # label for score in adata.obs\n",
    "groupB = \"Control_CD8 Naive_CleanEU\"                # label for score in adata.obs\n",
    "pre_res = run_all(DESKTOP, database, dataname, score, groupA, groupB, method, pre_res)\n",
    "\n",
    "#groupA = \"Proband_CD8 TCM_CleanAneu\"              # label for score in adata.obs\n",
    "#groupB = \"Control_CD8 TCM_CleanEU\"                # label for score in adata.obs\n",
    "#pre_res = run_all(DESKTOP, database, dataname, score, groupA, groupB, method, pre_res)\n",
    "\n",
    "groupA = \"Proband_CD8 TEM_CleanAneu\"              # label for score in adata.obs\n",
    "groupB = \"Control_CD8 TEM_CleanEU\"                # label for score in adata.obs\n",
    "pre_res = run_all(DESKTOP, database, dataname, score, groupA, groupB, method, pre_res)\n",
    "\n",
    "groupA = \"Proband_cDC2_CleanAneu\"              # label for score in adata.obs\n",
    "groupB = \"Control_cDC2_CleanEU\"                # label for score in adata.obs\n",
    "pre_res = run_all(DESKTOP, database, dataname, score, groupA, groupB, method, pre_res)\n",
    "\n",
    "#groupA = \"Proband_dnT_CleanAneu\"              # label for score in adata.obs\n",
    "#groupB = \"Control_dnT_CleanEU\"                # label for score in adata.obs\n",
    "#pre_res = run_all(DESKTOP, database, dataname, score, groupA, groupB, method, pre_res)\n",
    "\n",
    "groupA = \"Proband_gdT_CleanAneu\"              # label for score in adata.obs\n",
    "groupB = \"Control_gdT_CleanEU\"                # label for score in adata.obs\n",
    "pre_res = run_all(DESKTOP, database, dataname, score, groupA, groupB, method, pre_res)\n",
    "\n",
    "#groupA = \"Proband_HSPC_CleanAneu\"              # label for score in adata.obs\n",
    "#groupB = \"Control_HSPC_CleanEU\"                # label for score in adata.obs\n",
    "#pre_res = run_all(DESKTOP, database, dataname, score, groupA, groupB, method, pre_res)\n",
    "\n",
    "#groupA = \"Proband_ILC_CleanAneu\"              # label for score in adata.obs\n",
    "#groupB = \"Control_ILC_CleanEU\"                # label for score in adata.obs\n",
    "#pre_res = run_all(DESKTOP, database, dataname, score, groupA, groupB, method, pre_res)\n",
    "\n",
    "groupA = \"Proband_MAIT_CleanAneu\"              # label for score in adata.obs\n",
    "groupB = \"Control_MAIT_CleanEU\"                # label for score in adata.obs\n",
    "pre_res = run_all(DESKTOP, database, dataname, score, groupA, groupB, method, pre_res)\n",
    "\n",
    "groupA = \"Proband_NK_CleanAneu\"              # label for score in adata.obs\n",
    "groupB = \"Control_NK_CleanEU\"                # label for score in adata.obs\n",
    "pre_res = run_all(DESKTOP, database, dataname, score, groupA, groupB, method, pre_res)\n",
    "\n",
    "#groupA = \"Proband_NK_Proliferating_CleanAneu\"              # label for score in adata.obs\n",
    "#groupB = \"Control_NK_Proliferating_CleanEU\"                # label for score in adata.obs\n",
    "#pre_res = run_all(DESKTOP, database, dataname, score, groupA, groupB, method, pre_res)\n",
    "\n",
    "groupA = \"Proband_NK_CD56bright_CleanAneu\"              # label for score in adata.obs\n",
    "groupB = \"Control_NK_CD56bright_CleanEU\"                # label for score in adata.obs\n",
    "pre_res = run_all(DESKTOP, database, dataname, score, groupA, groupB, method, pre_res)\n",
    "\n",
    "#groupA = \"Proband_pDC_CleanAneu\"              # label for score in adata.obs\n",
    "#groupB = \"Control_pDC_CleanEU\"                # label for score in adata.obs\n",
    "#pre_res = run_all(DESKTOP, database, dataname, score, groupA, groupB, method, pre_res)\n",
    "\n",
    "groupA = \"Proband_Platelet_CleanAneu\"              # label for score in adata.obs\n",
    "groupB = \"Control_Platelet_CleanEU\"                # label for score in adata.obs\n",
    "pre_res = run_all(DESKTOP, database, dataname, score, groupA, groupB, method, pre_res)\n",
    "\n",
    "groupA = \"Proband_Treg_CleanAneu\"              # label for score in adata.obs\n",
    "groupB = \"Control_Treg_CleanEU\"                # label for score in adata.obs\n",
    "pre_res = run_all(DESKTOP, database, dataname, score, groupA, groupB, method, pre_res)\n",
    "\n",
    "pre_res.to_csv(DESKTOP + \"GSEApy_Combined_results.tsv\", sep=\"\\t\")"
   ]
  },
  {
   "cell_type": "markdown",
   "id": "cd90d574-6c48-4f14-917f-8da057e5a299",
   "metadata": {},
   "source": [
    "### B: Proband.CleanAneu vs Proband.CleanEU"
   ]
  },
  {
   "cell_type": "code",
   "execution_count": null,
   "id": "87df598e-d434-4027-9eba-c263708b5cc2",
   "metadata": {},
   "outputs": [],
   "source": [
    "GENESETS = \"/Users/mmm/BioPROJECTS/Public_Data/Signatures & Gene Sets/GSEA Gene Sets/\"\n",
    "gset = GENESETS + \"MAD1_selected\"\n",
    "\n",
    "#h.c2.cp.v7.2.symbols_mix\n",
    "\n",
    "# Empty dataframe to accumulate all GSEA results\n",
    "pre_res = pd.read_csv(GENESETS + \"pre_res_empy.tsv\", sep=\"\\t\", index_col=\"Term\")"
   ]
  },
  {
   "cell_type": "code",
   "execution_count": null,
   "id": "9a31c943-73da-4626-9e37-1fb1d5861e16",
   "metadata": {},
   "outputs": [],
   "source": [
    "score = \"Sample2_predicted.celltype.l2_CleanAneu.l3\"\n",
    "\n",
    "groupA = \"Proband_B intermediate_CleanAneu\"              \n",
    "groupB = \"Proband_B intermediate_CleanEU\"                \n",
    "pre_res = run_all(DESKTOP, database, dataname, score, groupA, groupB, method, pre_res)\n",
    "\n",
    "groupA = \"Proband_B memory_CleanAneu\"              \n",
    "groupB = \"Proband_B memory_CleanEU\"                \n",
    "pre_res = run_all(DESKTOP, database, dataname, score, groupA, groupB, method, pre_res)\n",
    "\n",
    "groupA = \"Proband_B naive_CleanAneu\"              \n",
    "groupB = \"Proband_B naive_CleanEU\"                \n",
    "pre_res = run_all(DESKTOP, database, dataname, score, groupA, groupB, method, pre_res)\n",
    "\n",
    "groupA = \"Proband_CD14 Mono_CleanAneu\"              # label for score in adata.obs\n",
    "groupB = \"Proband_CD14 Mono_CleanEU\"                # label for score in adata.obs\n",
    "pre_res = run_all(DESKTOP, database, dataname, score, groupA, groupB, method, pre_res)\n",
    "\n",
    "groupA = \"Proband_CD16 Mono_CleanAneu\"              # label for score in adata.obs\n",
    "groupB = \"Proband_CD16 Mono_CleanEU\"                # label for score in adata.obs\n",
    "pre_res = run_all(DESKTOP, database, dataname, score, groupA, groupB, method, pre_res)\n",
    "\n",
    "groupA = \"Proband_CD4 TCM_CleanAneu\"              # label for score in adata.obs\n",
    "groupB = \"Proband_CD4 TCM_CleanEU\"                # label for score in adata.obs\n",
    "pre_res = run_all(DESKTOP, database, dataname, score, groupA, groupB, method, pre_res)\n",
    "\n",
    "groupA = \"Proband_CD4 TEM_CleanAneu\"              # label for score in adata.obs\n",
    "groupB = \"Proband_CD4 TEM_CleanEU\"                # label for score in adata.obs\n",
    "pre_res = run_all(DESKTOP, database, dataname, score, groupA, groupB, method, pre_res)\n",
    "\n",
    "groupA = \"Proband_CD8 Naive_CleanAneu\"              # label for score in adata.obs\n",
    "groupB = \"Proband_CD8 Naive_CleanEU\"                # label for score in adata.obs\n",
    "pre_res = run_all(DESKTOP, database, dataname, score, groupA, groupB, method, pre_res)\n",
    "\n",
    "#groupA = \"Proband_CD8 TCM_CleanAneu\"              # label for score in adata.obs\n",
    "#groupB = \"Proband_CD8 TCM_CleanEU\"                # label for score in adata.obs\n",
    "#pre_res = run_all(DESKTOP, database, dataname, score, groupA, groupB, method, pre_res)\n",
    "\n",
    "groupA = \"Proband_CD8 TEM_CleanAneu\"              # label for score in adata.obs\n",
    "groupB = \"Proband_CD8 TEM_CleanEU\"                # label for score in adata.obs\n",
    "pre_res = run_all(DESKTOP, database, dataname, score, groupA, groupB, method, pre_res)\n",
    "\n",
    "groupA = \"Proband_cDC2_CleanAneu\"              # label for score in adata.obs\n",
    "groupB = \"Proband_cDC2_CleanEU\"                # label for score in adata.obs\n",
    "pre_res = run_all(DESKTOP, database, dataname, score, groupA, groupB, method, pre_res)\n",
    "\n",
    "#groupA = \"Proband_dnT_CleanAneu\"              # label for score in adata.obs\n",
    "#groupB = \"Proband_dnT_CleanEU\"                # label for score in adata.obs\n",
    "#pre_res = run_all(DESKTOP, database, dataname, score, groupA, groupB, method, pre_res)\n",
    "\n",
    "groupA = \"Proband_gdT_CleanAneu\"              # label for score in adata.obs\n",
    "groupB = \"Proband_gdT_CleanEU\"                # label for score in adata.obs\n",
    "pre_res = run_all(DESKTOP, database, dataname, score, groupA, groupB, method, pre_res)\n",
    "\n",
    "#groupA = \"Proband_HSPC_CleanAneu\"              # label for score in adata.obs\n",
    "#groupB = \"Proband_HSPC_CleanEU\"                # label for score in adata.obs\n",
    "#pre_res = run_all(DESKTOP, database, dataname, score, groupA, groupB, method, pre_res)\n",
    "\n",
    "#groupA = \"Proband_ILC_CleanAneu\"              # label for score in adata.obs\n",
    "#groupB = \"Proband_ILC_CleanEU\"                # label for score in adata.obs\n",
    "#pre_res = run_all(DESKTOP, database, dataname, score, groupA, groupB, method, pre_res)\n",
    "\n",
    "groupA = \"Proband_MAIT_CleanAneu\"              # label for score in adata.obs\n",
    "groupB = \"Proband_MAIT_CleanEU\"                # label for score in adata.obs\n",
    "pre_res = run_all(DESKTOP, database, dataname, score, groupA, groupB, method, pre_res)\n",
    "\n",
    "groupA = \"Proband_NK_CleanAneu\"              # label for score in adata.obs\n",
    "groupB = \"Proband_NK_CleanEU\"                # label for score in adata.obs\n",
    "pre_res = run_all(DESKTOP, database, dataname, score, groupA, groupB, method, pre_res)\n",
    "\n",
    "#groupA = \"Proband_NK_Proliferating_CleanAneu\"              # label for score in adata.obs\n",
    "#groupB = \"Proband_NK_Proliferating_CleanEU\"                # label for score in adata.obs\n",
    "#pre_res = run_all(DESKTOP, database, dataname, score, groupA, groupB, method, pre_res)\n",
    "\n",
    "groupA = \"Proband_NK_CD56bright_CleanAneu\"              # label for score in adata.obs\n",
    "groupB = \"Proband_NK_CD56bright_CleanEU\"                # label for score in adata.obs\n",
    "pre_res = run_all(DESKTOP, database, dataname, score, groupA, groupB, method, pre_res)\n",
    "\n",
    "#groupA = \"Proband_pDC_CleanAneu\"              # label for score in adata.obs\n",
    "#groupB = \"Proband_pDC_CleanEU\"                # label for score in adata.obs\n",
    "#pre_res = run_all(DESKTOP, database, dataname, score, groupA, groupB, method, pre_res)\n",
    "\n",
    "groupA = \"Proband_Platelet_CleanAneu\"              # label for score in adata.obs\n",
    "groupB = \"Proband_Platelet_CleanEU\"                # label for score in adata.obs\n",
    "pre_res = run_all(DESKTOP, database, dataname, score, groupA, groupB, method, pre_res)\n",
    "\n",
    "groupA = \"Proband_Treg_CleanAneu\"              # label for score in adata.obs\n",
    "groupB = \"Proband_Treg_CleanEU\"                # label for score in adata.obs\n",
    "pre_res = run_all(DESKTOP, database, dataname, score, groupA, groupB, method, pre_res)\n",
    "\n",
    "pre_res.to_csv(DESKTOP + \"GSEApy_Combined_results.tsv\", sep=\"\\t\")"
   ]
  },
  {
   "cell_type": "markdown",
   "id": "0e81b17e-4dc1-426d-ab3b-b5e5e30097a8",
   "metadata": {},
   "source": [
    "### C: Proband.CleanEU vs Control.CleanEU"
   ]
  },
  {
   "cell_type": "code",
   "execution_count": null,
   "id": "72d244c5-93fa-4468-ba83-b90d0ae141e2",
   "metadata": {},
   "outputs": [],
   "source": [
    "GENESETS = \"/Users/mmm/BioPROJECTS/Public_Data/Signatures & Gene Sets/GSEA Gene Sets/\"\n",
    "gset = GENESETS + \"MAD1_selected\"\n",
    "\n",
    "#h.c2.cp.v7.2.symbols_mix\n",
    "\n",
    "# Empty dataframe to accumulate all GSEA results\n",
    "pre_res = pd.read_csv(GENESETS + \"pre_res_empy.tsv\", sep=\"\\t\", index_col=\"Term\")"
   ]
  },
  {
   "cell_type": "code",
   "execution_count": null,
   "id": "87674a72-108f-4c34-b510-89e2f10d1dbe",
   "metadata": {},
   "outputs": [],
   "source": [
    "score = \"Sample2_predicted.celltype.l2_CleanAneu.l3\"\n",
    "\n",
    "groupA = \"Proband_B intermediate_CleanEU\"              \n",
    "groupB = \"Control_B intermediate_CleanEU\"                \n",
    "pre_res = run_all(DESKTOP, database, dataname, score, groupA, groupB, method, pre_res)\n",
    "\n",
    "groupA = \"Proband_B memory_CleanEU\"              \n",
    "groupB = \"Control_B memory_CleanEU\"                \n",
    "pre_res = run_all(DESKTOP, database, dataname, score, groupA, groupB, method, pre_res)\n",
    "\n",
    "groupA = \"Proband_B naive_CleanEU\"              \n",
    "groupB = \"Control_B naive_CleanEU\"                \n",
    "pre_res = run_all(DESKTOP, database, dataname, score, groupA, groupB, method, pre_res)\n",
    "\n",
    "groupA = \"Proband_CD14 Mono_CleanEU\"              # label for score in adata.obs\n",
    "groupB = \"Control_CD14 Mono_CleanEU\"                # label for score in adata.obs\n",
    "pre_res = run_all(DESKTOP, database, dataname, score, groupA, groupB, method, pre_res)\n",
    "\n",
    "groupA = \"Proband_CD16 Mono_CleanEU\"              # label for score in adata.obs\n",
    "groupB = \"Control_CD16 Mono_CleanEU\"                # label for score in adata.obs\n",
    "pre_res = run_all(DESKTOP, database, dataname, score, groupA, groupB, method, pre_res)\n",
    "\n",
    "groupA = \"Proband_CD4 TCM_CleanEU\"              # label for score in adata.obs\n",
    "groupB = \"Control_CD4 TCM_CleanEU\"                # label for score in adata.obs\n",
    "pre_res = run_all(DESKTOP, database, dataname, score, groupA, groupB, method, pre_res)\n",
    "\n",
    "groupA = \"Proband_CD4 TEM_CleanEU\"              # label for score in adata.obs\n",
    "groupB = \"Control_CD4 TEM_CleanEU\"                # label for score in adata.obs\n",
    "pre_res = run_all(DESKTOP, database, dataname, score, groupA, groupB, method, pre_res)\n",
    "\n",
    "groupA = \"Proband_CD8 Naive_CleanEU\"              # label for score in adata.obs\n",
    "groupB = \"Control_CD8 Naive_CleanEU\"                # label for score in adata.obs\n",
    "pre_res = run_all(DESKTOP, database, dataname, score, groupA, groupB, method, pre_res)\n",
    "\n",
    "#groupA = \"Proband_CD8 TCM_CleanEU\"              # label for score in adata.obs\n",
    "#groupB = \"Control_CD8 TCM_CleanEU\"                # label for score in adata.obs\n",
    "#pre_res = run_all(DESKTOP, database, dataname, score, groupA, groupB, method, pre_res)\n",
    "\n",
    "groupA = \"Proband_CD8 TEM_CleanEU\"              # label for score in adata.obs\n",
    "groupB = \"Control_CD8 TEM_CleanEU\"                # label for score in adata.obs\n",
    "pre_res = run_all(DESKTOP, database, dataname, score, groupA, groupB, method, pre_res)\n",
    "\n",
    "groupA = \"Proband_cDC2_CleanEU\"              # label for score in adata.obs\n",
    "groupB = \"Control_cDC2_CleanEU\"                # label for score in adata.obs\n",
    "pre_res = run_all(DESKTOP, database, dataname, score, groupA, groupB, method, pre_res)\n",
    "\n",
    "#groupA = \"Proband_dnT_CleanEU\"              # label for score in adata.obs\n",
    "#groupB = \"Control_dnT_CleanEU\"                # label for score in adata.obs\n",
    "#pre_res = run_all(DESKTOP, database, dataname, score, groupA, groupB, method, pre_res)\n",
    "\n",
    "groupA = \"Proband_gdT_CleanEU\"              # label for score in adata.obs\n",
    "groupB = \"Control_gdT_CleanEU\"                # label for score in adata.obs\n",
    "pre_res = run_all(DESKTOP, database, dataname, score, groupA, groupB, method, pre_res)\n",
    "\n",
    "#groupA = \"Proband_HSPC_CleanEU\"              # label for score in adata.obs\n",
    "#groupB = \"Control_HSPC_CleanEU\"                # label for score in adata.obs\n",
    "#pre_res = run_all(DESKTOP, database, dataname, score, groupA, groupB, method, pre_res)\n",
    "\n",
    "#groupA = \"Proband_ILC_CleanEU\"              # label for score in adata.obs\n",
    "#groupB = \"Control_ILC_CleanEU\"                # label for score in adata.obs\n",
    "#pre_res = run_all(DESKTOP, database, dataname, score, groupA, groupB, method, pre_res)\n",
    "\n",
    "groupA = \"Proband_MAIT_CleanEU\"              # label for score in adata.obs\n",
    "groupB = \"Control_MAIT_CleanEU\"                # label for score in adata.obs\n",
    "pre_res = run_all(DESKTOP, database, dataname, score, groupA, groupB, method, pre_res)\n",
    "\n",
    "groupA = \"Proband_NK_CleanEU\"              # label for score in adata.obs\n",
    "groupB = \"Control_NK_CleanEU\"                # label for score in adata.obs\n",
    "pre_res = run_all(DESKTOP, database, dataname, score, groupA, groupB, method, pre_res)\n",
    "\n",
    "#groupA = \"Proband_NK_Proliferating_CleanEU\"              # label for score in adata.obs\n",
    "#groupB = \"Control_NK_Proliferating_CleanEU\"                # label for score in adata.obs\n",
    "#pre_res = run_all(DESKTOP, database, dataname, score, groupA, groupB, method, pre_res)\n",
    "\n",
    "groupA = \"Proband_NK_CD56bright_CleanEU\"              # label for score in adata.obs\n",
    "groupB = \"Control_NK_CD56bright_CleanEU\"                # label for score in adata.obs\n",
    "pre_res = run_all(DESKTOP, database, dataname, score, groupA, groupB, method, pre_res)\n",
    "\n",
    "#groupA = \"Proband_pDC_CleanEU\"              # label for score in adata.obs\n",
    "#groupB = \"Control_pDC_CleanEU\"                # label for score in adata.obs\n",
    "#pre_res = run_all(DESKTOP, database, dataname, score, groupA, groupB, method, pre_res)\n",
    "\n",
    "groupA = \"Proband_Platelet_CleanEU\"              # label for score in adata.obs\n",
    "groupB = \"Control_Platelet_CleanEU\"                # label for score in adata.obs\n",
    "pre_res = run_all(DESKTOP, database, dataname, score, groupA, groupB, method, pre_res)\n",
    "\n",
    "groupA = \"Proband_Treg_CleanEU\"              # label for score in adata.obs\n",
    "groupB = \"Control_Treg_CleanEU\"                # label for score in adata.obs\n",
    "pre_res = run_all(DESKTOP, database, dataname, score, groupA, groupB, method, pre_res)\n",
    "\n",
    "pre_res.to_csv(DESKTOP + \"GSEApy_Combined_results.tsv\", sep=\"\\t\")"
   ]
  },
  {
   "cell_type": "code",
   "execution_count": null,
   "id": "c5be6087-24ba-44cf-8a30-6f998d80dbf2",
   "metadata": {},
   "outputs": [],
   "source": []
  },
  {
   "cell_type": "markdown",
   "id": "ffa97787-e2d2-4dc2-b94a-1bd8bf145e46",
   "metadata": {},
   "source": [
    "## L3"
   ]
  },
  {
   "cell_type": "code",
   "execution_count": null,
   "id": "cb258e8f-e1d1-4637-b7ba-0642c5b6a3b0",
   "metadata": {},
   "outputs": [],
   "source": [
    "GENESETS = \"/Users/mmm/BioPROJECTS/Public_Data/Signatures & Gene Sets/GSEA Gene Sets/\"\n",
    "gset = GENESETS + \"h.c2.cp.v7.2.symbols_mix\"\n",
    "\n",
    "# Empty dataframe to accumulate all GSEA results\n",
    "pre_res = pd.read_csv(GENESETS + \"pre_res_empy.tsv\", sep=\"\\t\", index_col=\"Term\")"
   ]
  },
  {
   "cell_type": "markdown",
   "id": "7b708ee1-a11e-4596-93f8-cfe435c65518",
   "metadata": {},
   "source": [
    "Without data (n<3): \"Plasmablast\", \"ASDC\", \"NK Proliferating\", \"CD4 Naive\", \"cDC2\", \"NK_CD56bright\", \"CD8 Proliferating\", \"pDC\", \"cDC1\", \"B memory\", \"CD4 Proliferating\", \"MAIT\", \"Treg\", \"CD8 Naive\", \"HSPC\", \"ILC\""
   ]
  },
  {
   "cell_type": "code",
   "execution_count": null,
   "id": "298e466f-8447-4340-b5b6-7300e66815ec",
   "metadata": {},
   "outputs": [],
   "source": [
    "sample_numbers = adata.obs[\"Sample2_predicted.celltype.l3_CleanAneu.l3\"].value_counts()\n",
    "sample_numbers = pd.DataFrame(sample_numbers)\n",
    "sample_numbers.to_csv(DESKTOP + \"sample_numbers.tsv\", sep=\"\\t\")"
   ]
  },
  {
   "cell_type": "code",
   "execution_count": null,
   "id": "a44c24eb-b951-4787-bd78-b5b5aa6357ce",
   "metadata": {},
   "outputs": [],
   "source": [
    "score = \"Sample2_predicted.celltype.l3_CleanAneu.l3\"            # column in adata.obs\n",
    "\n",
    "groupA = \"Proband_Platelet_CleanAneu\"              # label for score in adata.obs\n",
    "groupB = \"Control_Platelet_CleanEU\"                # label for score in adata.obs\n",
    "pre_res = run_all(DESKTOP, database, dataname, score, groupA, groupB, method, pre_res)\n",
    "\n",
    "groupA = \"Proband_B intermediate kappa_CleanAneu\"              # label for score in adata.obs\n",
    "groupB = \"Control_B intermediate kappa_CleanEU\"                # label for score in adata.obs\n",
    "pre_res = run_all(DESKTOP, database, dataname, score, groupA, groupB, method, pre_res)\n",
    "\n",
    "groupA = \"Proband_B intermediate lambda_CleanAneu\"              # label for score in adata.obs\n",
    "groupB = \"Control_B intermediate lambda_CleanEU\"                # label for score in adata.obs\n",
    "pre_res = run_all(DESKTOP, database, dataname, score, groupA, groupB, method, pre_res)\n",
    "\n",
    "groupA = \"Proband_gdT_2_CleanAneu\"              # label for score in adata.obs\n",
    "groupB = \"Control_gdT_2_CleanEU\"                # label for score in adata.obs\n",
    "pre_res = run_all(DESKTOP, database, dataname, score, groupA, groupB, method, pre_res)\n",
    "\n",
    "groupA = \"Proband_gdT_4_CleanAneu\"              # label for score in adata.obs\n",
    "groupB = \"Control_gdT_4_CleanEU\"                # label for score in adata.obs\n",
    "pre_res = run_all(DESKTOP, database, dataname, score, groupA, groupB, method, pre_res)\n",
    "\n",
    "\n",
    "groupA = \"Proband_B memory kappa_CleanAneu\"              # label for score in adata.obs\n",
    "groupB = \"Control_B memory kappa_CleanEU\"                # label for score in adata.obs\n",
    "pre_res = run_all(DESKTOP, database, dataname, score, groupA, groupB, method, pre_res)\n",
    "\n",
    "groupA = \"Proband_B memory lambda_CleanAneu\"              # label for score in adata.obs\n",
    "groupB = \"Control_B memory lambda_CleanEU\"                # label for score in adata.obs\n",
    "pre_res = run_all(DESKTOP, database, dataname, score, groupA, groupB, method, pre_res)\n",
    "\n",
    "groupA = \"Proband_B naive kappa_CleanAneu\"              # label for score in adata.obs\n",
    "groupB = \"Control_B naive kappa_CleanEU\"                # label for score in adata.obs\n",
    "pre_res = run_all(DESKTOP, database, dataname, score, groupA, groupB, method, pre_res)\n",
    "\n",
    "groupA = \"Proband_B naive lambda_CleanAneu\"              # label for score in adata.obs\n",
    "groupB = \"Control_B naive lambda_CleanEU\"                # label for score in adata.obs\n",
    "pre_res = run_all(DESKTOP, database, dataname, score, groupA, groupB, method, pre_res)\n",
    "\n",
    "groupA = \"Proband_CD14 Mono_CleanAneu\"              # label for score in adata.obs\n",
    "groupB = \"Control_CD14 Mono_CleanEU\"                # label for score in adata.obs\n",
    "pre_res = run_all(DESKTOP, database, dataname, score, groupA, groupB, method, pre_res)\n",
    "\n",
    "groupA = \"Proband_CD16 Mono_CleanAneu\"              # label for score in adata.obs\n",
    "groupB = \"Control_CD16 Mono_CleanEU\"                # label for score in adata.obs\n",
    "pre_res = run_all(DESKTOP, database, dataname, score, groupA, groupB, method, pre_res)\n",
    "\n",
    "groupA = \"Proband_CD4 TCM_1_CleanAneu\"              # label for score in adata.obs\n",
    "groupB = \"Control_CD4 TCM_1_CleanEU\"                # label for score in adata.obs\n",
    "pre_res = run_all(DESKTOP, database, dataname, score, groupA, groupB, method, pre_res)\n",
    "\n",
    "groupA = \"Proband_CD4 TCM_2_CleanAneu\"              # label for score in adata.obs\n",
    "groupB = \"Control_CD4 TCM_2_CleanEU\"                # label for score in adata.obs\n",
    "pre_res = run_all(DESKTOP, database, dataname, score, groupA, groupB, method, pre_res)\n",
    "\n",
    "groupA = \"Proband_CD4 TCM_3_CleanAneu\"              # label for score in adata.obs\n",
    "groupB = \"Control_CD4 TCM_3_CleanEU\"                # label for score in adata.obs\n",
    "pre_res = run_all(DESKTOP, database, dataname, score, groupA, groupB, method, pre_res)\n",
    "\n",
    "groupA = \"Proband_CD4 TEM_1_CleanAneu\"              # label for score in adata.obs\n",
    "groupB = \"Control_CD4 TEM_1_CleanEU\"                # label for score in adata.obs\n",
    "pre_res = run_all(DESKTOP, database, dataname, score, groupA, groupB, method, pre_res)\n",
    "\n",
    "groupA = \"Proband_CD8 Naive_2_CleanAneu\"              # label for score in adata.obs\n",
    "groupB = \"Control_CD8 Naive_2_CleanEU\"                # label for score in adata.obs\n",
    "pre_res = run_all(DESKTOP, database, dataname, score, groupA, groupB, method, pre_res)\n",
    "\n",
    "groupA = \"Proband_CD8 TEM_1_CleanAneu\"              # label for score in adata.obs\n",
    "groupB = \"Control_CD8 TEM_1_CleanEU\"                # label for score in adata.obs\n",
    "pre_res = run_all(DESKTOP, database, dataname, score, groupA, groupB, method, pre_res)\n",
    "\n",
    "groupA = \"Proband_CD8 TEM_2_CleanAneu\"              # label for score in adata.obs\n",
    "groupB = \"Control_CD8 TEM_2_CleanEU\"                # label for score in adata.obs\n",
    "pre_res = run_all(DESKTOP, database, dataname, score, groupA, groupB, method, pre_res)\n",
    "\n",
    "groupA = \"Proband_CD8 TEM_5_CleanAneu\"              # label for score in adata.obs\n",
    "groupB = \"Control_CD8 TEM_5_CleanEU\"                # label for score in adata.obs\n",
    "pre_res = run_all(DESKTOP, database, dataname, score, groupA, groupB, method, pre_res)\n",
    "\n",
    "groupA = \"Proband_CD8 TEM_6_CleanAneu\"              # label for score in adata.obs\n",
    "groupB = \"Control_CD8 TEM_6_CleanEU\"                # label for score in adata.obs\n",
    "pre_res = run_all(DESKTOP, database, dataname, score, groupA, groupB, method, pre_res)\n",
    "\n",
    "groupA = \"Proband_cDC2_2_CleanAneu\"              # label for score in adata.obs\n",
    "groupB = \"Control_cDC2_2_CleanEU\"                # label for score in adata.obs\n",
    "pre_res = run_all(DESKTOP, database, dataname, score, groupA, groupB, method, pre_res)\n",
    "\n",
    "groupA = \"Proband_dnT_2_CleanAneu\"              # label for score in adata.obs\n",
    "groupB = \"Control_dnT_2_CleanEU\"                # label for score in adata.obs\n",
    "pre_res = run_all(DESKTOP, database, dataname, score, groupA, groupB, method, pre_res)\n",
    "\n",
    "groupA = \"Proband_gdT_1_CleanAneu\"              # label for score in adata.obs\n",
    "groupB = \"Control_gdT_1_CleanEU\"                # label for score in adata.obs\n",
    "pre_res = run_all(DESKTOP, database, dataname, score, groupA, groupB, method, pre_res)\n",
    "\n",
    "groupA = \"Proband_gdT_3_CleanAneu\"              # label for score in adata.obs\n",
    "groupB = \"Control_gdT_3_CleanEU\"                # label for score in adata.obs\n",
    "pre_res = run_all(DESKTOP, database, dataname, score, groupA, groupB, method, pre_res)\n",
    "\n",
    "groupA = \"Proband_MAIT_CleanAneu\"              # label for score in adata.obs\n",
    "groupB = \"Control_MAIT_CleanEU\"                # label for score in adata.obs\n",
    "pre_res = run_all(DESKTOP, database, dataname, score, groupA, groupB, method, pre_res)\n",
    "\n",
    "groupA = \"Proband_NK Proliferating_CleanAneu\"              # label for score in adata.obs\n",
    "groupB = \"Control_NK Proliferating_CleanEU\"                # label for score in adata.obs\n",
    "pre_res = run_all(DESKTOP, database, dataname, score, groupA, groupB, method, pre_res)\n",
    "\n",
    "groupA = \"Proband_NK_2_CleanAneu\"              # label for score in adata.obs\n",
    "groupB = \"Control_NK_2_CleanEU\"                # label for score in adata.obs\n",
    "pre_res = run_all(DESKTOP, database, dataname, score, groupA, groupB, method, pre_res)\n",
    "\n",
    "groupA = \"Proband_NK_4_CleanAneu\"              # label for score in adata.obs\n",
    "groupB = \"Control_NK_4_CleanEU\"                # label for score in adata.obs\n",
    "pre_res = run_all(DESKTOP, database, dataname, score, groupA, groupB, method, pre_res)\n",
    "\n",
    "groupA = \"Proband_NK_CD56bright_CleanAneu\"              # label for score in adata.obs\n",
    "groupB = \"Control_NK_CD56bright_CleanEU\"                # label for score in adata.obs\n",
    "pre_res = run_all(DESKTOP, database, dataname, score, groupA, groupB, method, pre_res)\n",
    "\n",
    "groupA = \"Proband_Treg Memory_CleanAneu\"              # label for score in adata.obs\n",
    "groupB = \"Control_Treg Memory_CleanEU\"                # label for score in adata.obs\n",
    "pre_res = run_all(DESKTOP, database, dataname, score, groupA, groupB, method, pre_res)\n",
    "\n",
    "\n",
    "pre_res.to_csv(DESKTOP + \"GSEApy_Combined_results.tsv\", sep=\"\\t\")"
   ]
  },
  {
   "cell_type": "code",
   "execution_count": null,
   "id": "ff6c556d-3c54-4c02-b97c-3689e1ecdfef",
   "metadata": {},
   "outputs": [],
   "source": []
  },
  {
   "cell_type": "code",
   "execution_count": null,
   "id": "fe787633-36dc-4504-bede-6ccc9b06aafc",
   "metadata": {},
   "outputs": [],
   "source": []
  },
  {
   "cell_type": "markdown",
   "id": "e1712e7b-bf59-4e62-83d2-199aadc871a3",
   "metadata": {},
   "source": [
    "#### --> **REPEAT FOR EACH COMPARISON: BACK to 5.2**  "
   ]
  },
  {
   "cell_type": "markdown",
   "id": "d058cf50-5ea0-477d-b9c6-4c60d42280ae",
   "metadata": {},
   "source": [
    "### 4.3. Run the cell below **after finishing all comparisons in 4.2**"
   ]
  },
  {
   "cell_type": "code",
   "execution_count": null,
   "id": "b5f81ca4-e897-4995-b4a8-d09169a7abe3",
   "metadata": {},
   "outputs": [],
   "source": [
    "pre_res.to_csv(DESKTOP + \"GSEApy_Combined_results.tsv\", sep=\"\\t\")"
   ]
  },
  {
   "cell_type": "markdown",
   "id": "a4ebea16-d563-40b8-83bd-b3c38a6e2faa",
   "metadata": {},
   "source": [
    "## 5. Pathway Plots <a class=\"anchor\" id=\"pathways\"></a>\n",
    "[Back to Menu](#menu)  \n",
    "\n",
    "Select pathways and samples to plot and save to `GSEApy_Combined_results.tsv`"
   ]
  },
  {
   "cell_type": "code",
   "execution_count": null,
   "id": "ea36e674-de50-4f96-b29f-605c0821b59e",
   "metadata": {},
   "outputs": [],
   "source": [
    "pathways = pd.read_csv(DESKTOP + \"GSEApy_Combined_results.tsv\", sep=\"\\t\")\n",
    "pathways.head(3)"
   ]
  },
  {
   "cell_type": "code",
   "execution_count": null,
   "id": "33da7215-179a-4860-a55a-67da876b91fd",
   "metadata": {},
   "outputs": [],
   "source": [
    "pre_res_nes = pathways.pivot_table(index='Sample', columns=\"Term\", values='nes')\n",
    "pre_res_nes"
   ]
  },
  {
   "cell_type": "code",
   "execution_count": null,
   "id": "b9e0d9b2-8409-4779-a3b1-44da23503a8e",
   "metadata": {},
   "outputs": [],
   "source": [
    "sample_order_Samples = [\"ad_Proband_CleanAneu_vs_Control_CleanEU\",\n",
    "                        \"ad_Proband_CleanAneu_vs_Proband_CleanEU\",\n",
    "                        \"ad_Proband_CleanEU_vs_Control_CleanEU\"]\n",
    "\n",
    "sample_order_L1 = [\"ad_Proband_CD4 T_CleanAneu_vs_Control_CD4 T_CleanEU\", \n",
    "                   \"ad_Proband_CD8 T_CleanAneu_vs_Control_CD8 T_CleanEU\", \n",
    "                   \"ad_Proband_NK_CleanAneu_vs_Control_NK_CleanEU\", \n",
    "                   \"ad_Proband_other T_CleanAneu_vs_Control_other T_CleanEU\", \n",
    "                   \"ad_Proband_B_CleanAneu_vs_Control_B_CleanEU\", \n",
    "                   \"ad_Proband_Mono_CleanAneu_vs_Control_Mono_CleanEU\", \n",
    "                   \"ad_Proband_DC_CleanAneu_vs_Control_DC_CleanEU\", \n",
    "                   \"ad_Proband_other_CleanAneu_vs_Control_other_CleanEU\"]\n",
    "\n",
    "sample_order_L2 = [\"ad_Proband_CD4 TEM_CleanAneu_vs_Control_CD4 TEM_CleanEU\", \n",
    "                   \"ad_Proband_CD4 TCM_CleanAneu_vs_Control_CD4 TCM_CleanEU\", \n",
    "                   \"ad_Proband_CD8 TCEM_CleanAneu_vs_Control_CD8 TEM_CleanEU\", \n",
    "                   \"ad_Proband_NK_CleanAneu_vs_Control_NK_CleanEU\", \n",
    "                   \"ad_Proband_dnT_CleanAneu_vs_Control_dnT_CleanEU\", \n",
    "                   \"ad_Proband_gdT_CleanAneu_vs_Control_gdT_CleanEU\",\n",
    "                   \"ad_Proband_B naive_CleanAneu_vs_Control_B naive_CleanEU\", \n",
    "                   \"ad_Proband_B intermediate_CleanAneu_vs_Control_B intermediate_CleanEU\", \n",
    "                   \"ad_Proband_CD14 Mono_CleanAneu_vs_Control_CD14 Mono_CleanEU\", \n",
    "                   \"ad_Proband_CD16 Mono_CleanAneu_vs_Control_CD16 Mono_CleanEU\", \n",
    "                   \"ad_Proband_Platelet_CleanAneu_vs_Control_Platelet_CleanEU\"]\n",
    "\n",
    "sample_order_L3 = [\"ad_Proband_CD4 TCM_1_CleanAneu_vs_Control_CD4 TCM_1_CleanEU\", \n",
    "                   \"ad_Proband_CD4 TCM_2_CleanAneu_vs_Control_CD4 TCM_2_CleanEU\", \n",
    "                   \"ad_Proband_CD4 TEM_1_CleanAneu_vs_Control_CD4 TEM_1_CleanEU\", \n",
    "                   \"ad_Proband_CD8 Naive_2_CleanAneu_vs_Control_CD8 Naive_2_CleanEU\",\n",
    "                   \"ad_Proband_CD8 TEM_1_CleanAneu_vs_Control_CD8 TEM_1_CleanEU\",\n",
    "                   \"ad_Proband_CD8 TEM_2_CleanAneu_vs_Control_CD8 TEM_1_CleanEU\",\n",
    "                   \"ad_Proband_CD8 TEM_5_CleanAneu_vs_Control_CD8 TEM_1_CleanEU\",\n",
    "                   \"ad_Proband_CD8 TEM_6_CleanAneu_vs_Control_CD8 TEM_1_CleanEU\",\n",
    "                   \"ad_Proband_NK Proliferating_CleanAneu_vs_Control_NK Proliferating_CleanEU\",\n",
    "                   \"ad_Proband_NK_2_CleanAneu_vs_Control_NK_2_CleanEU\",\n",
    "                   \"ad_Proband_NK_4_CleanAneu_vs_Control_NK_4_CleanEU\",\n",
    "                   \"ad_Proband_NK_CD56bright_CleanAneu_vs_Control_NK_CD56bright_CleanEU\",\n",
    "                   \"ad_Proband_Treg Memory_CleanAneu_vs_Control_Treg Memory_CleanEU\",\n",
    "                   \"ad_Proband_MAIT_CleanAneu_vs_Control_MAIT_CleanEU\",\n",
    "                   \"ad_Proband_dnT_2_CleanAneu_vs_Control_dnT_2_CleanEU\",\n",
    "                   \"ad_Proband_gdT_1_CleanAneu_vs_Control_gdT_1_CleanEU\",\n",
    "                   \"ad_Proband_gdT_2_CleanAneu_vs_Control_gdT_1_CleanEU\",\n",
    "                   \"ad_Proband_gdT_3_CleanAneu_vs_Control_gdT_1_CleanEU\",\n",
    "                   \"ad_Proband_gdT_4_CleanAneu_vs_Control_gdT_1_CleanEU\",\n",
    "                   \"ad_Proband_B naive kappa_CleanAneu_vs_Control_B naive kappa_CleanEU\",\n",
    "                   \"ad_Proband_B naive lambda_CleanAneu_vs_Control_B naive lambda_CleanEU\",\n",
    "                   \"ad_Proband_B intermediate kappa_CleanAneu_vs_Control_B intermediate kappa_CleanEU\",\n",
    "                   \"ad_Proband_B intermediate lambda_CleanAneu_vs_Control_B intermediate lambda_CleanEU\",\n",
    "                   \"ad_Proband_B memory kappa_CleanAneu_vs_Control_B memory kappa_CleanEU\",\n",
    "                   \"ad_Proband_B memory lambda_CleanAneu_vs_Control_B memory lambda_CleanEU\",\n",
    "                   \"ad_Proband_CD14 Mono_CleanAneu_vs_Control_CD14 Mono_CleanEU\",\n",
    "                   \"ad_Proband_CD16 Mono_CleanAneu_vs_Control_CD16 Mono_CleanEU\",\n",
    "                   \"ad_Proband_cDC2_2_CleanAneu_vs_Control_cDC2_2_CleanEU\",\n",
    "                   \"ad_Proband_Platelet_CleanAneu_vs_Control_Platelet_CleanEU\"]\n",
    "\n",
    "sample_order = sample_order_Samples"
   ]
  },
  {
   "cell_type": "code",
   "execution_count": null,
   "id": "3e1e2875-52f6-4aa7-9417-ee7657bf2b87",
   "metadata": {},
   "outputs": [],
   "source": [
    "pre_res_nes = pre_res_nes.reindex(index=sample_order)"
   ]
  },
  {
   "cell_type": "code",
   "execution_count": null,
   "id": "1e2e7fc6-8550-466b-8713-aae7539b595b",
   "metadata": {},
   "outputs": [],
   "source": [
    "# Prepare a template for the right order of pathways\n",
    "pre_res_nes.to_csv(DESKTOP + \"template.tsv\", sep=\"\\t\")"
   ]
  },
  {
   "cell_type": "code",
   "execution_count": null,
   "id": "261c545a-85c5-4939-a433-ca19c9926ad1",
   "metadata": {},
   "outputs": [],
   "source": [
    "template = pd.read_csv(DESKTOP + \"template_pathways_ordered.tsv\", sep=\"\\t\")\n",
    "print(template.head(3))\n",
    "\n",
    "pathways_list = template[\"Pathways\"].tolist()\n",
    "\n",
    "#pre_res_nes = pd.concat([template, pre_res_nes], axis=0)\n",
    "pre_res_nes = pre_res_nes[pathways_list]\n",
    "pre_res_nes"
   ]
  },
  {
   "cell_type": "code",
   "execution_count": null,
   "id": "aecf20ab-a94b-4d04-9120-ca15f3060107",
   "metadata": {},
   "outputs": [],
   "source": [
    "# Use pval or fdr\n",
    "pre_res_fdr = pathways.pivot_table(index='Sample', columns=\"Term\", values='fdr')\n",
    "pre_res_fdr = pre_res_fdr.reindex(index=sample_order)\n",
    "pre_res_fdr = pre_res_fdr[pathways_list]\n",
    "pre_res_fdr"
   ]
  },
  {
   "cell_type": "code",
   "execution_count": null,
   "id": "84c309fa-1466-467e-be7b-d603af5973e5",
   "metadata": {},
   "outputs": [],
   "source": [
    "# Transform to -log\n",
    "import numpy as np\n",
    "size = -np.log(pre_res_fdr)\n",
    "size2 = size.replace(np.inf, 3)"
   ]
  },
  {
   "cell_type": "code",
   "execution_count": null,
   "id": "3d89fa71-ef38-4c99-8339-450858d6baea",
   "metadata": {},
   "outputs": [],
   "source": [
    "# \"scattermaps_mm.py\" needs to be in the same folder as this notebook\n",
    "import scattermaps_mm\n",
    "from scattermaps_mm import scattermap"
   ]
  },
  {
   "cell_type": "code",
   "execution_count": null,
   "id": "3720e6d0-89fe-49f1-93b7-29b39d5629b9",
   "metadata": {},
   "outputs": [],
   "source": [
    "plt.figure(figsize=(20,10))\n",
    "ax = scattermap(pre_res_nes, cmap='coolwarm', marker_size=size2, factor=40, vmin=-2, vmax=2, \n",
    "                square=True)\n",
    "plt.tight_layout()\n",
    "plt.savefig(DESKTOP + \"GSEApy_dotPlot.png\")"
   ]
  },
  {
   "cell_type": "code",
   "execution_count": null,
   "id": "7b08dac2-9128-4b69-82d0-b539b0beaa9c",
   "metadata": {},
   "outputs": [],
   "source": []
  },
  {
   "cell_type": "markdown",
   "id": "a089a58b-4c3c-44bc-a308-6e9e3650bd57",
   "metadata": {},
   "source": [
    "## Most specific genes in the proband"
   ]
  },
  {
   "cell_type": "code",
   "execution_count": null,
   "id": "9f9b7544-5136-42db-8319-d59293721a0f",
   "metadata": {},
   "outputs": [],
   "source": [
    "proband_genes_controls = [\"MTRNR2L8\", \"MT-ATP6\", \"MTRNR2L12\", \"MT-ND4\", \"MT-CO2\", \"MT-CYB\", \"MT-CO3\", \"MT-CO1\",\n",
    "                \"MT-ND1\", \"HLA-DRB5\", \"MT-ND3\", \"MTRNR2L1\", \"MT-ND5\", \"HLA-B\", \"RPL17\", \"CCL5\", \"IRF1\",\n",
    "                \"ZEB2\", \"LINC-PINT\", \"MTRNR2L10\", \"MT-ND2\", \"NEAT1\", \"AC020916.1\", \"REL\"]\n",
    "\n",
    "proband_genes_others = [\"MTRNR2L8\", \"MTRNR2L12\", \"MT-ATP6\", \"MT-CO2\", \"MT-ND4\", \"MT-CYB\", \"MT-ND1\", \"MT-ND3\", \n",
    "                        \"MT-CO1\", \"MT-CO3\", \"HLA-DRB5\", \"CCL5\", \"IRF1\", \"HLA-B\", \"MTRNR2L10\", \"HSPA5\",\n",
    "                        \"DDX3X\", \"LINC-PINT\", \"MT2A\", \"GZMH\",\n",
    "                        \"TRDC\"]\n",
    "\n",
    "proband_vs_controls_selected = {\n",
    "    \"Humanins\": [\"MTRNR2L8\", \"MTRNR2L12\", \"MTRNR2L10\"],\n",
    "    \"Mitochondrial genes\": [\"MT-ATP6\", \"MT-CO2\", \"MT-ND4\", \"MT-CYB\", \"MT-ND1\", \"MT-ND3\", \"MT-CO1\"],\n",
    "    \"Antigen presentation\": [\"HLA-DRB5\", \"HLA-DQA2\"],\n",
    "    \"Interferon pathway\": [\"IRF1\", \"MT2A\"],\n",
    "    \"NFkB pathway\": [\"CCL5\", \"REL\"],\n",
    "    \"lncRNAs\": [\"LINC-PINT\", \"NEAT1\"],\n",
    "}\n"
   ]
  },
  {
   "cell_type": "code",
   "execution_count": null,
   "id": "7cbfeb8e-9da2-45e3-b789-c5bf2722487c",
   "metadata": {},
   "outputs": [],
   "source": [
    "sc.pl.dotplot(adata, proband_genes_controls, groupby=\"Sample\", standard_scale=\"var\")\n",
    "sc.pl.dotplot(adata, proband_genes_others, groupby=\"Sample\", standard_scale=\"var\")\n",
    "sc.pl.dotplot(adata, proband_vs_controls_selected, groupby=\"Sample\", ) #standard_scale=\"var\""
   ]
  },
  {
   "cell_type": "code",
   "execution_count": null,
   "id": "420eec85-5b0b-4b33-a731-ab47804a9783",
   "metadata": {},
   "outputs": [],
   "source": [
    "sc.pl.dotplot(ad_proband, proband_genes_others, groupby=\"predicted.celltype.l1\", standard_scale=\"var\")\n",
    "sc.pl.dotplot(ad_proband, proband_vs_controls_selected, groupby=\"predicted.celltype.l1\", \n",
    "              categories_order=L1, ) #standard_scale=\"var\"\n"
   ]
  },
  {
   "cell_type": "code",
   "execution_count": null,
   "id": "ee8f9cff-d5ec-4bfa-85e1-9f908f03d484",
   "metadata": {},
   "outputs": [],
   "source": [
    "cells_to_remove = ['CD8 Proliferating', 'cDC1', 'Plasmablast', \n",
    "                   'CD4 Proliferating', 'CD4 Naive']\n",
    "ad_proband_clean = ad_proband[~ad_proband.obs[\"predicted.celltype.l2\"].isin(cells_to_remove)]"
   ]
  },
  {
   "cell_type": "code",
   "execution_count": null,
   "id": "15fad6bc-5978-4461-91d7-79e8b18506ec",
   "metadata": {},
   "outputs": [],
   "source": [
    "ad_proband_clean.obs[\"predicted.celltype.l2\"].unique()"
   ]
  },
  {
   "cell_type": "code",
   "execution_count": null,
   "id": "1dbc9c7a-e6c4-4e5e-8a52-825087e35b56",
   "metadata": {},
   "outputs": [],
   "source": [
    "sc.pl.dotplot(ad_proband_clean, proband_vs_controls_selected, groupby=\"predicted.celltype.l2\", \n",
    "              categories_order=L2, standard_scale=\"var\", save=\"proband_selected_genes_L2.png\")"
   ]
  },
  {
   "cell_type": "code",
   "execution_count": null,
   "id": "917591c6-e5a0-4895-9b80-424be83f2a4f",
   "metadata": {},
   "outputs": [],
   "source": []
  },
  {
   "cell_type": "markdown",
   "id": "7c432121-f623-4e96-ba20-dd0217e3c42c",
   "metadata": {},
   "source": [
    "## Most specific genes in Aneuploid cells"
   ]
  },
  {
   "cell_type": "code",
   "execution_count": null,
   "id": "2079c327-8d1d-4130-95b5-9108c4e167c0",
   "metadata": {},
   "outputs": [],
   "source": [
    "samples_to_keep = [\"Proband_CleanAneu\", \"Proband_CleanEU\", \"Control_CleanEU\"]\n",
    "ad_Samples2_CleanAneu_L3 = adata[adata.obs[\"Sample2_CleanAneu.l3\"].isin(samples_to_keep)]"
   ]
  },
  {
   "cell_type": "code",
   "execution_count": null,
   "id": "13df52bf-f0f1-49f1-a1b6-e202ffcd259f",
   "metadata": {},
   "outputs": [],
   "source": [
    "sc.pl.dotplot(ad_Samples2_CleanAneu_L3, proband_vs_controls_selected, groupby=\"Sample2_CleanAneu.l3\",\n",
    "             #standard_scale=\"var\",\n",
    "             categories_order=[\"Proband_CleanAneu\", \"Proband_CleanEU\", \"Control_CleanEU\"]\n",
    "             )"
   ]
  },
  {
   "cell_type": "code",
   "execution_count": null,
   "id": "4d68d6a8-bf77-4a45-a060-6444f4b781aa",
   "metadata": {},
   "outputs": [],
   "source": [
    "ad_Samples2_CleanAneu_L3_Proband_CleanAneu = adata[adata.obs[\"Sample2_CleanAneu.l3\"]==\"Proband_CleanAneu\"]\n",
    "sc.pl.dotplot(ad_Samples2_CleanAneu_L3_Proband_CleanAneu, proband_vs_controls_selected, \n",
    "              groupby=\"predicted.celltype.l1\", \n",
    "              categories_order=L1, )  #standard_scale=\"var\""
   ]
  },
  {
   "cell_type": "code",
   "execution_count": null,
   "id": "b24d700f-eb59-4f76-a609-f0424ca32958",
   "metadata": {},
   "outputs": [],
   "source": [
    "ad_Samples2_CleanAneu_L3_Proband_CleanEU = adata[adata.obs[\"Sample2_CleanAneu.l3\"]==\"Proband_CleanEU\"]\n",
    "sc.pl.dotplot(ad_Samples2_CleanAneu_L3_Proband_CleanEU, proband_vs_controls_selected, \n",
    "              groupby=\"predicted.celltype.l1\", \n",
    "              categories_order=L1, )"
   ]
  },
  {
   "cell_type": "code",
   "execution_count": null,
   "id": "190ce8c5-d28e-42e9-8952-4ebc000fcf54",
   "metadata": {},
   "outputs": [],
   "source": [
    "ad_Samples2_CleanAneu_L3_Control_CleanEU = adata[adata.obs[\"Sample2_CleanAneu.l3\"]==\"Control_CleanEU\"]\n",
    "sc.pl.dotplot(ad_Samples2_CleanAneu_L3_Control_CleanEU, proband_vs_controls_selected, \n",
    "              groupby=\"predicted.celltype.l1\", \n",
    "              categories_order=L1, )"
   ]
  },
  {
   "cell_type": "code",
   "execution_count": null,
   "id": "e58c4bc0-9954-4533-983f-b295e3a2a60f",
   "metadata": {},
   "outputs": [],
   "source": []
  },
  {
   "cell_type": "markdown",
   "id": "4954a4d1-ed10-4692-874b-4faea3e09e46",
   "metadata": {},
   "source": [
    "## 6. Tumor signatures <a class=\"anchor\" id=\"tumor\"></a>\n",
    "[Back to Menu](#menu) "
   ]
  },
  {
   "cell_type": "markdown",
   "id": "1c8a2425-1cc8-4b6f-b809-85c53c399ae5",
   "metadata": {},
   "source": [
    "**CLL 44 gene-signature**.  \n",
    "Cornet et al PLoS One: https://journals.plos.org/plosone/article?id=10.1371/journal.pone.0128990"
   ]
  },
  {
   "cell_type": "code",
   "execution_count": null,
   "id": "989516c3-bdfa-480d-8e46-b028d634bd36",
   "metadata": {},
   "outputs": [],
   "source": [
    "CLL_44 = [\"ABCA6\", \"ADAM29\", \"AICDA\", \"BIK\", \"BMI1\", \"BUB1B\", \"CD200\", \"CD24\", \"TNFRSF17\", \"CD27\",\n",
    "         \"CD5\", \"CHIT1\", \"CLLU1\", \"CNR1\", \"COL9A2\", \"CTLA4\", \"CXCR3\", \"DMD\", \"DNMBP\", \"FCMR\",\n",
    "         \"FCER2\", \"FGF2\", \"FGFR1\", \"FILIP1L\", \"FLT3\", \"FMOD\", \"GNRH1\", \"IGFBP4\", \"IGHG1\", \"IGHG2\", \"IGHG3\",\n",
    "          \"IGHG4\", \"IGSF3\", \"IL2RA\", \"IGKC\", \"IGLC7\", \"LEF1\", \"LILRA4\", \"LPL\", \"RAPGEF3\", \"RASGRF1\",\n",
    "          \"ROR1\", \"SELP\", \"SEPTIN10\", \"SFMBT1\", \"TTN\", \"WNT3\"]\n",
    "\n",
    "CLL_13 = [\"BMI1\", \"CD200\", \"CD27\", \"CD5\", \"COL9A2\", \"DNMBP\", \"FCMR\", \"GNRH1\", \"LEF1\", \"RASGRF1\", \"ROR1\", \n",
    "          \"SFMBT1\", \"TTN\"]"
   ]
  },
  {
   "cell_type": "code",
   "execution_count": null,
   "id": "1c0a8aff-88b5-4f24-8b04-79de01b95ca3",
   "metadata": {},
   "outputs": [],
   "source": [
    "sc.tl.score_genes(adata, CLL_44, ctrl_size=50, gene_pool=None, n_bins=25, \n",
    "                  score_name='CCL_44_signature', random_state=0, copy=False, use_raw=None)"
   ]
  },
  {
   "cell_type": "code",
   "execution_count": null,
   "id": "4a55779f-381c-4d72-a81b-b04c78c64f2e",
   "metadata": {},
   "outputs": [],
   "source": [
    "sc.tl.score_genes(adata, CLL_13, ctrl_size=50, gene_pool=None, n_bins=25, \n",
    "                  score_name='CCL_13_signature', random_state=0, copy=False, use_raw=None)"
   ]
  },
  {
   "cell_type": "code",
   "execution_count": null,
   "id": "e393d9c0-a0c7-4569-8722-3df60d1cc173",
   "metadata": {},
   "outputs": [],
   "source": [
    "sc.pl.violin(adata, [\"CCL_44_signature\"], groupby=\"Sample2\")"
   ]
  },
  {
   "cell_type": "code",
   "execution_count": null,
   "id": "d484b7e1-6028-4770-af37-741645dab935",
   "metadata": {},
   "outputs": [],
   "source": [
    "sc.pl.dotplot(adata, [\"CCL_44_signature\"], groupby=\"Sample2\")"
   ]
  },
  {
   "cell_type": "code",
   "execution_count": null,
   "id": "5d778c17-5361-4317-97bb-e38ce8d3ce29",
   "metadata": {},
   "outputs": [],
   "source": [
    "ad_B_cells = adata[adata.obs[\"predicted.celltype.l1\"]==\"B\"]"
   ]
  },
  {
   "cell_type": "code",
   "execution_count": null,
   "id": "4d17c91b-4063-4dc7-a0c0-55c6413c7b73",
   "metadata": {},
   "outputs": [],
   "source": [
    "sc.pl.dotplot(ad_B_cells, [\"CCL_44_signature\"], groupby=\"Sample\")"
   ]
  },
  {
   "cell_type": "code",
   "execution_count": null,
   "id": "a17b381f-7cc3-4a24-aecb-09363344d55f",
   "metadata": {},
   "outputs": [],
   "source": [
    "sc.pl.dotplot(ad_B_cells, [\"CCL_13_signature\"], groupby=\"Sample\")"
   ]
  },
  {
   "cell_type": "code",
   "execution_count": null,
   "id": "847f1c04-e3a7-43e1-8f15-ba4977f2aa30",
   "metadata": {},
   "outputs": [],
   "source": [
    "sc.pl.violin(ad_B_cells, [\"CCL_13_signature\", \"CCL_44_signature\"], groupby=\"Sample2_predicted.celltype.l1_G12\",\n",
    "             order=[\"Control_B_CleanEU\", \"Proband_B_CleanEU\", \"Proband_B_CleanAneu\", \"Proband_B_CleanAneuG12\"], \n",
    "             rotation=90,\n",
    "             )"
   ]
  },
  {
   "cell_type": "code",
   "execution_count": null,
   "id": "923c3db2-dbc5-4711-b779-7b93f497095c",
   "metadata": {},
   "outputs": [],
   "source": [
    "sc.pl.dotplot(ad_B_cells, [\"CCL_13_signature\", \"CCL_44_signature\"], groupby=\"Sample2_predicted.celltype.l1_G12\",\n",
    "             #categories_order=[\"Proband_B_CleanAneu\", \"Proband_B_CleanAneuG12\"],\n",
    "             )"
   ]
  },
  {
   "cell_type": "code",
   "execution_count": null,
   "id": "31c5a1dc-ca7e-4b1d-b5be-91f9db62cfb7",
   "metadata": {},
   "outputs": [],
   "source": [
    "sc.pl.violin(ad_B_cells, [\"CCL_44_signature\", \"CCL_13_signature\"], groupby=\"Sample\", jitter=0.25, rotation=30)"
   ]
  },
  {
   "cell_type": "code",
   "execution_count": null,
   "id": "f294b46a-8062-479b-a012-1af5ad150c0e",
   "metadata": {},
   "outputs": [],
   "source": [
    "sc.pl.dotplot(ad_B_cells, CLL_44, groupby=\"Sample\", standard_scale=\"var\")"
   ]
  },
  {
   "cell_type": "code",
   "execution_count": null,
   "id": "7f46d85a-7ec9-45b4-8b87-66601f6b2756",
   "metadata": {},
   "outputs": [],
   "source": [
    "CLL_44_noIGKC = [\"ABCA6\", \"ADAM29\", \"AICDA\", \"BIK\", \"BMI1\", \"BUB1B\", \"CD200\", \"CD24\", \"TNFRSF17\", \"CD27\",\n",
    "         \"CD5\", \"CHIT1\", \"CLLU1\", \"CNR1\", \"COL9A2\", \"CTLA4\", \"CXCR3\", \"DMD\", \"DNMBP\", \"FCMR\",\n",
    "         \"FCER2\", \"FGF2\", \"FGFR1\", \"FILIP1L\", \"FLT3\", \"FMOD\", \"GNRH1\", \"IGFBP4\", \"IGHG1\", \"IGHG2\", \"IGHG3\",\n",
    "          \"IGHG4\", \"IGSF3\", \"IL2RA\", \"IGLC7\", \"LEF1\", \"LILRA4\", \"LPL\", \"RAPGEF3\", \"RASGRF1\",\n",
    "          \"ROR1\", \"SELP\", \"SEPTIN10\", \"SFMBT1\", \"TTN\", \"WNT3\"]"
   ]
  },
  {
   "cell_type": "code",
   "execution_count": null,
   "id": "d57b52b5-328a-4ec0-a543-6631b4f63866",
   "metadata": {},
   "outputs": [],
   "source": [
    "sc.pl.dotplot(ad_B_cells, CLL_44_noIGKC, groupby=\"Sample\", standard_scale=\"var\")"
   ]
  },
  {
   "cell_type": "code",
   "execution_count": null,
   "id": "392dfb39-3494-4a98-805a-f284704a330e",
   "metadata": {},
   "outputs": [],
   "source": [
    "sc.pl.dotplot(ad_B_cells, CLL_13, groupby=\"Sample\", standard_scale=\"var\")"
   ]
  },
  {
   "cell_type": "code",
   "execution_count": null,
   "id": "ef4e5d61-0452-4ecd-b4bc-a44efff273e0",
   "metadata": {},
   "outputs": [],
   "source": [
    "adata.write(DATA + \"220207_MAD1_scRNAseq.h5ad\")"
   ]
  },
  {
   "cell_type": "markdown",
   "id": "70051368-7b16-48d4-a68b-1e74c03b6d7f",
   "metadata": {},
   "source": [
    "### ALL\n",
    "- Ferrando: https://www.sciencedirect.com/science/article/pii/S1535610802000181\n",
    "- https://www.ncbi.nlm.nih.gov/pmc/articles/PMC1323166/"
   ]
  },
  {
   "cell_type": "code",
   "execution_count": null,
   "id": "0b824dd8-87d8-426f-bdb5-1421b769989c",
   "metadata": {},
   "outputs": [],
   "source": [
    "ALL_7 = [\"CD44\", \"TBXAS1\", \"GRAP2\"]"
   ]
  },
  {
   "cell_type": "code",
   "execution_count": null,
   "id": "d0b16dcb-7c0c-4c52-9a39-248263f20f4a",
   "metadata": {},
   "outputs": [],
   "source": [
    "sc.pl.umap(adata, color=ALL_7)"
   ]
  },
  {
   "cell_type": "code",
   "execution_count": null,
   "id": "9492b7e2-6ccf-4229-a481-d43fe21dea21",
   "metadata": {},
   "outputs": [],
   "source": [
    "sc.pl.dotplot(adata,[\"TAL1\", \"LMO2\", \"TLX1\", \"TLX3\", \"HOXA\"], groupby=\"Sample\", standard_scale=\"var\")"
   ]
  },
  {
   "cell_type": "code",
   "execution_count": null,
   "id": "638eadc4-87d4-402c-928c-8373abf4f908",
   "metadata": {},
   "outputs": [],
   "source": [
    "gdt4 = ['TRDC', 'TIGIT', 'KLRC2', 'TRGC2', 'IKZF2', 'GCSAM', 'FCRL6', 'TRDV1', 'CST7', 'CMC1']\n",
    "gdt4 = ['TRDC', 'TIGIT', 'KLRC2', 'TRGC2', 'IKZF2', 'GCSAM', 'FCRL6', 'TRDV1']"
   ]
  },
  {
   "cell_type": "code",
   "execution_count": null,
   "id": "754519c1-a913-4158-9bba-07818ca47f1f",
   "metadata": {},
   "outputs": [],
   "source": [
    "sc.pl.dotplot(adata, gdt4, groupby=\"Sample\", standard_scale=\"var\")"
   ]
  },
  {
   "cell_type": "code",
   "execution_count": null,
   "id": "1bc0064a-b4f4-4574-a4f8-4e2e5aab1cab",
   "metadata": {},
   "outputs": [],
   "source": [
    "proband = adata[adata.obs[\"Sample\"]==\"Proband\"]\n",
    "\n",
    "proband.obs.groupby(\"predicted.celltype.l3\")[\"Aneu.l3\"].value_counts()"
   ]
  },
  {
   "cell_type": "code",
   "execution_count": null,
   "id": "235999af-3c7a-4b23-ae9b-433335b536f5",
   "metadata": {},
   "outputs": [],
   "source": [
    "controls = adata[adata.obs[\"Sample2\"]==\"Control\"]\n",
    "controls.obs.groupby(\"predicted.celltype.l3\")[\"Aneu.l3\"].value_counts()"
   ]
  },
  {
   "cell_type": "code",
   "execution_count": null,
   "id": "951ef5b0-07a1-4689-8f79-75429bbf1853",
   "metadata": {},
   "outputs": [],
   "source": []
  },
  {
   "cell_type": "code",
   "execution_count": null,
   "id": "ac84925d-f90c-4bd7-8a76-d646660fed9e",
   "metadata": {},
   "outputs": [],
   "source": []
  }
 ],
 "metadata": {
  "kernelspec": {
   "display_name": "Python 3 (ipykernel)",
   "language": "python",
   "name": "python3"
  },
  "language_info": {
   "codemirror_mode": {
    "name": "ipython",
    "version": 3
   },
   "file_extension": ".py",
   "mimetype": "text/x-python",
   "name": "python",
   "nbconvert_exporter": "python",
   "pygments_lexer": "ipython3",
   "version": "3.8.12"
  }
 },
 "nbformat": 4,
 "nbformat_minor": 5
}
