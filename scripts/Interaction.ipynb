{
 "cells": [
  {
   "cell_type": "markdown",
   "id": "167893fc-f897-47f1-a8a1-6488ec40d37f",
   "metadata": {},
   "source": [
    "# Analysis of cellphoneDB data\n",
    "\n",
    "@mmm  \n",
    "February 20, 2022"
   ]
  },
  {
   "cell_type": "code",
   "execution_count": null,
   "id": "3b0a2e00-7d56-4ff1-858f-033e9f8a130d",
   "metadata": {},
   "outputs": [],
   "source": [
    "import numpy as np\n",
    "import pandas as pd\n",
    "import matplotlib.pyplot as plt\n",
    "import seaborn as sns\n",
    "\n",
    "# \"scattermaps_mm.py\" needs to be in the same folder as this notebook\n",
    "import scattermaps_mm\n",
    "from scattermaps_mm import scattermap\n",
    "\n",
    "from IPython.display import set_matplotlib_formats\n",
    "set_matplotlib_formats('retina')"
   ]
  },
  {
   "cell_type": "code",
   "execution_count": null,
   "id": "04e564e2-4259-4501-8cd5-a6b78a5b77b2",
   "metadata": {},
   "outputs": [],
   "source": [
    "PATH = \"/Users/mmm/BioPROJECTS/MAD1 & MVA/Results/220202 CellPhoneDB_ProbandAneu/\"\n",
    "DESKTOP = \"/Users/mmm/Desktop/\""
   ]
  },
  {
   "cell_type": "code",
   "execution_count": null,
   "id": "7aca1b18-84aa-45c5-b10f-ace481ee1655",
   "metadata": {},
   "outputs": [],
   "source": [
    "# Functions\n",
    "\n",
    "def order_ratios(ratios):\n",
    "    \"\"\"Order ratios per MAX values (descendent, both in rows and columns)\"\"\"\n",
    "    \n",
    "    ratios_ordered = ratios.copy()\n",
    "    ratios_ordered[\"MAX\"] = ratios_ordered.max(axis=1)\n",
    "    ratios_ordered.loc[\"MAX_column\", :] = ratio_L2_ordered.max(axis=0)\n",
    "    ratios_ordered = ratios_ordered.sort_values([\"MAX\"], ascending=False, axis=0)\n",
    "    ratios_ordered = ratios_ordered.drop(\"MAX\", axis=1)\n",
    "    ratios_ordered = ratios_ordered.sort_values([\"MAX_column\"], ascending=False, axis=1)\n",
    "    ratios_ordered = ratios_ordered.drop(\"MAX_column\", axis=0)\n",
    "    return ratios_ordered"
   ]
  },
  {
   "cell_type": "markdown",
   "id": "82fafd67-122b-4a58-9d55-df49085c0533",
   "metadata": {},
   "source": [
    "# Separate Plots Proband and Controls"
   ]
  },
  {
   "cell_type": "code",
   "execution_count": null,
   "id": "b5301065-11c0-447d-8252-db98450ff523",
   "metadata": {},
   "outputs": [],
   "source": [
    "proband = pd.read_csv(DESKTOP + \"Proband_significant_means_L1.txt\", sep=\"\\t\")\n",
    "proband = proband.set_index(\"interacting_pair\")\n",
    "proband.head(3)"
   ]
  },
  {
   "cell_type": "code",
   "execution_count": null,
   "id": "217ed6b9-8fa8-43f1-b9b3-9270bd38e2cb",
   "metadata": {},
   "outputs": [],
   "source": [
    "proband_pvals = pd.read_csv(DESKTOP + \"Proband_pvalues.txt\", sep=\"\\t\")\n",
    "proband_pvals = proband_pvals.set_index(\"interacting_pair\")\n",
    "proband_pvals.head(3)"
   ]
  },
  {
   "cell_type": "markdown",
   "id": "ece6b663-0aa3-4c9a-82a1-723c012b4a1d",
   "metadata": {},
   "source": [
    "Select the first 40 interactions"
   ]
  },
  {
   "cell_type": "code",
   "execution_count": null,
   "id": "176533bb-3bfb-4dfd-b3f6-366903ba6816",
   "metadata": {},
   "outputs": [],
   "source": [
    "proband_ordered = pd.DataFrame(proband.index[:40])\n",
    "proband_ordered = proband_ordered.set_index(\"interacting_pair\")"
   ]
  },
  {
   "cell_type": "code",
   "execution_count": null,
   "id": "76b43040-2fcc-4212-8a2d-17094ff4686f",
   "metadata": {},
   "outputs": [],
   "source": [
    "proband_pvals_ordered = proband_ordered.merge(proband_pvals, how=\"left\", left_index=True, right_index=True)\n",
    "proband_pvals_ordered = -np.log(proband_pvals_ordered)\n",
    "proband_pvals_ordered = proband_pvals_ordered.replace(np.inf, 4)\n",
    "proband_pvals_ordered.head(3)"
   ]
  },
  {
   "cell_type": "code",
   "execution_count": null,
   "id": "d6c080c0-3102-44fb-a04d-d2d475403760",
   "metadata": {},
   "outputs": [],
   "source": [
    "plt.figure(figsize=(20,10))\n",
    "ax = scattermap(proband.iloc[:40,:], marker_size=proband_pvals_ordered, cmap='Reds', factor=60, square=True) #marker_size=pre_res_fdr\n",
    "plt.tight_layout()\n",
    "plt.savefig(DESKTOP + \"dotPlot.png\")"
   ]
  },
  {
   "cell_type": "markdown",
   "id": "d229268c-870e-498e-b408-62439bcbb547",
   "metadata": {},
   "source": [
    "### Controls"
   ]
  },
  {
   "cell_type": "code",
   "execution_count": null,
   "id": "009c110b-0204-4735-9a39-6e526640d7f3",
   "metadata": {},
   "outputs": [],
   "source": [
    "controls = pd.read_csv(DESKTOP + \"Controls_significant_means.txt\", sep=\"\\t\")\n",
    "controls = controls.set_index(\"interacting_pair\")\n",
    "controls.head(3)"
   ]
  },
  {
   "cell_type": "code",
   "execution_count": null,
   "id": "d95d5183-7206-4a27-b7dd-5b44bb39af7f",
   "metadata": {},
   "outputs": [],
   "source": [
    "controls_pvals = pd.read_csv(DESKTOP + \"Proband_pvalues.txt\", sep=\"\\t\")\n",
    "controls_pvals = controls_pvals.set_index(\"interacting_pair\")\n",
    "controls_pvals.head(3)"
   ]
  },
  {
   "cell_type": "code",
   "execution_count": null,
   "id": "112fb326-7b68-4219-ae24-b8f0189485fe",
   "metadata": {},
   "outputs": [],
   "source": [
    "proband_ordered = pd.DataFrame(proband.index[:40])\n",
    "proband_ordered = proband_ordered.set_index(\"interacting_pair\")"
   ]
  },
  {
   "cell_type": "code",
   "execution_count": null,
   "id": "22cef4f4-1205-4110-834d-1f7b9d765503",
   "metadata": {},
   "outputs": [],
   "source": [
    "controls_ordered = proband_ordered.merge(controls, how=\"left\", left_index=True, right_index=True)\n",
    "controls_pvals_ordered = proband_ordered.merge(controls_pvals, how=\"left\", left_index=True, right_index=True)\n",
    "controls_pvals_ordered = -np.log(controls_pvals_ordered)\n",
    "controls_pvals_ordered = controls_pvals_ordered.replace(np.inf, 4)\n",
    "controls_pvals_ordered.head(3)"
   ]
  },
  {
   "cell_type": "code",
   "execution_count": null,
   "id": "9c66a35c-744b-4631-aac6-c7f3464cd66b",
   "metadata": {},
   "outputs": [],
   "source": [
    "plt.figure(figsize=(20,10))\n",
    "ax = scattermap(controls_ordered, marker_size=controls_pvals_ordered, cmap='Reds', factor=60, square=True) \n",
    "plt.tight_layout()\n",
    "plt.savefig(DESKTOP + \"dotPlot.png\")"
   ]
  },
  {
   "cell_type": "markdown",
   "id": "54de93b8-271b-459a-b857-af3e282ff709",
   "metadata": {},
   "source": [
    "# Ratio between proband and controls (L1)"
   ]
  },
  {
   "cell_type": "code",
   "execution_count": null,
   "id": "de5f8d96-355b-4e97-8e3a-d4a29c7e903e",
   "metadata": {},
   "outputs": [],
   "source": [
    "proband = pd.read_csv(DESKTOP + \"Proband_significant_means_L1.txt\", sep=\"\\t\")\n",
    "proband = proband.set_index(\"interacting_pair\")\n",
    "print(proband.shape)\n",
    "proband.head(3)"
   ]
  },
  {
   "cell_type": "code",
   "execution_count": null,
   "id": "8a4405b8-5e6f-49c4-b34b-335f01262413",
   "metadata": {},
   "outputs": [],
   "source": [
    "controls = pd.read_csv(DESKTOP + \"Controls_significant_means_L1.txt\", sep=\"\\t\")\n",
    "controls = controls.set_index(\"interacting_pair\")\n",
    "print(controls.shape)\n",
    "controls.head(3)"
   ]
  },
  {
   "cell_type": "code",
   "execution_count": null,
   "id": "ed11f801-5be9-4368-9d05-3a051ba13bf3",
   "metadata": {},
   "outputs": [],
   "source": [
    "# Order controls as in proband\n",
    "proband_order = proband[[]].copy()\n",
    "controls_ordered = proband_order.merge(controls, how=\"left\", left_index=True, right_index=True)"
   ]
  },
  {
   "cell_type": "code",
   "execution_count": null,
   "id": "e031bb36-2b67-4af9-a5c9-90d0db991900",
   "metadata": {},
   "outputs": [],
   "source": [
    "# Ratio\n",
    "ratio = proband / controls_ordered\n",
    "ratio.head(3)"
   ]
  },
  {
   "cell_type": "code",
   "execution_count": null,
   "id": "bf1e587e-bba0-49af-a638-82f4c3c5cacb",
   "metadata": {},
   "outputs": [],
   "source": [
    "# Calculate and order MAX values\n",
    "ratio_sorted = order_ratios(ratio)"
   ]
  },
  {
   "cell_type": "code",
   "execution_count": null,
   "id": "c91f2b04-6f35-4cb4-bd39-af03451b2f1c",
   "metadata": {},
   "outputs": [],
   "source": [
    "plt.figure(figsize=(20,10))\n",
    "ax = scattermap(ratio_sorted.iloc[:20,:], cmap='coolwarm', vmin=0.5, vmax=1.5, factor=2, square=True) \n",
    "plt.tight_layout()\n",
    "plt.savefig(DESKTOP + \"dotPlot.png\", dpi=300)"
   ]
  },
  {
   "cell_type": "markdown",
   "id": "cb437aef-8594-4665-a19d-789a85838792",
   "metadata": {},
   "source": [
    "### Analyze L1 interactions in L2"
   ]
  },
  {
   "cell_type": "code",
   "execution_count": null,
   "id": "ffae5e93-b4a3-4e39-bb14-19229dd3bbbd",
   "metadata": {},
   "outputs": [],
   "source": [
    "## MUlktiple\n",
    "\n",
    "interactions = [\"ESAM_ESAM\", \"THBS1_a2Bb3 complex\", \"PF4_CXCR3\", \"CLEC2B_KLRF1\", \n",
    "                \"ICAM1_AREG\", \"ICAM1_aLb2 complex\", \"ICAM1_ITGAL\", \"ICAM4_aLb2 complex\", \"ICAM1_SPN\",\n",
    "                \"CCL5_CCR1\", \"PECAM1_CD38\", \n",
    "                \"TNFSF14_TNFRSF14\", \"CD160_TNFRSF14\", \n",
    "                \"TGFB1_TGFBR3\", \"TGFB1_TGFbeta receptor1\", \n",
    "                \"ALOX5_ALOX5AP\", \"CCL4_SLC7A1\", \"ICOSLG_ICOS\",\n",
    "                \"IL15 receptor_IL15\"\n",
    "               ]\n",
    "\n",
    "#\"TNFSF14_LTBR\", \"TNFSF4_TNFRSF4\","
   ]
  },
  {
   "cell_type": "code",
   "execution_count": null,
   "id": "b2b75060-63d0-4017-b9db-f6c2617e0464",
   "metadata": {},
   "outputs": [],
   "source": [
    "ratio_L2 = pd.read_csv(DESKTOP + \"ratio_L2.tsv\", sep=\"\\t\")\n",
    "ratio_L2 = ratio_L2.set_index(\"interacting_pair\")"
   ]
  },
  {
   "cell_type": "code",
   "execution_count": null,
   "id": "98a62d0e-d71c-4721-b6b8-21ff2cae93b3",
   "metadata": {},
   "outputs": [],
   "source": [
    "ratio_L2_selected = ratio_L2[ratio_L2.index.isin(interactions)]\n",
    "ratio_L2_ordered = order_ratios(ratio_L2_selected)\n",
    "ratio_L2_ordered.to_csv(DESKTOP + \"ratio_L2_selected.tsv\", sep=\"\\t\")"
   ]
  },
  {
   "cell_type": "code",
   "execution_count": null,
   "id": "7dcb7417-e26f-46c2-9813-b6e729a77685",
   "metadata": {},
   "outputs": [],
   "source": [
    "plt.figure(figsize=(30,6))\n",
    "ax = scattermap(ratio_L2_ordered.iloc[:,:100], cmap='coolwarm', vmin=0.5, vmax=1.5, factor=2, square=True) \n",
    "plt.tight_layout()\n",
    "plt.savefig(DESKTOP + \"dotPlot.png\", dpi=300)"
   ]
  },
  {
   "cell_type": "markdown",
   "id": "abe21e04-60c5-4c3f-9dd1-e91aebca56fb",
   "metadata": {},
   "source": [
    "## Separate per families"
   ]
  },
  {
   "cell_type": "code",
   "execution_count": null,
   "id": "42fd9e0d-1f32-4b29-9513-d867eef7eb73",
   "metadata": {},
   "outputs": [],
   "source": [
    "# Platelets\n",
    "i = [\"PECAM1_CD38\",\"ESAM_ESAM\", \"PF4_CXCR3\"]\n",
    "ratio_L2_selected = ratio_L2[ratio_L2.index.isin(i)]\n",
    "ratio_L2_selected = order_ratios(ratio_L2_selected)"
   ]
  },
  {
   "cell_type": "code",
   "execution_count": null,
   "id": "db3422ce-c9ae-477b-bde1-8f71dd7d84e4",
   "metadata": {},
   "outputs": [],
   "source": [
    "plt.figure(figsize=(7,4))\n",
    "ax = scattermap(ratio_L2_selected.iloc[:,:15], cmap='coolwarm', vmin=0.5, vmax=1.5, factor=4, square=True) \n",
    "plt.tight_layout()\n",
    "plt.savefig(DESKTOP + \"dotPlot.png\", dpi=300)"
   ]
  },
  {
   "cell_type": "code",
   "execution_count": null,
   "id": "d7b0ae2c-a55b-48eb-a4dd-058892e62749",
   "metadata": {},
   "outputs": [],
   "source": [
    "# NK-gdT\n",
    "i = [\"TNFSF14_TNFRSF14\", \"CD160_TNFRSF14\", \"CCL5_CCR1\", \"IL15 receptor_IL15\"]\n",
    "ratio_L2_selected = ratio_L2[ratio_L2.index.isin(i)]\n",
    "ratio_L2_selected = order_ratios(ratio_L2_selected)"
   ]
  },
  {
   "cell_type": "code",
   "execution_count": null,
   "id": "69cafac3-bf83-4b6d-968f-b7723fd1be4d",
   "metadata": {},
   "outputs": [],
   "source": [
    "plt.figure(figsize=(10,4))\n",
    "ax = scattermap(ratio_L2_selected.iloc[:,:20], cmap='coolwarm', vmin=0.5, vmax=1.5, factor=4, square=True) \n",
    "plt.tight_layout()\n",
    "plt.savefig(DESKTOP + \"dotPlot.png\", dpi=300)"
   ]
  },
  {
   "cell_type": "code",
   "execution_count": null,
   "id": "c2e23c89-834d-46ea-b5c6-334f8343c361",
   "metadata": {},
   "outputs": [],
   "source": [
    "# CD8\n",
    "i = [\"CLEC2B_KLRF1\", \"CCL4_SLC7A1\"]\n",
    "ratio_L2_selected = ratio_L2[ratio_L2.index.isin(i)]\n",
    "ratio_L2_selected = order_ratios(ratio_L2_selected)"
   ]
  },
  {
   "cell_type": "code",
   "execution_count": null,
   "id": "99520c92-f0c2-44b6-9d1b-e1c9e8535f50",
   "metadata": {},
   "outputs": [],
   "source": [
    "plt.figure(figsize=(10,4))\n",
    "ax = scattermap(ratio_L2_selected.iloc[:,:30], cmap='coolwarm', vmin=0.5, vmax=1.5, factor=2.5, square=True) \n",
    "plt.tight_layout()\n",
    "plt.savefig(DESKTOP + \"dotPlot.png\", dpi=300)"
   ]
  },
  {
   "cell_type": "code",
   "execution_count": null,
   "id": "8f2dd76f-e5ac-4019-8cb1-905a607a785d",
   "metadata": {},
   "outputs": [],
   "source": [
    "# dendritic\n",
    "i = [\"ICOSLG_ICOS\",\"THBS1_a2Bb3 complex\", \"ICAM1_aLb4 complex\", \"ALOX5_ALOX5AP\", \n",
    "     \"TGFB1_TGFBR3\", \"TGFB1_TGFbeta receptor1\"]\n",
    "ratio_L2_selected = ratio_L2[ratio_L2.index.isin(i)]\n",
    "ratio_L2_selected = order_ratios(ratio_L2_selected)"
   ]
  },
  {
   "cell_type": "code",
   "execution_count": null,
   "id": "499aeb7f-9d8e-4a03-9d0c-9d38d42453bf",
   "metadata": {},
   "outputs": [],
   "source": [
    "plt.figure(figsize=(10,4))\n",
    "ax = scattermap(ratio_L2_selected.iloc[:,:30], cmap='coolwarm', vmin=0.5, vmax=1.5, factor=2.2, square=True) \n",
    "plt.tight_layout()\n",
    "plt.savefig(DESKTOP + \"dotPlot.png\", dpi=300)"
   ]
  },
  {
   "cell_type": "code",
   "execution_count": null,
   "id": "15635654-8bb4-487f-891d-f59f299b5359",
   "metadata": {},
   "outputs": [],
   "source": [
    "# B\n",
    "i = [\"ICAM1_AREG\", \"ICAM1_aLb2 complex\", \"ICAM1_ITGAL\", \"ICAM1_SPN\",]\n",
    "ratio_L2_selected = ratio_L2[ratio_L2.index.isin(i)]\n",
    "ratio_L2_selected = order_ratios(ratio_L2_selected)"
   ]
  },
  {
   "cell_type": "code",
   "execution_count": null,
   "id": "8210b2ea-49ea-4eb1-ba9b-797dde93fca6",
   "metadata": {},
   "outputs": [],
   "source": [
    "plt.figure(figsize=(10,4))\n",
    "ax = scattermap(ratio_L2_selected.iloc[:,:30], cmap='coolwarm', vmin=0.5, vmax=1.5, factor=2.2, square=True) \n",
    "plt.tight_layout()\n",
    "plt.savefig(DESKTOP + \"dotPlot.png\", dpi=300)"
   ]
  },
  {
   "cell_type": "markdown",
   "id": "060ab8e3-0c2a-4022-b18d-102b6531e9cd",
   "metadata": {},
   "source": [
    "### Analyze L1 interactions in L3"
   ]
  },
  {
   "cell_type": "code",
   "execution_count": null,
   "id": "2b09dc45-a049-4fa6-b9b7-ea62a1fd62e9",
   "metadata": {},
   "outputs": [],
   "source": [
    "ratio_L3 = pd.read_csv(DESKTOP + \"ratio_L3.tsv\", sep=\"\\t\")\n",
    "ratio_L3 = ratio_L3.set_index(\"interacting_pair\")"
   ]
  },
  {
   "cell_type": "code",
   "execution_count": null,
   "id": "f295d231-3f22-4eb6-93c5-7ff838e3f4ae",
   "metadata": {},
   "outputs": [],
   "source": [
    "ratio_L3_selected = ratio_L3[ratio_L3.index.isin(interactions)]\n",
    "ratio_L3_selected = order_ratios(ratio_L3_selected)\n",
    "ratio_L3_selected.to_csv(DESKTOP + \"ratio_L3_selected.tsv\", sep=\"\\t\")"
   ]
  },
  {
   "cell_type": "code",
   "execution_count": null,
   "id": "d8528197-c996-4a9a-b658-f11924202927",
   "metadata": {},
   "outputs": [],
   "source": [
    "plt.figure(figsize=(20,6))\n",
    "ax = scattermap(ratio_L3_selected.iloc[:,:50], cmap='coolwarm', vmin=0.5, vmax=1.5, factor=2, square=True) \n",
    "plt.tight_layout()\n",
    "plt.savefig(DESKTOP + \"dotPlot.png\", dpi=300)"
   ]
  },
  {
   "cell_type": "markdown",
   "id": "a9bf14cd-d94c-4dcd-94a4-443514e928b3",
   "metadata": {},
   "source": [
    "## Separate per families"
   ]
  },
  {
   "cell_type": "code",
   "execution_count": null,
   "id": "d0799d86-a4f8-4e3a-a510-961c889ee5b5",
   "metadata": {},
   "outputs": [],
   "source": [
    "# Platelets\n",
    "i = [\"ESAM_ESAM\", \"PF4_CXCR3\"]\n",
    "ratio_L3_selected = ratio_L3[ratio_L3.index.isin(i)]\n",
    "ratio_L3_selected = order_ratios(ratio_L3_selected)"
   ]
  },
  {
   "cell_type": "code",
   "execution_count": null,
   "id": "49c9f950-e8be-478c-868f-e36eeba3bd52",
   "metadata": {},
   "outputs": [],
   "source": [
    "plt.figure(figsize=(7,3))\n",
    "ax = scattermap(ratio_L3_selected.iloc[:,:10], cmap='coolwarm', vmin=0.5, vmax=1.5, factor=4, square=True) \n",
    "plt.tight_layout()\n",
    "plt.savefig(DESKTOP + \"dotPlot.png\", dpi=300)"
   ]
  },
  {
   "cell_type": "code",
   "execution_count": null,
   "id": "5a5e8eb1-383e-497f-8987-b4e95e2c788e",
   "metadata": {},
   "outputs": [],
   "source": [
    "# NKs_gdT\n",
    "i = [\"TNFSF14_TNFRSF14\", \"CD160_TNFRSF14\", \"CLEC2B_KLRF1\", \"IL15 receptor_IL15\"]\n",
    "ratio_L3_selected = ratio_L3[ratio_L3.index.isin(i)]\n",
    "ratio_L3_selected = order_ratios(ratio_L3_selected)"
   ]
  },
  {
   "cell_type": "code",
   "execution_count": null,
   "id": "c7b70e43-e0fc-4177-bb6b-c28c0e381c3a",
   "metadata": {},
   "outputs": [],
   "source": [
    "plt.figure(figsize=(14,6))\n",
    "ax = scattermap(ratio_L3_selected.iloc[:,:50], cmap='coolwarm', vmin=0.5, vmax=1.5, factor=1.6, square=True) \n",
    "plt.tight_layout()\n",
    "plt.savefig(DESKTOP + \"dotPlot.png\", dpi=300)"
   ]
  },
  {
   "cell_type": "code",
   "execution_count": null,
   "id": "205393ae-497d-42fb-ae05-7950415deac9",
   "metadata": {},
   "outputs": [],
   "source": [
    "# dendritic\n",
    "i = [\"ICAM1_AREG\", \"ICAM1_aLb2 complex\", \"ICAM1_ITGAL\", \"ICAM4_aLb2 complex\", \"ICAM1_SPN\",\n",
    "     \"TNFSF14_TNFRSF14\", \"PECAM1_CD38\", \"ALOX5_ALOX5AP\",]\n",
    "ratio_L3_selected = ratio_L3[ratio_L3.index.isin(i)]\n",
    "ratio_L3_selected = order_ratios(ratio_L3_selected)"
   ]
  },
  {
   "cell_type": "code",
   "execution_count": null,
   "id": "c520076e-77c8-4855-a364-7fad521a0339",
   "metadata": {},
   "outputs": [],
   "source": [
    "plt.figure(figsize=(14,6))\n",
    "ax = scattermap(ratio_L3_selected.iloc[:,:50], cmap='coolwarm', vmin=0.5, vmax=1.5, factor=1.6, square=True) \n",
    "plt.tight_layout()\n",
    "plt.savefig(DESKTOP + \"dotPlot.png\", dpi=300)"
   ]
  },
  {
   "cell_type": "code",
   "execution_count": null,
   "id": "0887464b-b99d-4163-918b-55efb5eac853",
   "metadata": {},
   "outputs": [],
   "source": [
    "# CD8\n",
    "i = [\"THBS1_a2Bb3 complex\", \"CLEC2B_KLRF1\", \"CCL5_CCR1\", \"TGFB1_TGFBR3\", \"TGFB1_TGFbeta receptor1\", \"ICOSLG_ICOS\", ]\n",
    "ratio_L3_selected = ratio_L3[ratio_L3.index.isin(i)]\n",
    "ratio_L3_selected = order_ratios(ratio_L3_selected)"
   ]
  },
  {
   "cell_type": "code",
   "execution_count": null,
   "id": "ea1947de-cdf1-4a06-ba65-3dc22595cd7c",
   "metadata": {},
   "outputs": [],
   "source": [
    "plt.figure(figsize=(14,6))\n",
    "ax = scattermap(ratio_L3_selected.iloc[:,:50], cmap='coolwarm', vmin=0.5, vmax=1.5, factor=1.6, square=True) \n",
    "plt.tight_layout()\n",
    "plt.savefig(DESKTOP + \"dotPlot.png\", dpi=300)"
   ]
  },
  {
   "cell_type": "code",
   "execution_count": null,
   "id": "a185a4fe-8800-4996-b724-f5f56a429416",
   "metadata": {},
   "outputs": [],
   "source": [
    "## OLDER"
   ]
  },
  {
   "cell_type": "code",
   "execution_count": null,
   "id": "eddf3db5-47bb-40f0-896a-27622137fffe",
   "metadata": {},
   "outputs": [],
   "source": [
    "# Import data ordered by MAX value , only columns >1.3\n",
    "ratio = pd.read_csv(DESKTOP + \"ratio_MAX_ordered_clean_1.3.tsv\", sep=\"\\t\")\n",
    "ratio = ratio.set_index(\"interacting_pair\")\n",
    "ratio = ratio.drop(\"MAX\", axis=1)\n",
    "print(ratio.shape)\n",
    "ratio.head(3)"
   ]
  },
  {
   "cell_type": "code",
   "execution_count": null,
   "id": "e31dd4e1-db5b-44bb-9c09-6266ef16944b",
   "metadata": {},
   "outputs": [],
   "source": [
    "plt.figure(figsize=(10,6))\n",
    "ax = scattermap(ratio, cmap='coolwarm', vmin=0.6, vmax=1.8, factor=1.1, square=True) \n",
    "plt.tight_layout()\n",
    "plt.savefig(DESKTOP + \"dotPlot.png\")"
   ]
  },
  {
   "cell_type": "code",
   "execution_count": null,
   "id": "40af5107-86c8-4003-8d6c-676561a6bb6c",
   "metadata": {},
   "outputs": [],
   "source": []
  },
  {
   "cell_type": "markdown",
   "id": "e7634fd4-dbf9-4327-9c70-a1d217322b21",
   "metadata": {},
   "source": [
    "# Ratio between proband and controls (L2)"
   ]
  },
  {
   "cell_type": "code",
   "execution_count": null,
   "id": "7538cd57-bb9c-43c7-a31f-b5853f6be91b",
   "metadata": {},
   "outputs": [],
   "source": [
    "proband = pd.read_csv(DESKTOP + \"Proband_significant_means_L2.txt\", sep=\"\\t\")\n",
    "proband = proband.set_index(\"interacting_pair\")\n",
    "print(proband.shape)\n",
    "\n",
    "controls = pd.read_csv(DESKTOP + \"Controls_significant_means_L2.txt\", sep=\"\\t\")\n",
    "controls = controls.set_index(\"interacting_pair\")\n",
    "print(controls.shape)"
   ]
  },
  {
   "cell_type": "code",
   "execution_count": null,
   "id": "3985e36a-ae30-4dd3-8f1f-e09d3bf016de",
   "metadata": {},
   "outputs": [],
   "source": [
    "# Order controls as in proband\n",
    "proband_order = proband[[]].copy()\n",
    "controls_ordered = proband_order.merge(controls, how=\"left\", left_index=True, right_index=True)"
   ]
  },
  {
   "cell_type": "code",
   "execution_count": null,
   "id": "d2dc09ac-2b14-4aed-b504-8358bd1434be",
   "metadata": {},
   "outputs": [],
   "source": [
    "# Use only same columns\n",
    "column_order = proband.columns\n",
    "controls_ordered = controls_ordered[column_order]\n",
    "controls_ordered"
   ]
  },
  {
   "cell_type": "code",
   "execution_count": null,
   "id": "f01c570f-4046-4649-ae18-9d4eaa24e7f7",
   "metadata": {},
   "outputs": [],
   "source": [
    "ratios_L2 = proband / controls_ordered\n",
    "ratios_L2.head(3)"
   ]
  },
  {
   "cell_type": "code",
   "execution_count": null,
   "id": "81717304-34a2-4063-8500-00c425890c2a",
   "metadata": {},
   "outputs": [],
   "source": [
    "ratios_L2.to_csv(DESKTOP + \"ratio_L2.tsv\", sep=\"\\t\")"
   ]
  },
  {
   "cell_type": "code",
   "execution_count": null,
   "id": "57d65330-4020-489c-86c9-3914e10bbe08",
   "metadata": {},
   "outputs": [],
   "source": [
    "# Order by MAX values\n",
    "ratio_L2_ordered = ratios_L2.copy()\n",
    "ratio_L2_ordered = order_ratios(ratio_L2_ordered)\n",
    "ratio_L2_ordered.to_csv(DESKTOP + \"ratio_L2_ordered.tsv\", sep=\"\\t\")"
   ]
  },
  {
   "cell_type": "code",
   "execution_count": null,
   "id": "120369cd-b9c5-4a4c-9875-0e650e20d746",
   "metadata": {},
   "outputs": [],
   "source": [
    "plt.figure(figsize=(20,10))\n",
    "ax = scattermap(ratio_L2_ordered.iloc[:30,:80], cmap='coolwarm', vmin=0, vmax=2, factor=1.1, square=True) \n",
    "plt.tight_layout()\n",
    "plt.savefig(DESKTOP + \"dotPlot.png\")"
   ]
  },
  {
   "cell_type": "code",
   "execution_count": null,
   "id": "c101b073-793b-43fd-9f34-ec9589106dac",
   "metadata": {},
   "outputs": [],
   "source": [
    "# Select specific interactions\n",
    "i = [\"JAM3_JAM3\", \"CD28_CD86\", \"SELP_SELPLG\", \"NOTCH1_JAG1\", \"LGALS9_HAVCR2\", \"SELP_CD24\", \"JAG1_NOTCH2\",\n",
    "     \"CLEC2B_KLRF1\", \"ICAM1_AREG\", \"ICAM1_alb2 complex\", \"ICAM1_ITGAL\", \"CXCR3_CCL20\", \"ICOSLG_ICOS\",\n",
    "     \"CCR6_CCL20\", \"CD46_JAG1\", \"EPHA4_EFNB1\", \"SELP_CD34\", \"ADGRG5_FAM3C\", \"ICAM1_SPN\", \"TNFSF9_ADGRG5\",\n",
    "     \"JAM3_aMb2 complex\", \"TNF_ICOS\", \"COPA_P2RY6\", \"LAIR1_LILRB4\", \"EPHB1_EFNB1\", \"ICAM_aLb2 complex\",\n",
    "     \"NCR3_BAG6\"\n",
    "]\n",
    "\n",
    "i_platelet = [\"JAM3_JAM3\", \"SELP_SELPLG\", \"SELP_CD24\", \"SELP_CD34\", ]\n",
    "i_ILC_HSPC = [\"NOTCH1_JAG1\", \"LGALS9_HAVCR2\", \"JAG1_NOTCH2\", \"CD46_JAG1\", \"EPHA4_EFNB1\", \"TNFSF9_ADGRG5\",]\n",
    "i_Tcells = [\"CLEC2B_KLRF1\", \"CD28_CD86\", \"CXCR3_CCL20\", \"ICOSLG_ICOS\", \"CCR6_CCL20\", ]\n",
    "i_Bcells = [\"ICAM1_AREG\", \"ICAM1_SPN\", ]\n"
   ]
  },
  {
   "cell_type": "markdown",
   "id": "4a2c9944-bda0-4c2b-b0cb-1ba6b0fef08b",
   "metadata": {},
   "source": [
    "### Select specific cell types"
   ]
  },
  {
   "cell_type": "code",
   "execution_count": null,
   "id": "447dc9f1-16f8-44c3-98f3-f3bc59dd5ade",
   "metadata": {},
   "outputs": [],
   "source": [
    "platelet_columns = [x for x in ratios_L2 if x.startswith(\"Plate\")]\n",
    "NK_gdT_columns = [x for x in ratios_L2 if (x.startswith(\"NK\") or x.startswith(\"gdT\"))]\n",
    "dnT_columns = [x for x in ratios_L2 if (x.startswith(\"dnT\") or x.startswith(\"Treg\"))]\n",
    "CD4_CD8_columns = [x for x in ratios_L2 if (x.startswith(\"CD4\") or x.startswith(\"CD8\"))]\n",
    "ILC_HSPC_columns = [x for x in ratios_L2 if (x.startswith(\"ILC\") or x.startswith(\"HSPC\"))]\n",
    "B_columns = [x for x in ratios_L2 if x.startswith(\"B\")]\n",
    "dendritic_columns = [x for x in ratios_L2 if (x.startswith(\"pDC\") or x.startswith(\"cDC2\") or x.startswith(\"CD14\") or x.startswith(\"CD16\"))]"
   ]
  },
  {
   "cell_type": "code",
   "execution_count": null,
   "id": "3e7478a5-7e14-4e52-8acf-dd407896244c",
   "metadata": {},
   "outputs": [],
   "source": [
    "celltype = ratio_L2[dnT_columns]\n",
    "celltype = order_ratios(celltype)\n",
    "\n",
    "plt.figure(figsize=(14,6))\n",
    "ax = scattermap(celltype.iloc[:25,:20], cmap='coolwarm', vmin=0, vmax=2, factor=1.1, square=True) \n",
    "plt.tight_layout()\n",
    "plt.savefig(DESKTOP + \"dotPlot.png\", dpi=300)"
   ]
  },
  {
   "cell_type": "code",
   "execution_count": null,
   "id": "1ff52889-6da7-4746-a403-d758e3259f67",
   "metadata": {},
   "outputs": [],
   "source": []
  },
  {
   "cell_type": "markdown",
   "id": "cb5c8f13-e58c-4cc6-ac6f-fdd1f59dda40",
   "metadata": {},
   "source": [
    "## Ratio between proband and controls (L3)"
   ]
  },
  {
   "cell_type": "code",
   "execution_count": null,
   "id": "da804419-8ced-4651-bd6d-4ff9203e1412",
   "metadata": {},
   "outputs": [],
   "source": [
    "proband = pd.read_csv(DESKTOP + \"Proband_significant_means_L3.txt\", sep=\"\\t\")\n",
    "proband = proband.set_index(\"interacting_pair\")\n",
    "print(proband.shape)\n",
    "proband.head(3)"
   ]
  },
  {
   "cell_type": "code",
   "execution_count": null,
   "id": "bf089f6b-95c2-41c3-8e26-6363858ed023",
   "metadata": {},
   "outputs": [],
   "source": [
    "controls = pd.read_csv(DESKTOP + \"Controls_significant_means_L3.txt\", sep=\"\\t\")\n",
    "controls = controls.set_index(\"interacting_pair\")\n",
    "print(controls.shape)\n",
    "controls.head(3)"
   ]
  },
  {
   "cell_type": "code",
   "execution_count": null,
   "id": "271e4f9f-fbe7-45e9-9353-a26f7e418782",
   "metadata": {},
   "outputs": [],
   "source": [
    "# Order controls as in proband"
   ]
  },
  {
   "cell_type": "code",
   "execution_count": null,
   "id": "43412e6d-01e7-41d1-8105-2aaef1b874ab",
   "metadata": {},
   "outputs": [],
   "source": [
    "proband_order = proband[[]].copy()"
   ]
  },
  {
   "cell_type": "code",
   "execution_count": null,
   "id": "be2f52a8-a155-4850-b020-ec2634b7bc12",
   "metadata": {},
   "outputs": [],
   "source": [
    "controls_ordered = proband_order.merge(controls, how=\"left\", left_index=True, right_index=True)"
   ]
  },
  {
   "cell_type": "code",
   "execution_count": null,
   "id": "44401117-6e32-415b-9491-8a17817f8a7c",
   "metadata": {},
   "outputs": [],
   "source": [
    "controls_ordered"
   ]
  },
  {
   "cell_type": "code",
   "execution_count": null,
   "id": "371726ae-2e7e-40ac-be68-7e73194fca53",
   "metadata": {},
   "outputs": [],
   "source": [
    "# Use only same columns\n",
    "column_order = proband.columns\n",
    "controls_ordered = controls_ordered[column_order]\n",
    "controls_ordered"
   ]
  },
  {
   "cell_type": "code",
   "execution_count": null,
   "id": "381c26b9-051c-4a3e-b748-ba2f3197b8f8",
   "metadata": {},
   "outputs": [],
   "source": [
    "ratio = proband / controls_ordered\n",
    "ratio.head(3)"
   ]
  },
  {
   "cell_type": "code",
   "execution_count": null,
   "id": "be0f2878-39e9-4afb-b788-ef79f0e0f54c",
   "metadata": {},
   "outputs": [],
   "source": [
    "ratio.to_csv(DESKTOP + \"ratio_L3.tsv\", sep=\"\\t\")"
   ]
  },
  {
   "cell_type": "code",
   "execution_count": null,
   "id": "1350f467-9ff3-4abd-96f6-a02994c45678",
   "metadata": {},
   "outputs": [],
   "source": [
    "# Import data ordered by MAX value\n",
    "ratio = pd.read_csv(DESKTOP + \"ratio_L3_clean_1.3.tsv\", sep=\"\\t\")\n",
    "ratio = ratio.set_index(\"interacting_pair\")\n",
    "ratio = ratio.drop(\"MAX\", axis=1)\n",
    "print(ratio.shape)\n",
    "ratio.head(3)"
   ]
  },
  {
   "cell_type": "code",
   "execution_count": null,
   "id": "da6c4e7c-a539-43f2-85f9-bd5125ae75ce",
   "metadata": {},
   "outputs": [],
   "source": [
    "plt.figure(figsize=(20,30))\n",
    "ax = scattermap(ratio.iloc[:,:50], cmap='coolwarm', vmin=0.5, vmax=1.5, factor=2, square=True) \n",
    "plt.tight_layout()\n",
    "plt.savefig(DESKTOP + \"dotPlot.png\")"
   ]
  },
  {
   "cell_type": "code",
   "execution_count": null,
   "id": "eb26789e-ecb3-4353-86ec-db16fdd12a80",
   "metadata": {},
   "outputs": [],
   "source": [
    "## Filter specific interactions\n",
    "# Import data ordered by MAX value\n",
    "ratio = pd.read_csv(DESKTOP + \"ratio_L3.tsv\", sep=\"\\t\")\n",
    "ratio = ratio.set_index(\"interacting_pair\")\n",
    "print(ratio.shape)\n",
    "ratio.head(3)"
   ]
  },
  {
   "cell_type": "code",
   "execution_count": null,
   "id": "b663a5cd-c00d-47b5-8e34-fb55192c234e",
   "metadata": {},
   "outputs": [],
   "source": [
    "ratio_CCL5 = ratio[ratio.index.str.startswith(\"CCL5\")]\n",
    "ratio_CCL5_sorted = ratio_CCL5.sort_values([\"CCL5_CCR1\", \"CCL5_CCR4\"], ascending=False, axis=1)\n",
    "ratio_CCL5_sorted"
   ]
  },
  {
   "cell_type": "code",
   "execution_count": null,
   "id": "fc0eaa9b-4b80-4c73-9da5-534e0a4e8a4b",
   "metadata": {},
   "outputs": [],
   "source": [
    "plt.figure(figsize=(10,5))\n",
    "ax = scattermap(ratio_CCL5_sorted.iloc[:,:10], cmap='coolwarm', vmin=0.5, vmax=1.5, factor=2, square=True) \n",
    "plt.tight_layout()\n",
    "plt.savefig(DESKTOP + \"dotPlot.png\")"
   ]
  },
  {
   "cell_type": "code",
   "execution_count": null,
   "id": "17e8f216-1671-47af-8445-5f268e606c23",
   "metadata": {},
   "outputs": [],
   "source": [
    "ratio_PF4 = ratio[ratio.index.str.startswith(\"PF4\")]\n",
    "ratio_PF4"
   ]
  },
  {
   "cell_type": "code",
   "execution_count": null,
   "id": "4cd117a6-4456-4073-ba07-66c7f6286670",
   "metadata": {},
   "outputs": [],
   "source": [
    "ratio_PF4_sorted = ratio_PF4.sort_values([\"PF4_CXCR3\"], ascending=False, axis=1)\n",
    "ratio_PF4_sorted"
   ]
  },
  {
   "cell_type": "code",
   "execution_count": null,
   "id": "91966b73-9e0f-4053-bef0-1003b1e9a4ec",
   "metadata": {},
   "outputs": [],
   "source": [
    "plt.figure(figsize=(10,5))\n",
    "ax = scattermap(ratio_PF4_sorted.iloc[:,:20], cmap='coolwarm', vmin=0.5, vmax=1.5, factor=2, square=True) \n",
    "plt.tight_layout()\n",
    "plt.savefig(DESKTOP + \"dotPlot.png\")"
   ]
  },
  {
   "cell_type": "code",
   "execution_count": null,
   "id": "b57751e7-d7d8-45f7-bab1-71b9fe2233fb",
   "metadata": {},
   "outputs": [],
   "source": [
    "ratio_ESAM = ratio[ratio.index.str.startswith(\"ESAM\")]\n",
    "ratio_ESAM"
   ]
  },
  {
   "cell_type": "code",
   "execution_count": null,
   "id": "2dab758c-3300-4f29-8c96-cf4d711b0f64",
   "metadata": {},
   "outputs": [],
   "source": [
    "ratio_ESAM_sorted = ratio_ESAM.sort_values([\"ESAM_ESAM\"], ascending=False, axis=1)\n",
    "ratio_ESAM_sorted"
   ]
  },
  {
   "cell_type": "code",
   "execution_count": null,
   "id": "6a020a33-7911-46ef-85cd-57f4c4a5797b",
   "metadata": {},
   "outputs": [],
   "source": [
    "plt.figure(figsize=(10,5))\n",
    "ax = scattermap(ratio_ESAM_sorted.iloc[:,:20], cmap='coolwarm', vmin=0.5, vmax=1.5, factor=2, square=True) \n",
    "plt.tight_layout()\n",
    "plt.savefig(DESKTOP + \"dotPlot.png\")"
   ]
  },
  {
   "cell_type": "code",
   "execution_count": null,
   "id": "65ef1f07-fd3c-45dc-b0f1-388eb557fb1c",
   "metadata": {},
   "outputs": [],
   "source": [
    "ratio_THBS1 = ratio[ratio.index.str.startswith(\"THBS1\")]\n",
    "ratio_THBS1"
   ]
  },
  {
   "cell_type": "code",
   "execution_count": null,
   "id": "56f30051-bb51-4f7b-b6a3-f4dc08de5b99",
   "metadata": {},
   "outputs": [],
   "source": [
    "ratio_THBS1_sorted = ratio_THBS1.sort_values([\"THBS1_a2Bb3 complex\", \"THBS1_a3b1 complex\", \n",
    "                                            \"THBS1_aVb3 complex\"], ascending=False, axis=1)\n",
    "ratio_THBS1_sorted"
   ]
  },
  {
   "cell_type": "code",
   "execution_count": null,
   "id": "a1f8db1c-f750-4c44-8c77-4a36c3ebcc20",
   "metadata": {},
   "outputs": [],
   "source": [
    "plt.figure(figsize=(10,5))\n",
    "ax = scattermap(ratio_THBS1_sorted.iloc[:,:20], cmap='coolwarm', vmin=0.5, vmax=1.5, factor=2, square=True) \n",
    "plt.tight_layout()\n",
    "plt.savefig(DESKTOP + \"dotPlot.png\")"
   ]
  },
  {
   "cell_type": "code",
   "execution_count": null,
   "id": "6a2be6dd-a4c1-41b3-96a6-6f7e80eb83d4",
   "metadata": {},
   "outputs": [],
   "source": [
    "ratio_CLEC2 = ratio[ratio.index.str.startswith(\"CLEC2\")]\n",
    "ratio_CLEC2"
   ]
  },
  {
   "cell_type": "code",
   "execution_count": null,
   "id": "d8043504-bdc4-4e27-b09c-90644574cc30",
   "metadata": {},
   "outputs": [],
   "source": [
    "ratio_CLEC2_sorted = ratio_CLEC2.sort_values([\"CLEC2B_KLRF1\"], ascending=False, axis=1)\n",
    "ratio_CLEC2_sorted"
   ]
  },
  {
   "cell_type": "code",
   "execution_count": null,
   "id": "39667adf-41a9-4cc9-b3b1-0cf7b4944e44",
   "metadata": {},
   "outputs": [],
   "source": [
    "plt.figure(figsize=(10,5))\n",
    "ax = scattermap(ratio_CLEC2_sorted.iloc[:,:30], cmap='coolwarm', vmin=0.5, vmax=1.5, factor=2, square=True) \n",
    "plt.tight_layout()\n",
    "plt.savefig(DESKTOP + \"dotPlot.png\")"
   ]
  },
  {
   "cell_type": "code",
   "execution_count": null,
   "id": "cb390d33-f576-4d69-9613-41bf7a623bcb",
   "metadata": {},
   "outputs": [],
   "source": [
    "ratio_ICAM = ratio[ratio.index.str.startswith(\"ICAM\")]\n",
    "ratio_ICAM"
   ]
  },
  {
   "cell_type": "code",
   "execution_count": null,
   "id": "3970c4f3-61fc-4ffa-aa12-45a514af295f",
   "metadata": {},
   "outputs": [],
   "source": [
    "ratio_ICAM_sorted = ratio_ICAM.sort_values([\"ICAM1_ITGAL\", \"ICAM1_AREG\", ], ascending=False, axis=1)\n",
    "ratio_ICAM_sorted"
   ]
  },
  {
   "cell_type": "code",
   "execution_count": null,
   "id": "2cd9bc25-69fc-44bc-9634-34357a3bfc18",
   "metadata": {},
   "outputs": [],
   "source": [
    "plt.figure(figsize=(20,6))\n",
    "ax = scattermap(ratio_ICAM_sorted.iloc[:,:60], cmap='coolwarm', vmin=0.5, vmax=1.5, factor=2, square=True) \n",
    "plt.tight_layout()\n",
    "plt.savefig(DESKTOP + \"dotPlot.png\")"
   ]
  },
  {
   "cell_type": "code",
   "execution_count": null,
   "id": "e1dff7e8-7cb1-4329-a554-7694876770ac",
   "metadata": {},
   "outputs": [],
   "source": [
    "ratio_CCL5 = ratio[ratio.index.str.startswith(\"CCL5\")]\n",
    "ratio_CCL5"
   ]
  },
  {
   "cell_type": "code",
   "execution_count": null,
   "id": "d2194dbd-a5f4-4a38-9241-9777db6dc1fb",
   "metadata": {},
   "outputs": [],
   "source": [
    "ratio_CCL5_sorted = ratio_CCL5.sort_values([\"CCL5_CCR1\", ], ascending=False, axis=1)\n",
    "ratio_CCL5_sorted"
   ]
  },
  {
   "cell_type": "code",
   "execution_count": null,
   "id": "0fe1bb5b-b78d-405f-9e41-72e11a882de3",
   "metadata": {},
   "outputs": [],
   "source": [
    "plt.figure(figsize=(14,3))\n",
    "ax = scattermap(ratio_CCL5_sorted.iloc[:,:30], cmap='coolwarm', vmin=0.5, vmax=1.5, factor=2, square=True) \n",
    "plt.tight_layout()\n",
    "plt.savefig(DESKTOP + \"dotPlot.png\")"
   ]
  },
  {
   "cell_type": "code",
   "execution_count": null,
   "id": "ba9710e5-4e19-4d6b-81d5-05d465436447",
   "metadata": {},
   "outputs": [],
   "source": [
    "ratio_PECAM = ratio[ratio.index.str.startswith(\"PECAM\")]\n",
    "ratio_PECAM"
   ]
  },
  {
   "cell_type": "code",
   "execution_count": null,
   "id": "e5663224-2031-4e78-9fd7-7da06e4f9cff",
   "metadata": {},
   "outputs": [],
   "source": [
    "ratio_PECAM_sorted = ratio_PECAM.sort_values([\"PECAM1_CD38\"], ascending=False, axis=1)\n",
    "ratio_PECAM_sorted"
   ]
  },
  {
   "cell_type": "code",
   "execution_count": null,
   "id": "997b6169-250a-4bce-a314-742a722c7d25",
   "metadata": {},
   "outputs": [],
   "source": [
    "plt.figure(figsize=(14,3))\n",
    "ax = scattermap(ratio_PECAM_sorted.iloc[:,:30], cmap='coolwarm', vmin=0.5, vmax=1.5, factor=2, square=True) \n",
    "plt.tight_layout()\n",
    "plt.savefig(DESKTOP + \"dotPlot.png\")"
   ]
  },
  {
   "cell_type": "code",
   "execution_count": null,
   "id": "bd262087-6aab-4a9a-8059-b208f8e8d488",
   "metadata": {},
   "outputs": [],
   "source": [
    "ratio_TNFSF14 = ratio[ratio.index.str.startswith(\"TNFSF14\")]\n",
    "ratio_TNFSF14"
   ]
  },
  {
   "cell_type": "code",
   "execution_count": null,
   "id": "61147d21-c283-4a26-8898-afa02cc1a9eb",
   "metadata": {},
   "outputs": [],
   "source": [
    "ratio_TNFSF14_sorted = ratio_TNFSF14.sort_values([\"TNFSF14_LTBR\", \"TNFSF14_TNFRSF14\"], ascending=False, axis=1)\n",
    "ratio_TNFSF14_sorted"
   ]
  },
  {
   "cell_type": "code",
   "execution_count": null,
   "id": "f6d14d81-3cdb-4ebe-970a-24826ea0a5c1",
   "metadata": {},
   "outputs": [],
   "source": [
    "plt.figure(figsize=(14,3))\n",
    "ax = scattermap(ratio_TNFSF14_sorted.iloc[:,:30], cmap='coolwarm', vmin=0.5, vmax=1.5, factor=2, square=True) \n",
    "plt.tight_layout()\n",
    "plt.savefig(DESKTOP + \"dotPlot.png\")"
   ]
  },
  {
   "cell_type": "code",
   "execution_count": null,
   "id": "c92a6e0e-6b34-4425-94d2-cf6b8c3a4d79",
   "metadata": {},
   "outputs": [],
   "source": [
    "ratio_TGFB1 = ratio[ratio.index.str.startswith(\"TGFB1\")]\n",
    "ratio_TGFB1"
   ]
  },
  {
   "cell_type": "code",
   "execution_count": null,
   "id": "885cb24b-27f2-4979-8dfc-124b80fb7ad9",
   "metadata": {},
   "outputs": [],
   "source": [
    "ratio_TGFB1_sorted = ratio_TGFB1.sort_values([\"TGFB1_TGFbeta receptor1\", \"TGFB1_TGFBR3\", ], ascending=False, axis=1)\n",
    "ratio_TGFB1_sorted"
   ]
  },
  {
   "cell_type": "code",
   "execution_count": null,
   "id": "4ed1ab36-b9f3-40cf-ae1b-65ac616f867f",
   "metadata": {},
   "outputs": [],
   "source": [
    "plt.figure(figsize=(14,3))\n",
    "ax = scattermap(ratio_TGFB1_sorted.iloc[:,:30], cmap='coolwarm', vmin=0.5, vmax=1.5, factor=2, square=True) \n",
    "plt.tight_layout()\n",
    "plt.savefig(DESKTOP + \"dotPlot.png\")"
   ]
  },
  {
   "cell_type": "code",
   "execution_count": null,
   "id": "97b6b182-58ee-4dc2-a753-1b2b384aefd6",
   "metadata": {},
   "outputs": [],
   "source": [
    "ratio_CD160 = ratio[ratio.index.str.startswith(\"CD160\")]\n",
    "ratio_CD160"
   ]
  },
  {
   "cell_type": "code",
   "execution_count": null,
   "id": "ccbd6b19-f8f7-4cff-9c30-41f09fbaa04a",
   "metadata": {},
   "outputs": [],
   "source": [
    "ratio_CD160_sorted = ratio_CD160.sort_values([\"CD160_TNFRSF14\", ], ascending=False, axis=1)\n",
    "ratio_CD160_sorted"
   ]
  },
  {
   "cell_type": "code",
   "execution_count": null,
   "id": "ba87123f-66ff-4ffd-a5bc-b177f3b002bb",
   "metadata": {},
   "outputs": [],
   "source": [
    "plt.figure(figsize=(14,3))\n",
    "ax = scattermap(ratio_CD160_sorted.iloc[:,:40], cmap='coolwarm', vmin=0.5, vmax=1.5, factor=2, square=True) \n",
    "plt.tight_layout()\n",
    "plt.savefig(DESKTOP + \"dotPlot.png\")"
   ]
  },
  {
   "cell_type": "code",
   "execution_count": null,
   "id": "b3a9b126-bfa5-447f-90b5-2693ca0e09b7",
   "metadata": {},
   "outputs": [],
   "source": [
    "ratio_CCL4 = ratio[ratio.index.str.startswith(\"CCL4\")]\n",
    "ratio_CCL4"
   ]
  },
  {
   "cell_type": "code",
   "execution_count": null,
   "id": "a868207d-b5f7-4f63-b16f-346066019c25",
   "metadata": {},
   "outputs": [],
   "source": [
    "ratio_CCL4_sorted = ratio_CCL4.sort_values([\"CCL4_SLC7A1\", ], ascending=False, axis=1)\n",
    "ratio_CCL4_sorted"
   ]
  },
  {
   "cell_type": "code",
   "execution_count": null,
   "id": "34542376-38c1-4dfa-8af8-938ae1f1a5d2",
   "metadata": {},
   "outputs": [],
   "source": [
    "plt.figure(figsize=(14,3))\n",
    "ax = scattermap(ratio_CCL4_sorted.iloc[:,:30], cmap='coolwarm', vmin=0.5, vmax=1.5, factor=2, square=True) \n",
    "plt.tight_layout()\n",
    "plt.savefig(DESKTOP + \"dotPlot.png\")"
   ]
  },
  {
   "cell_type": "code",
   "execution_count": null,
   "id": "39e619f0-4461-4b5c-9f76-3231f92d506c",
   "metadata": {},
   "outputs": [],
   "source": [
    "ratio_IFNG = ratio[ratio.index.str.startswith(\"IFNG\")]\n",
    "ratio_IFNG"
   ]
  },
  {
   "cell_type": "code",
   "execution_count": null,
   "id": "0890e8a8-bd16-42b7-b4b6-718bbe66198b",
   "metadata": {},
   "outputs": [],
   "source": [
    "ratio_IFNG_sorted = ratio_IFNG.sort_values([\"IFNG_Type II IFNR\", ], ascending=False, axis=1)\n",
    "ratio_IFNG_sorted"
   ]
  },
  {
   "cell_type": "code",
   "execution_count": null,
   "id": "f0bf2e05-0f3c-4297-964e-dc6fbb884be8",
   "metadata": {},
   "outputs": [],
   "source": [
    "plt.figure(figsize=(14,3))\n",
    "ax = scattermap(ratio_IFNG_sorted.iloc[:,:30], cmap='coolwarm', vmin=0.5, vmax=1.5, factor=2, square=True) \n",
    "plt.tight_layout()\n",
    "plt.savefig(DESKTOP + \"dotPlot.png\")"
   ]
  },
  {
   "cell_type": "code",
   "execution_count": null,
   "id": "7285cdd3-2ac2-450a-afc6-ca37600d8e6b",
   "metadata": {},
   "outputs": [],
   "source": [
    "## MUlktiple\n",
    "\n",
    "interactions = [\"ESAM_ESAM\", \"THBS1_a2Bb3 complex\", \"PF4_CXCR3\", \"CLEC2B_KLRF1\", \n",
    "               \"ICAM4_aLb2 complex\", \"ICAM1_ITGAL\", \"ICAM1_aLb2 complex\", \"ICAM1_AREG\",\n",
    "               \"CCL5_CCR1\", \"PECAM1_CD38\", \"TNFSF14_LTBR\", \"TNFSF14_TNFRSF14\",\n",
    "               \"TGFB1_TGFbeta receptor1\", \"TGFB1_TGFBR3\", \"CD160_TNFRSF14\", \"CCL4_SLC7A1\",\n",
    "               \"IFNG_Type II IFNR\",\n",
    "               ]\n",
    "\n",
    "ratio_selected = ratio[ratio.index.isin(interactions)]\n",
    "ratio_selected"
   ]
  },
  {
   "cell_type": "code",
   "execution_count": null,
   "id": "9fb13d25-ed23-4bc8-9254-689e10a3de8f",
   "metadata": {},
   "outputs": [],
   "source": [
    "ratio_selected.loc[\"Total\", :] = ratio_selected.sum(axis=0)\n",
    "ratio_selected_sorted = ratio_selected.sort_values([\"Total\", ], ascending=False, axis=1)\n",
    "ratio_selected_sorted"
   ]
  },
  {
   "cell_type": "code",
   "execution_count": null,
   "id": "91257c93-ee6b-4459-922a-700b1c4f561e",
   "metadata": {},
   "outputs": [],
   "source": [
    "ratio_selected_sorted_noTotal = ratio_selected_sorted.drop(\"Total\", axis=0)\n",
    "ratio_selected_sorted_noTotal"
   ]
  },
  {
   "cell_type": "code",
   "execution_count": null,
   "id": "3a5cd349-6307-4c07-a509-6123b2965c4a",
   "metadata": {},
   "outputs": [],
   "source": [
    "plt.figure(figsize=(12,6))\n",
    "ax = scattermap(ratio_selected_sorted_noTotal.iloc[:,:40], cmap='coolwarm', vmin=0.5, vmax=1.5, factor=2, square=True) \n",
    "plt.tight_layout()\n",
    "plt.savefig(DESKTOP + \"dotPlot.png\")"
   ]
  },
  {
   "cell_type": "code",
   "execution_count": null,
   "id": "bb38e235-57a5-447e-8f5c-d2c0b0d68a06",
   "metadata": {},
   "outputs": [],
   "source": [
    "ratio_selected_sorted.columns"
   ]
  },
  {
   "cell_type": "code",
   "execution_count": null,
   "id": "a66b227e-c65e-4683-a6e3-36eebb2a5c28",
   "metadata": {},
   "outputs": [],
   "source": [
    "NK_columns = [x for x in ratio_selected_sorted.columns if x.startswith(\"NK\")]\n",
    "len(NK_columns)"
   ]
  },
  {
   "cell_type": "code",
   "execution_count": null,
   "id": "da6cfcc5-201a-476d-a55a-e3e7a71e5e7e",
   "metadata": {},
   "outputs": [],
   "source": [
    "ratio_selected_sorted_NK = ratio_selected_sorted[NK_columns]"
   ]
  },
  {
   "cell_type": "code",
   "execution_count": null,
   "id": "32081d6c-1e9b-49bf-a992-14ea9207a9c3",
   "metadata": {},
   "outputs": [],
   "source": [
    "ratio_selected_sorted_NK = ratio_selected_sorted_NK.sort_values([\"Total\", ], ascending=False, axis=1)\n",
    "ratio_selected_sorted_NK_noTotal = ratio_selected_sorted_NK.drop(\"Total\", axis=0)"
   ]
  },
  {
   "cell_type": "code",
   "execution_count": null,
   "id": "9dfefc79-9378-4e58-8bae-98844e35c0e1",
   "metadata": {},
   "outputs": [],
   "source": [
    "plt.figure(figsize=(18,8))\n",
    "ax = scattermap(ratio_selected_sorted_NK_noTotal.iloc[:,:60], cmap='coolwarm', vmin=0.5, vmax=1.5, factor=2, square=True) \n",
    "plt.tight_layout()\n",
    "plt.savefig(DESKTOP + \"dotPlot.png\")"
   ]
  },
  {
   "cell_type": "code",
   "execution_count": null,
   "id": "06f823c3-ce9a-4c33-ae95-f66e39aa6976",
   "metadata": {},
   "outputs": [],
   "source": [
    "gdT_columns = [x for x in ratio_selected_sorted.columns if x.startswith(\"gdT\")]\n",
    "len(gdT_columns)"
   ]
  },
  {
   "cell_type": "code",
   "execution_count": null,
   "id": "25ffe6e5-e1d2-401f-a2ac-e91ff174ee16",
   "metadata": {},
   "outputs": [],
   "source": [
    "ratio_selected_sorted_gdT = ratio_selected_sorted[gdT_columns]\n",
    "ratio_selected_sorted_gdT = ratio_selected_sorted_gdT.sort_values([\"Total\", ], ascending=False, axis=1)\n",
    "ratio_selected_sorted_gdT_noTotal = ratio_selected_sorted_gdT.drop(\"Total\", axis=0)"
   ]
  },
  {
   "cell_type": "code",
   "execution_count": null,
   "id": "274e08bd-61f2-474a-989c-352bcd541736",
   "metadata": {},
   "outputs": [],
   "source": [
    "plt.figure(figsize=(18,8))\n",
    "ax = scattermap(ratio_selected_sorted_gdT_noTotal.iloc[:,:60], cmap='coolwarm', vmin=0.5, vmax=1.5, factor=2, square=True) \n",
    "plt.tight_layout()\n",
    "plt.savefig(DESKTOP + \"dotPlot.png\")"
   ]
  },
  {
   "cell_type": "code",
   "execution_count": null,
   "id": "5705a645-cc1a-444b-88a4-3c7b73bd18e9",
   "metadata": {},
   "outputs": [],
   "source": [
    "platelet_columns = [x for x in ratio_selected_sorted.columns if x.startswith(\"Platelet\")]\n",
    "len(platelet_columns)"
   ]
  },
  {
   "cell_type": "code",
   "execution_count": null,
   "id": "cffcdca1-04e7-473e-a60f-adbaa9bec33e",
   "metadata": {},
   "outputs": [],
   "source": [
    "ratio_selected_sorted_platelet = ratio_selected_sorted[platelet_columns]\n",
    "ratio_selected_sorted_platelet = ratio_selected_sorted_platelet.sort_values([\"Total\", ], ascending=False, axis=1)\n",
    "ratio_selected_sorted_platelet_noTotal = ratio_selected_sorted_platelet.drop(\"Total\", axis=0)"
   ]
  },
  {
   "cell_type": "code",
   "execution_count": null,
   "id": "8e47d33a-059e-4f6e-97e3-cc49881ad665",
   "metadata": {},
   "outputs": [],
   "source": [
    "plt.figure(figsize=(20,6))\n",
    "ax = scattermap(ratio_selected_sorted_platelet_noTotal.iloc[:,:30], cmap='coolwarm', vmin=0.5, vmax=1.5, factor=2, square=True) \n",
    "plt.tight_layout()\n",
    "plt.savefig(DESKTOP + \"dotPlot.png\")"
   ]
  },
  {
   "cell_type": "code",
   "execution_count": null,
   "id": "80bb57a3-ba42-4c1f-85d3-15e4eb49904b",
   "metadata": {},
   "outputs": [],
   "source": []
  },
  {
   "cell_type": "code",
   "execution_count": null,
   "id": "c20d3c8d-5ef9-4770-ba72-6acdc24587eb",
   "metadata": {},
   "outputs": [],
   "source": []
  },
  {
   "cell_type": "code",
   "execution_count": null,
   "id": "36a91d3c-d849-4274-832d-3cc7fcfc453a",
   "metadata": {},
   "outputs": [],
   "source": []
  },
  {
   "cell_type": "code",
   "execution_count": null,
   "id": "12dd0e5a-e5d6-45c6-bf5f-15ac8c1eaae4",
   "metadata": {},
   "outputs": [],
   "source": []
  },
  {
   "cell_type": "code",
   "execution_count": null,
   "id": "cb76989e-d965-4380-9baf-5ff18afaa33f",
   "metadata": {},
   "outputs": [],
   "source": []
  },
  {
   "cell_type": "markdown",
   "id": "7e1b52d7-33da-4668-ae43-5b28da12765c",
   "metadata": {},
   "source": [
    "## Separate ligand and receptors\n",
    "\n",
    "February 2, 2022"
   ]
  },
  {
   "cell_type": "code",
   "execution_count": null,
   "id": "4688fb76-ea22-47a9-9d70-be748776625b",
   "metadata": {},
   "outputs": [],
   "source": [
    "codes = pd.read_csv(PATH + \"L1_codes.tsv\", sep=\"\\t\")\n",
    "codes_dic = dict(zip(codes[\"interacting_pair\"], codes[\"celltype\"]))\n",
    "\n",
    "data = pd.read_csv(PATH + \"Proband_Aneu_vs_EU_L1.tsv\", sep=\"\\t\")"
   ]
  },
  {
   "cell_type": "code",
   "execution_count": null,
   "id": "ecd91dca-8a36-4bd5-9024-4793bbf5bde2",
   "metadata": {},
   "outputs": [],
   "source": [
    "data_A = data[(data[\"Select Aneu\"] == \"B\") |  (data[\"Select Aneu\"] == \"A or B\")]\n",
    "data_B = data[(data[\"Select Aneu\"] == \"A\") |  (data[\"Select Aneu\"] == \"A or B\")]"
   ]
  },
  {
   "cell_type": "code",
   "execution_count": null,
   "id": "51670b11-ca4d-491c-8798-e1812ff749f4",
   "metadata": {},
   "outputs": [],
   "source": [
    "data_A = data_A.set_index(\"interacting_pair\")\n",
    "data_B = data_B.set_index(\"interacting_pair\")\n",
    "data_A"
   ]
  },
  {
   "cell_type": "code",
   "execution_count": null,
   "id": "fe8e6b70-3d62-4b0a-ac64-0d3d83ad759d",
   "metadata": {},
   "outputs": [],
   "source": [
    "codes_A = codes[codes[\"Aneu (A - B - AB - O)\"] == \"A\"]\n",
    "codes_B = codes[codes[\"Aneu (A - B - AB - O)\"] == \"B\"]"
   ]
  },
  {
   "cell_type": "code",
   "execution_count": null,
   "id": "4eab8caf-5b11-428f-8aa8-177b2416584a",
   "metadata": {},
   "outputs": [],
   "source": [
    "columns_A = codes_A[\"interacting_pair\"].tolist()\n",
    "columns_B = codes_B[\"interacting_pair\"].tolist()\n",
    "print(len(columns_A))\n",
    "print(len(columns_B))"
   ]
  },
  {
   "cell_type": "code",
   "execution_count": null,
   "id": "007ed256-fdec-4e84-96b2-89f95fea2d77",
   "metadata": {},
   "outputs": [],
   "source": [
    "data_A = data_A[columns_A]\n",
    "data_B = data_B[columns_B]\n",
    "data_A.shape"
   ]
  },
  {
   "cell_type": "code",
   "execution_count": null,
   "id": "8850752b-7648-43b2-8865-09dcf0cb30e5",
   "metadata": {},
   "outputs": [],
   "source": [
    "data_A = data_A.rename(columns=codes_dic)\n",
    "data_B = data_B.rename(columns=codes_dic)\n",
    "data_A.to_csv(DESKTOP + \"data_A.tsv\", sep=\"\\t\")\n",
    "data_B.to_csv(DESKTOP + \"data_B.tsv\", sep=\"\\t\")"
   ]
  },
  {
   "cell_type": "code",
   "execution_count": null,
   "id": "35d9b0df-4520-45f4-8795-bb3855bd83a2",
   "metadata": {},
   "outputs": [],
   "source": []
  },
  {
   "cell_type": "code",
   "execution_count": null,
   "id": "6e204109-4551-428f-8563-48bdb47ca73a",
   "metadata": {},
   "outputs": [],
   "source": [
    "data_AB = pd.read_csv(DESKTOP + \"data_AB2.tsv\", sep=\"\\t\")"
   ]
  },
  {
   "cell_type": "code",
   "execution_count": null,
   "id": "68495a12-dcc7-41bc-b3ad-83cf2bc7ab9b",
   "metadata": {},
   "outputs": [],
   "source": [
    "data_AB = data_AB.set_index(\"interacting_pair\")"
   ]
  },
  {
   "cell_type": "code",
   "execution_count": null,
   "id": "bf83e994-cebf-4fec-9426-095449fd6875",
   "metadata": {},
   "outputs": [],
   "source": [
    "plt.figure(figsize=(20,10))\n",
    "ax = scattermap(data_AB, cmap='Reds', factor=2, square=True) #marker_size=pre_res_fdr\n",
    "plt.tight_layout()\n",
    "plt.savefig(DESKTOP + \"dotPlot.png\")"
   ]
  },
  {
   "cell_type": "code",
   "execution_count": null,
   "id": "8b193c65-8392-4e00-84c4-cdc5ad43df0d",
   "metadata": {},
   "outputs": [],
   "source": []
  },
  {
   "cell_type": "code",
   "execution_count": null,
   "id": "d9d30f9f-1c36-4e03-aab4-614d6f5d9229",
   "metadata": {},
   "outputs": [],
   "source": []
  },
  {
   "cell_type": "code",
   "execution_count": null,
   "id": "774474d5-8f81-4ce8-af85-4d06bd9c9b0f",
   "metadata": {},
   "outputs": [],
   "source": []
  }
 ],
 "metadata": {
  "kernelspec": {
   "display_name": "Python 3 (ipykernel)",
   "language": "python",
   "name": "python3"
  },
  "language_info": {
   "codemirror_mode": {
    "name": "ipython",
    "version": 3
   },
   "file_extension": ".py",
   "mimetype": "text/x-python",
   "name": "python",
   "nbconvert_exporter": "python",
   "pygments_lexer": "ipython3",
   "version": "3.8.12"
  }
 },
 "nbformat": 4,
 "nbformat_minor": 5
}
