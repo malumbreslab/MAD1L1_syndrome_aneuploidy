{
 "cells": [
  {
   "cell_type": "markdown",
   "id": "e8e22c13-ad38-4fb0-85f8-481d0111b024",
   "metadata": {},
   "source": [
    "# InferCNVpy on MAD1 PBMC-scRNAseq data\n",
    "### Azimuth L3"
   ]
  },
  {
   "cell_type": "markdown",
   "id": "3634de07-d044-4221-9d12-1c84c80f66af",
   "metadata": {},
   "source": [
    "@mmm, \n",
    "August 21, 2021  \n",
    "New analysis using chromosome location and arm location from Ensembl GRCh38.104  \n",
    "November 25, 2021  \n",
    "November 26, 2021 - Final data for diff. exp. analysis\n",
    "\n",
    "January 9, 2022 ----> Use all other samples as controls"
   ]
  },
  {
   "cell_type": "code",
   "execution_count": null,
   "id": "6722de80-5339-4878-b129-ba7fd43baeb3",
   "metadata": {},
   "outputs": [],
   "source": [
    "import numpy as np\n",
    "import pandas as pd\n",
    "import matplotlib.pyplot as plt\n",
    "import seaborn as sns\n",
    "\n",
    "import scanpy as sc\n",
    "import infercnvpy as cnv"
   ]
  },
  {
   "cell_type": "code",
   "execution_count": null,
   "id": "42dc96d8-6d3a-4226-82fd-d2c5e47c4332",
   "metadata": {},
   "outputs": [],
   "source": [
    "from IPython.display import set_matplotlib_formats\n",
    "set_matplotlib_formats('retina')\n",
    "sc.settings.set_figure_params(figsize=(4, 4))\n",
    "sc.logging.print_header()\n",
    "print(\"InferCNV version: \", cnv.__version__)"
   ]
  },
  {
   "cell_type": "code",
   "execution_count": null,
   "id": "043de24c-1738-4a9c-9a05-32c813e9c8c6",
   "metadata": {},
   "outputs": [],
   "source": [
    "# Directories\n",
    "DATA = \"/Users/mmm/BioPROJECTS/MAD1 & MVA/scRNAseq PBMCs/data/\"\n",
    "DESKTOP = \"/Users/mmm/Desktop/\""
   ]
  },
  {
   "cell_type": "markdown",
   "id": "bc0504bd-539b-4148-a7eb-a7f4be3b035b",
   "metadata": {},
   "source": [
    "# Read data with chr positions"
   ]
  },
  {
   "cell_type": "code",
   "execution_count": null,
   "id": "a9a52580-6179-4812-87e7-23a1ba915d89",
   "metadata": {},
   "outputs": [],
   "source": [
    "adata = sc.read_h5ad(DATA + \"211028_MAD1_scRNAseq.h5ad\")"
   ]
  },
  {
   "cell_type": "code",
   "execution_count": null,
   "id": "9cf7c8e3-5856-4589-9406-5b8497872272",
   "metadata": {},
   "outputs": [],
   "source": [
    "cmd = pd.read_csv(DATA + \"211126_cell_metadata_initial.tsv\", sep=\"\\t\")\n",
    "cmd = cmd.set_index(\"Cell\")\n",
    "cmd.head(3)"
   ]
  },
  {
   "cell_type": "code",
   "execution_count": null,
   "id": "efa16c16-4130-446b-9145-1b574825c7cb",
   "metadata": {},
   "outputs": [],
   "source": [
    "adata.obs = cmd\n",
    "adata"
   ]
  },
  {
   "cell_type": "markdown",
   "id": "642e18bd-66d9-4b58-8443-f23fdfc283ba",
   "metadata": {},
   "source": [
    "# Running inferCNV"
   ]
  },
  {
   "cell_type": "markdown",
   "id": "e9bcc43c-a92d-4738-882f-2d39c0c8c77d",
   "metadata": {},
   "source": [
    "Use `window=251` and data scaled on controls based on previous analyses (211125). Run inferCNV using \n",
    "\"predicted.celltype.l1\", \"predicted.celltype.l3\" and \"predicted.celltype.l3\" (from Azimuth analysis: https://azimuth.hubmapconsortium.org/) "
   ]
  },
  {
   "cell_type": "code",
   "execution_count": null,
   "id": "4a1b98c1-a852-496f-9efd-12dd31a29220",
   "metadata": {},
   "outputs": [],
   "source": [
    "# Select Window size and column for classification of cells\n",
    "window = 251\n",
    "selected_column = \"predicted.celltype.l3\""
   ]
  },
  {
   "cell_type": "code",
   "execution_count": null,
   "id": "b7d1fe08-7966-4205-9f70-425bca0e78fb",
   "metadata": {},
   "outputs": [],
   "source": [
    "groups = list(set(adata.obs[selected_column]))\n",
    "groups"
   ]
  },
  {
   "cell_type": "code",
   "execution_count": null,
   "id": "4b5b9c29-65b4-46c0-952b-d94242fc83d0",
   "metadata": {},
   "outputs": [],
   "source": [
    "# Remove cell types with few cells\n",
    "groups_clean = [x for x in groups if not (x==\"ASDC_mDC\") | (x==\"CD8 TEM_4\") | (x==\"NK_1\") |\n",
    "               (x==\"CD4 Proliferating\")]\n",
    "groups_clean"
   ]
  },
  {
   "cell_type": "code",
   "execution_count": null,
   "id": "18f42599-7598-46d9-8047-20cec106cec0",
   "metadata": {},
   "outputs": [],
   "source": [
    "# Check names of chromosomes and chromosomes to exclude from the analysis\n",
    "adata.var.chromosome.unique()"
   ]
  },
  {
   "cell_type": "code",
   "execution_count": null,
   "id": "06adcec5-1a3f-46cc-a165-c0e1a2c8dd8b",
   "metadata": {},
   "outputs": [],
   "source": [
    "chr_to_exclude = [np.nan, 'chrX', 'chrY', 'MT', 'GL000194.1']"
   ]
  },
  {
   "cell_type": "code",
   "execution_count": null,
   "id": "b64de0cb-0a56-48df-9e52-8d50c7a937d0",
   "metadata": {},
   "outputs": [],
   "source": [
    "# dictionary of dataframes for keeping the inferCNV data\n",
    "df_dic = {}                                                                 \n",
    "for cell in groups_clean:    \n",
    "    data = adata[adata.obs[selected_column] == cell]\n",
    "    print(cell, data.shape)\n",
    "    cnv.tl.infercnv(data, reference_key=\"Sample\", reference_cat=[\"Control1\", \"Control2\", \"Father\", \"Mother\"], \n",
    "                    exclude_chromosomes=chr_to_exclude, window_size=window, step=1)    \n",
    "    cnv.pl.chromosome_heatmap(data, groupby=\"Sample\")\n",
    "    df = pd.DataFrame.sparse.from_spmatrix(data.obsm['X_cnv'], index=data.obs.index)\n",
    "    df_dic[cell] = df"
   ]
  },
  {
   "cell_type": "code",
   "execution_count": null,
   "id": "cd7c0a55-3a98-4492-a0a2-5d457ce8607c",
   "metadata": {},
   "outputs": [],
   "source": [
    "# Concatenate all celltypes in a single dataframe\n",
    "print(range(1, len(groups_clean)))\n",
    "df = df_dic[groups_clean[0]]\n",
    "df[\"celltype\"] = groups_clean[0]\n",
    "for n in range(1, len(groups_clean)):\n",
    "    df_new = df_dic[groups_clean[n]]\n",
    "    df_new[\"celltype\"] = groups_clean[n]\n",
    "    df = pd.concat([df, df_new])\n",
    "    print(df.shape)\n",
    "print(df.shape[0], \"cells in total\")\n",
    "df.head(3)"
   ]
  },
  {
   "cell_type": "markdown",
   "id": "b6111429-b168-464d-99de-e77a2124373e",
   "metadata": {},
   "source": [
    "## Calculate average inferCNV values per chromosome"
   ]
  },
  {
   "cell_type": "code",
   "execution_count": null,
   "id": "cdc854e8-2f54-4136-892d-a93f71645587",
   "metadata": {},
   "outputs": [],
   "source": [
    "# no null values\n",
    "df.isna().sum(axis=0).sum()"
   ]
  },
  {
   "cell_type": "code",
   "execution_count": null,
   "id": "4f4b4422-79b9-4f65-b93a-39dfd94c4441",
   "metadata": {},
   "outputs": [],
   "source": [
    "# Number of genes read per chromosome\n",
    "adata.var.chromosome.value_counts()"
   ]
  },
  {
   "cell_type": "code",
   "execution_count": null,
   "id": "5e59fbb0-1424-4b1e-9a98-2b5a7369ef3e",
   "metadata": {},
   "outputs": [],
   "source": [
    "# number of genes per chromosome\n",
    "dic_chr = {\"chr1\": 1902, \"chr2\": 1244, \"chr3\": 1086, \"chr4\": 669, \"chr5\": 830, \"chr6\": 976,\n",
    "                 \"chr7\": 910, \"chr8\": 604, \"chr9\": 708, \"chr10\": 711, \"chr11\": 1035, \"chr12\": 965,\n",
    "                 \"chr13\": 360, \"chr14\": 693, \"chr15\": 572, \"chr16\": 815, \"chr17\": 1081, \"chr18\": 275, \"chr19\": 1322,\n",
    "                 \"chr20\": 482, \"chr21\": 210, \"chr22\": 480}\n",
    "\n",
    "# gene index per chromosome\n",
    "dic_genes_chr = {\"chr1\": [0, 1902], \"chr2\": [1903, 3146], \"chr3\": [3147, 4232], \"chr4\": [4233, 4901], \"chr5\": [4902, 5731], \n",
    "                 \"chr6\": [5732, 6707], \"chr7\": [6708, 7617], \"chr8\": [7618, 8221], \"chr9\": [8222, 8929], \n",
    "                 \"chr10\": [8930, 9640], \"chr11\": [9641, 10675], \"chr12\": [10676, 11640], \"chr13\": [11641, 12000],\n",
    "                 \"chr14\": [12001, 12693], \"chr15\": [12694, 13265], \"chr16\": [13266, 14080], \n",
    "                 \"chr17\": [14081, 15161], \"chr18\": [15162, 15436], \"chr19\": [15437, 16758],\n",
    "                 \"chr20\": [16759, 17240], \"chr21\": [17241, 17450], \"chr22\": [17451, 17930]}\n"
   ]
  },
  {
   "cell_type": "code",
   "execution_count": null,
   "id": "93705270-3a90-4233-b773-2a732a121cf4",
   "metadata": {},
   "outputs": [],
   "source": [
    "# Calculate the mean CNV score values per chromosome per cell\n",
    "for key, value in dic_genes_chr.items():\n",
    "    #print(key, value[0], value[1])\n",
    "    df[key] = df.iloc[:, value[0]: value[1]].mean(axis=1)\n",
    "\n",
    "# Keep only the mean data per chromosome\n",
    "df_means = df.loc[:, \"celltype\":\"chr22\"].copy()\n",
    "print(df_means.shape)\n",
    "df_means.head(3)"
   ]
  },
  {
   "cell_type": "code",
   "execution_count": null,
   "id": "19f193a1-f83b-4b56-a65f-833ebc91bae1",
   "metadata": {},
   "outputs": [],
   "source": [
    "# Plot averages\n",
    "df_cells = df_means.loc[:, [\"celltype\"]].copy()\n",
    "df_temp = df_means.loc[:, \"chr1\":\"chr22\"].copy()\n",
    "plt.figure(figsize = (8,4))\n",
    "g = sns.heatmap(df_temp, cmap=\"bwr\", vmin=-0.05, vmax=0.05)\n",
    "g.set_yticklabels(\"\")\n",
    "g.set_title(\"All Cells\")\n",
    "plt.show()"
   ]
  },
  {
   "cell_type": "code",
   "execution_count": null,
   "id": "3a2d7ad6-793c-4464-af12-138f6d573b24",
   "metadata": {},
   "outputs": [],
   "source": [
    "# Plot averages in a clustermap\n",
    "df_cells = df_means.loc[:, [\"celltype\"]].copy()\n",
    "df_temp = df_means.loc[:, \"chr1\":\"chr22\"].copy()\n",
    "plt.figure(figsize = (8,4))\n",
    "g = sns.clustermap(df_temp, cmap=\"bwr\", vmin=-0.05, vmax=0.05)\n",
    "#g.set_yticklabels(\"\")\n",
    "g.set_title(\"All Cells\")\n",
    "plt.show()"
   ]
  },
  {
   "cell_type": "code",
   "execution_count": null,
   "id": "10e67201-e15d-47c1-a640-f8887133c615",
   "metadata": {},
   "outputs": [],
   "source": [
    "# Plot averages in a clustermap grouping per celltypes\n",
    "df_temp = df_means.copy()\n",
    "celltypes = df_temp.pop(\"celltype\")\n",
    "lut = dict(zip(celltypes.unique(), \"rbg\"))\n",
    "row_colors = celltypes.map(lut)"
   ]
  },
  {
   "cell_type": "code",
   "execution_count": null,
   "id": "f44f1345-8518-4934-a2f8-f2d7490393eb",
   "metadata": {},
   "outputs": [],
   "source": [
    "plt.figure(figsize = (8,4))\n",
    "g = sns.clustermap(df_temp, cmap=\"bwr\", vmin=-0.05, vmax=0.05, row_colors=row_colors)\n",
    "g.set_title(\"All Cells\")\n",
    "plt.show()"
   ]
  },
  {
   "cell_type": "code",
   "execution_count": null,
   "id": "9e8a69b8-ad61-4334-840c-6de9b89daa98",
   "metadata": {},
   "outputs": [],
   "source": [
    "for celltype in groups_clean:\n",
    "    print(celltype)\n",
    "    df_temp = df_means[df_means[\"celltype\"] == celltype]\n",
    "    ct = df_temp.pop(\"celltype\")\n",
    "    g = sns.clustermap(df_temp, cmap=\"bwr\", vmin=-0.05, vmax=0.05, figsize=(8,4),\n",
    "                      col_cluster=False, yticklabels=False, cbar_pos=None)\n",
    "    plt.show()"
   ]
  },
  {
   "cell_type": "code",
   "execution_count": null,
   "id": "2900094e-e664-4707-9e72-0de4d5049a69",
   "metadata": {},
   "outputs": [],
   "source": [
    "# Add Sample data\n",
    "df_means = adata.obs[[\"Sample\"]].merge(df_means, left_index=True, right_index=True)\n",
    "df_means.head(3)"
   ]
  },
  {
   "cell_type": "code",
   "execution_count": null,
   "id": "234985d5-1c8c-43e2-a2c5-e8f1b4764d2a",
   "metadata": {},
   "outputs": [],
   "source": [
    "# Remove cell types with few cells\n",
    "groups_clean2 = [x for x in groups if not (x==\"ASDC_mDC\") | (x==\"CD8 TEM_4\") | (x==\"NK_1\") |\n",
    "               (x==\"CD4 Proliferating\") | (x==\"Plasmablast\")]\n",
    "groups_clean2"
   ]
  },
  {
   "cell_type": "code",
   "execution_count": null,
   "id": "1f6fa764-de50-4c13-a9ea-05d5fd54be36",
   "metadata": {},
   "outputs": [],
   "source": [
    "for celltype in groups_clean2:\n",
    "    print(celltype)\n",
    "    df_temp = df_means[df_means[\"celltype\"] == celltype]\n",
    "    df_temp_controls = df_temp[(df_temp[\"Sample\"]==\"Control1\") | (df_temp[\"Sample\"]==\"Control2\")]\n",
    "    df_plot = df_temp_controls.loc[:, \"chr1\":\"chr22\"].copy()\n",
    "    print(\"Controls\")\n",
    "    g = sns.clustermap(df_plot, cmap=\"bwr\", vmin=-0.05, vmax=0.05, figsize=(8,4),\n",
    "                      col_cluster=False, yticklabels=False, cbar_pos=None)\n",
    "    plt.show()\n",
    "    \n",
    "    df_temp_proband = df_temp[df_temp[\"Sample\"]==\"Proband\"]\n",
    "    print(\"Proband\")\n",
    "    df_plot = df_temp_proband.loc[:, \"chr1\":\"chr22\"].copy()\n",
    "    g = sns.clustermap(df_plot, cmap=\"bwr\", vmin=-0.05, vmax=0.05, figsize=(8,4),\n",
    "                      col_cluster=False, yticklabels=False, cbar_pos=None)\n",
    "    plt.show()"
   ]
  },
  {
   "cell_type": "markdown",
   "id": "ea233810-c8f4-4e2a-9bcb-eacf79680b89",
   "metadata": {},
   "source": [
    "## Scale means per chromosome using controls as references"
   ]
  },
  {
   "cell_type": "code",
   "execution_count": null,
   "id": "3c339974-2b06-4bfb-b0b0-4a9dcc45cac6",
   "metadata": {},
   "outputs": [],
   "source": [
    "df_means.head(3)"
   ]
  },
  {
   "cell_type": "code",
   "execution_count": null,
   "id": "5b7d62e5-3ac9-4ff4-80a9-544d3abe24ff",
   "metadata": {},
   "outputs": [],
   "source": [
    "df_means_sample_celltypes = df_means.loc[:, [\"Sample\",\"celltype\"]].copy()\n",
    "df_temp = df_means.loc[:, \"chr1\":\"chr22\"].copy()\n",
    "\n",
    "df_means_controls = df_means[(df_means[\"Sample\"]==\"Control1\") | (df_means[\"Sample\"]==\"Control2\")]\n",
    "df_temp_controls = df_means_controls.loc[:, \"chr1\":\"chr22\"].copy()"
   ]
  },
  {
   "cell_type": "code",
   "execution_count": null,
   "id": "79783f2e-2c9b-4285-9c24-933d1bbe6f9b",
   "metadata": {},
   "outputs": [],
   "source": [
    "# Scale from -1 to 1, centered in 0\n",
    "def zero_centered_min_max_scaling_controls(df_temp, df_temp_controls):\n",
    "    \"\"\"\n",
    "    Scale the numerical values in the dataframe to be between -1 and 1, preserving the\n",
    "    signal of all values. Use only controls as reference for the scaling\n",
    "    \"\"\"\n",
    "    df = df_temp.copy(deep=True)\n",
    "    for column in df.columns:\n",
    "        max_absolute_value = df_temp_controls[column].abs().max()\n",
    "        df[column] = df[column] / max_absolute_value \n",
    "    return df"
   ]
  },
  {
   "cell_type": "code",
   "execution_count": null,
   "id": "55c17a81-75e5-41b1-9c4e-1a3042657f49",
   "metadata": {},
   "outputs": [],
   "source": [
    "df_means_scaled_controls = zero_centered_min_max_scaling_controls(df_temp, df_temp_controls)\n",
    "df_means_scaled_controls = df_means_sample_celltypes.merge(df_means_scaled_controls, left_index=True, right_index=True)\n",
    "df_means_scaled_controls.head(3)"
   ]
  },
  {
   "cell_type": "code",
   "execution_count": null,
   "id": "e3852f83-112a-41f9-b1b9-0624a7a41b9c",
   "metadata": {},
   "outputs": [],
   "source": [
    "# Plot scaled averages\n",
    "df_temp = df_means_scaled_controls.loc[:, \"chr1\":\"chr22\"].copy()\n",
    "plt.figure(figsize = (8,4))\n",
    "g = sns.heatmap(df_temp, cmap=\"bwr\")\n",
    "g.set_yticklabels(\"\")\n",
    "g.set_title(\"All Celltypes\")\n",
    "plt.show()"
   ]
  },
  {
   "cell_type": "code",
   "execution_count": null,
   "id": "8115d6a3-e755-4ed9-9d6d-c0af5e980815",
   "metadata": {},
   "outputs": [],
   "source": [
    "df_temp = df_means_scaled_controls[df_means_scaled_controls[\"celltype\"] == \"B intermediate kappa\"]\n",
    "print(df_temp.shape)\n",
    "df_temp = df_temp.loc[:, \"chr1\":\"chr22\"].copy()\n",
    "plt.figure(figsize = (8,4))\n",
    "g = sns.heatmap(df_temp, cmap=\"bwr\", vmin=-1, vmax=1)\n",
    "g.set_yticklabels(\"\")\n",
    "g.set_title(\"B intermediate kappa\")\n",
    "plt.show()"
   ]
  },
  {
   "cell_type": "code",
   "execution_count": null,
   "id": "be59240e-9817-4d91-ae5e-32e21076afe5",
   "metadata": {},
   "outputs": [],
   "source": [
    "df_temp = df_means_scaled_controls[df_means_scaled_controls[\"celltype\"] == \"gdT_2\"]\n",
    "print(df_temp.shape)\n",
    "df_temp = df_temp.loc[:, \"chr1\":\"chr22\"].copy()\n",
    "plt.figure(figsize = (8,4))\n",
    "g = sns.heatmap(df_temp, cmap=\"bwr\", vmin=-1, vmax=1)\n",
    "g.set_yticklabels(\"\")\n",
    "g.set_title(\"gdT_2\")\n",
    "plt.show()"
   ]
  },
  {
   "cell_type": "code",
   "execution_count": null,
   "id": "80011363-1cc6-4d69-9ce1-d9eb325a3314",
   "metadata": {},
   "outputs": [],
   "source": [
    "for celltype in groups_clean2:\n",
    "    print(celltype)\n",
    "    df_temp = df_means_scaled_controls[df_means_scaled_controls[\"celltype\"] == celltype]\n",
    "    \n",
    "    #Controls\n",
    "    df_temp_controls = df_temp[(df_temp[\"Sample\"]==\"Control1\") | (df_temp[\"Sample\"]==\"Control2\")]\n",
    "    df_plot = df_temp_controls.loc[:, \"chr1\":\"chr22\"].copy()\n",
    "    print(\"Controls\")\n",
    "    g = sns.clustermap(df_plot, cmap=\"bwr\", vmin=-1.2, vmax=1.2, figsize=(8,3),\n",
    "                      col_cluster=False, yticklabels=False, cbar_pos=None)\n",
    "    plt.show()\n",
    "    \n",
    "    #Proband\n",
    "    df_temp_proband = df_temp[df_temp[\"Sample\"]==\"Proband\"]\n",
    "    print(\"Proband\")\n",
    "    df_plot = df_temp_proband.loc[:, \"chr1\":\"chr22\"].copy()\n",
    "    g = sns.clustermap(df_plot, cmap=\"bwr\", vmin=-1.2, vmax=1.2, figsize=(8,3),\n",
    "                      col_cluster=False, yticklabels=False, cbar_pos=None)\n",
    "    plt.show()"
   ]
  },
  {
   "cell_type": "code",
   "execution_count": null,
   "id": "0843df3b-f16e-4d54-bdec-c62e19617816",
   "metadata": {},
   "outputs": [],
   "source": [
    "### Save df_means to avoid re-running inferCNV\n",
    "df_means.to_csv(DESKTOP + \"220109_L3_df_means_251_allControls.tsv\", sep=\"\\t\")\n",
    "df_means_scaled_controls.to_csv(DESKTOP + \"220109_L3_df_means_251_allControls_scaled_controls.tsv\", sep=\"\\t\")"
   ]
  },
  {
   "cell_type": "markdown",
   "id": "e137aeda-098d-4e62-951e-e9a04e565ebf",
   "metadata": {},
   "source": [
    "## Plots in specific cell types"
   ]
  },
  {
   "cell_type": "code",
   "execution_count": null,
   "id": "0086dc5f-744c-4d50-9983-d3f4de618b28",
   "metadata": {},
   "outputs": [],
   "source": [
    "df_B = df_means_scaled_controls[df_means_scaled_controls[\"celltype\"] == \"B intermediate lambda\"]\n",
    "df_B_controls = df_B[(df_B[\"Sample\"]==\"Control1\") | (df_B[\"Sample\"]==\"Control2\")]\n",
    "df_B_proband  = df_B[df_B[\"Sample\"]==\"Proband\"]"
   ]
  },
  {
   "cell_type": "code",
   "execution_count": null,
   "id": "e58a6a2e-3e77-4c19-8f61-f02ad60cc2c4",
   "metadata": {},
   "outputs": [],
   "source": [
    "fix, ax = plt.subplots(figsize=(6,3))\n",
    "df_B_controls.chr12.plot.hist(bins=300, ylim=(0,5), xlim=(-1.5,2))\n",
    "df_B_proband.chr12.plot.hist(bins=300, ylim=(0,5), xlim=(-1.5,2))\n",
    "plt.title(\"Chr12\")\n",
    "plt.show()"
   ]
  },
  {
   "cell_type": "raw",
   "id": "acb08121-c0e2-41e8-8e3d-53274880f0ab",
   "metadata": {},
   "source": [
    "for n in range(1,23):\n",
    "    chr = \"chr\" + str(n)\n",
    "    fix, ax = plt.subplots(figsize=(6,3))\n",
    "    df_controls[chr].plot.hist(bins=300, ylim=(0,15), xlim=(-1.5,1.5))\n",
    "    df_proband[chr].plot.hist(bins=300, ylim=(0,15), xlim=(-1.5,1.5))\n",
    "    plt.title(\"B lymphocytes \" + chr)\n",
    "    plt.show()"
   ]
  },
  {
   "cell_type": "code",
   "execution_count": null,
   "id": "681f9216-9289-4b9c-9d5c-be91315a48e5",
   "metadata": {},
   "outputs": [],
   "source": [
    "fix, ax = plt.subplots(figsize=(6,3))\n",
    "df_B_controls.chr12.plot.kde(ylim=(0,3), xlim=(-1.5,2))\n",
    "df_B_proband.chr12.plot.kde(ylim=(0,3), xlim=(-1.5,2))\n",
    "plt.title(\"Chr12\")\n",
    "plt.show()"
   ]
  },
  {
   "cell_type": "code",
   "execution_count": null,
   "id": "ccb5f7e7-b112-45aa-a790-ad640443a3ac",
   "metadata": {},
   "outputs": [],
   "source": [
    "for n in range(1,23):\n",
    "    chr = \"chr\" + str(n)\n",
    "    fix, ax = plt.subplots(figsize=(6,3))\n",
    "    df_B_controls[chr].plot.kde(ylim=(0,5), xlim=(-1.5,1.5))\n",
    "    df_B_proband[chr].plot.kde(ylim=(0,5), xlim=(-1.5,1.5))\n",
    "    plt.title(\"B lymphocytes \" + chr)\n",
    "    plt.show()"
   ]
  },
  {
   "cell_type": "code",
   "execution_count": null,
   "id": "76010d68-b2a7-4ebc-9899-e308dea086e6",
   "metadata": {},
   "outputs": [],
   "source": [
    "fix, ax = plt.subplots(figsize=(6,3))\n",
    "for n in range(1,23):\n",
    "    chr = \"chr\" + str(n)\n",
    "    df_B_controls[chr].plot.kde(ylim=(0,6), xlim=(-1.5,1.5))\n",
    "plt.title(\"B intermediate lambda - Controls\")\n",
    "plt.show()"
   ]
  },
  {
   "cell_type": "code",
   "execution_count": null,
   "id": "dc01e447-d91b-4a11-8069-9e736c67b374",
   "metadata": {},
   "outputs": [],
   "source": [
    "fix, ax = plt.subplots(figsize=(6,3))\n",
    "for n in range(1,23):\n",
    "    chr = \"chr\" + str(n)\n",
    "    df_B_proband[chr].plot.kde(ylim=(0,6), xlim=(-1.5,1.5))\n",
    "plt.title(\"B intermediate lambda - Proband\")\n",
    "plt.show()"
   ]
  },
  {
   "cell_type": "code",
   "execution_count": null,
   "id": "358a4610-4d1b-4f77-978a-6f7eb4e475f6",
   "metadata": {},
   "outputs": [],
   "source": [
    "fix, ax = plt.subplots(figsize=(6,3))\n",
    "for n in range(1,23):\n",
    "    chr = \"chr\" + str(n)\n",
    "    df_means[chr].plot.kde(ylim=(0,30), xlim=(-0.1,0.1))\n",
    "plt.title(\"All celltypes\")\n",
    "plt.show()"
   ]
  },
  {
   "cell_type": "code",
   "execution_count": null,
   "id": "dadf2870-f466-4243-8e55-f4a0e7d25a48",
   "metadata": {},
   "outputs": [],
   "source": [
    "fix, ax = plt.subplots(figsize=(6,3))\n",
    "for n in range(1,23):\n",
    "    chr = \"chr\" + str(n)\n",
    "    df_means_scaled_controls[chr].plot.kde(ylim=(0,8), xlim=(-1,1))\n",
    "plt.title(\"All celltypes\")\n",
    "plt.show()"
   ]
  },
  {
   "cell_type": "markdown",
   "id": "18651a0e-6c62-4a7c-b143-a9960697211e",
   "metadata": {},
   "source": [
    "## Plots in other T"
   ]
  },
  {
   "cell_type": "code",
   "execution_count": null,
   "id": "7ff22520-6392-478a-af0a-8f3ef2a72b56",
   "metadata": {},
   "outputs": [],
   "source": [
    "df_otherT = df_means_scaled_controls[df_means_scaled_controls[\"celltype\"] == \"gdT_4\"]\n",
    "df_otherT_controls = df_otherT[(df_otherT[\"Sample\"]==\"Control1\") | (df_otherT[\"Sample\"]==\"Control2\")]\n",
    "df_otherT_proband  = df_otherT[df_otherT[\"Sample\"]==\"Proband\"]\n",
    "df_otherT.head(3)"
   ]
  },
  {
   "cell_type": "code",
   "execution_count": null,
   "id": "db6a965d-8fd2-4328-84fc-6ce2a6f28b3b",
   "metadata": {},
   "outputs": [],
   "source": [
    "fix, ax = plt.subplots(figsize=(6,3))\n",
    "df_otherT_controls.chr12.plot.kde(ylim=(0,3), xlim=(-1.5,1.5))\n",
    "df_otherT_proband.chr12.plot.kde(ylim=(0,3), xlim=(-1.5,1.5))\n",
    "plt.title(\"Chr12\")\n",
    "plt.show()"
   ]
  },
  {
   "cell_type": "code",
   "execution_count": null,
   "id": "c6203ff0-90ce-43cf-abbb-b62e676aa8d8",
   "metadata": {},
   "outputs": [],
   "source": [
    "fix, ax = plt.subplots(figsize=(6,3))\n",
    "df_otherT_controls.chr18.plot.kde(ylim=(0,3), xlim=(-1.5,1.5))\n",
    "df_otherT_proband.chr18.plot.kde(ylim=(0,3), xlim=(-1.5,1.5))\n",
    "plt.title(\"Chr18\")\n",
    "plt.show()"
   ]
  },
  {
   "cell_type": "markdown",
   "id": "eddfb4c3-b2f2-49e1-9748-32e1e3061a7e",
   "metadata": {},
   "source": [
    "## Classify Aneuploid cells based on data Scaled_on_Controls"
   ]
  },
  {
   "cell_type": "code",
   "execution_count": null,
   "id": "aa026b15-b847-45f3-b888-b7453ef9b9ca",
   "metadata": {},
   "outputs": [],
   "source": [
    "threshold = 0.5       \n",
    "\n",
    "chr_list = ['chr1', 'chr2', 'chr3', 'chr4', 'chr5', 'chr6', 'chr7', 'chr8', 'chr9',\n",
    "            'chr10', 'chr11', 'chr12', 'chr13', 'chr14', 'chr15', 'chr16', 'chr17', \n",
    "            'chr18', 'chr19', 'chr20', 'chr21', 'chr22']\n",
    "\n",
    "for chr in chr_list:\n",
    "    new_gain = chr + \"_gain\"\n",
    "    df_means_scaled_controls[new_gain] = np.where(df_means_scaled_controls[chr] > threshold, \"Y\", \"N\")\n",
    "    \n",
    "    new_loss = chr + \"_loss\"\n",
    "    df_means_scaled_controls[new_loss] = np.where(df_means_scaled_controls[chr] < -threshold, \"Y\", \"N\")\n",
    "    \n",
    "df_means_scaled_controls.head(3)"
   ]
  },
  {
   "cell_type": "code",
   "execution_count": null,
   "id": "7d1d9796-4c8e-4eb9-8773-b5930bc42eb8",
   "metadata": {},
   "outputs": [],
   "source": [
    "# Classify as GAIN: Y/N if any chromosome gained\n",
    "df_means_scaled_controls[\"Gain\"] = np.where(df_means_scaled_controls.loc[:, \"chr1_gain\": \"chr22_gain\"].ne(\"N\").any(axis=1), \"Y\", \"N\")\n",
    "df_means_scaled_controls[\"Loss\"] = np.where(df_means_scaled_controls.loc[:, \"chr1_loss\": \"chr22_loss\"].ne(\"N\").any(axis=1), \"Y\", \"N\")\n",
    "df_means_scaled_controls[\"Aneu\"] = np.where(df_means_scaled_controls.loc[:, \"Gain\": \"Loss\"].ne(\"N\").any(axis=1), \"Aneuploid\", \"Euploid\")\n",
    "df_means_scaled_controls"
   ]
  },
  {
   "cell_type": "markdown",
   "id": "13258769-afb3-4991-9537-c1193abec6d6",
   "metadata": {},
   "source": [
    "### Classify CleanAneuploid vs CleanEU cells based on scaled data"
   ]
  },
  {
   "cell_type": "code",
   "execution_count": null,
   "id": "d103304b-8416-4215-ab6e-376b945a0751",
   "metadata": {},
   "outputs": [],
   "source": [
    "thresholdEU = 0.25  \n",
    "thresholdAneu = 0.65\n",
    "\n",
    "chr_list = ['chr1', 'chr2', 'chr3', 'chr4', 'chr5', 'chr6', 'chr7', 'chr8', 'chr9',\n",
    "            'chr10', 'chr11', 'chr12', 'chr13', 'chr14', 'chr15', 'chr16', 'chr17', \n",
    "            'chr18', 'chr19', 'chr20', 'chr21', 'chr22']\n",
    "\n",
    "for chr in chr_list:\n",
    "    new_gain = chr + \"_CleanGain\"\n",
    "    df_means_scaled_controls[new_gain] = np.where(df_means_scaled_controls[chr] > thresholdAneu, \"Y\", \"N\")\n",
    "    \n",
    "for chr in chr_list:\n",
    "    new_loss = chr + \"_CleanLoss\"\n",
    "    df_means_scaled_controls[new_loss] = np.where(df_means_scaled_controls[chr] < -thresholdAneu, \"Y\", \"N\")\n",
    "    \n",
    "for chr in chr_list:\n",
    "    new_EU = chr + \"_CleanEU\"\n",
    "    df_means_scaled_controls[new_EU] = np.where((df_means_scaled_controls[chr] > -thresholdEU) & \n",
    "                                        (df_means_scaled_controls[chr] < thresholdEU), \"Y\", \"N\")\n",
    "\n",
    "df_means_scaled_controls"
   ]
  },
  {
   "cell_type": "code",
   "execution_count": null,
   "id": "f0498a3b-c8d3-47bf-b512-7b53e8e42a4f",
   "metadata": {},
   "outputs": [],
   "source": [
    "# Classify as GAIN: Y/N if any chromosome gained\n",
    "\n",
    "df_means_scaled_controls[\"CleanGain\"] = np.where(df_means_scaled_controls.loc[:, \"chr1_CleanGain\": \"chr22_CleanGain\"].ne(\"N\").any(axis=1), \"Y\", \"N\")\n",
    "df_means_scaled_controls[\"CleanLoss\"] = np.where(df_means_scaled_controls.loc[:, \"chr1_CleanLoss\": \"chr22_CleanLoss\"].ne(\"N\").any(axis=1), \"Y\", \"N\")\n",
    "df_means_scaled_controls[\"CleanAneu\"] = np.where(df_means_scaled_controls.loc[:, \"chr1_CleanEU\": \"chr22_CleanEU\"].ne(\"N\").all(axis=1), \"CleanEU\",\n",
    "                                        np.where(df_means_scaled_controls.loc[:, \"CleanGain\": \"CleanLoss\"].ne(\"N\").any(axis=1), \n",
    "                                                 \"CleanAneu\", \"Dirty\")\n",
    "                                )\n",
    "df_means_scaled_controls"
   ]
  },
  {
   "cell_type": "code",
   "execution_count": null,
   "id": "ab39f5f8-d3e6-40db-a9a3-e1e1822a54ed",
   "metadata": {},
   "outputs": [],
   "source": [
    "df_means_scaled_controls.groupby(\"Sample\")[\"Aneu\"].value_counts(normalize=True)"
   ]
  },
  {
   "cell_type": "code",
   "execution_count": null,
   "id": "884a56e7-ab23-4bbf-a0ae-4234de1c2655",
   "metadata": {},
   "outputs": [],
   "source": [
    "df_means_scaled_controls.groupby(\"celltype\")[\"Aneu\"].value_counts(normalize=True)"
   ]
  },
  {
   "cell_type": "code",
   "execution_count": null,
   "id": "939417b3-9b15-4293-a2b8-3059b1c508b9",
   "metadata": {},
   "outputs": [],
   "source": [
    "df_means_scaled_controls.groupby(\"Sample\")[\"CleanAneu\"].value_counts(normalize=True)"
   ]
  },
  {
   "cell_type": "code",
   "execution_count": null,
   "id": "7d7d8489-2ffb-4e54-9f13-a40d7b0814fe",
   "metadata": {},
   "outputs": [],
   "source": [
    "df_means_scaled_controls.groupby(\"celltype\")[\"CleanAneu\"].value_counts(normalize=True)"
   ]
  },
  {
   "cell_type": "raw",
   "id": "ee13ec64-4f95-44b4-a216-c0793906fbf0",
   "metadata": {},
   "source": [
    "aneu_percentages_scaled = new_adata_obs_scaled.groupby([selected_column,\"Sample\"])[\"Aneu\"].value_counts(normalize=True)\n",
    "aneu_percentages_scaled = pd.DataFrame(aneu_percentages_scaled)\n",
    "aneu_percentages_scaled.to_csv(\"/Users/mmm/Desktop/Aneu_percentages_scaled.tsv\", sep=\"\\t\")\n",
    "\n",
    "clean_aneu_percentages_scaled = new_adata_obs_scaled.groupby([selected_column,\"Sample\"])[\"CleanAneu\"].value_counts(normalize=True)\n",
    "clean_aneu_percentages_scaled = pd.DataFrame(clean_aneu_percentages_scaled)\n",
    "clean_aneu_percentages_scaled.to_csv(\"/Users/mmm/Desktop/Clean_Aneu_percentages_scaled.tsv\", sep=\"\\t\")"
   ]
  },
  {
   "cell_type": "code",
   "execution_count": null,
   "id": "91354353-fbfe-4e0a-83d4-1b7379b7e0f4",
   "metadata": {},
   "outputs": [],
   "source": [
    "df_means_scaled_controls"
   ]
  },
  {
   "cell_type": "code",
   "execution_count": null,
   "id": "50e86c70-ea7b-4a7e-9e58-60d42b3cfded",
   "metadata": {},
   "outputs": [],
   "source": [
    "new_obs = df_means_scaled_controls.copy()\n",
    "new_obs.pop(\"Sample\")\n",
    "new_obs.pop(\"celltype\")\n",
    "new_obs.head(3)"
   ]
  },
  {
   "cell_type": "code",
   "execution_count": null,
   "id": "e75a21cb-86e4-4fd7-a0e5-14cf4f0d945d",
   "metadata": {},
   "outputs": [],
   "source": [
    "# Merge into adata.obs\n",
    "adata.obs = adata.obs.merge(new_obs, how=\"left\", left_index=True, right_index=True)"
   ]
  },
  {
   "cell_type": "code",
   "execution_count": null,
   "id": "0033db41-3d71-41c5-a8ba-4b229e77f24b",
   "metadata": {},
   "outputs": [],
   "source": [
    "# 211126_MAD1_scRNAseq_L2.h5ad  = 211126_MAD1_scRNAseq_L2_w251_t0.5_v2.5-6.5_scaled_controls.h5ad\n",
    "adata.obs.to_csv(DESKTOP + \"220109_cell_metadata_L3_w251_t0.5_v2.5-6.5_allControls_scaled_controls.tsv\", sep=\"\\t\")\n",
    "#adata.write(DESKTOP + \"211126_MAD1_scRNAseq_L3_w251_t0.5_v2.5-6.5_scaled_controls.h5ad\")"
   ]
  },
  {
   "cell_type": "code",
   "execution_count": null,
   "id": "81834194-f7f7-43bb-a9e6-d1c2ae95c52c",
   "metadata": {},
   "outputs": [],
   "source": []
  },
  {
   "cell_type": "code",
   "execution_count": null,
   "id": "8d3c42d2-ae30-49af-b16b-9d573397f805",
   "metadata": {},
   "outputs": [],
   "source": []
  },
  {
   "cell_type": "code",
   "execution_count": null,
   "id": "b9c2d73a-7c42-4e17-b48b-f9955dc3bb29",
   "metadata": {},
   "outputs": [],
   "source": []
  },
  {
   "cell_type": "markdown",
   "id": "42ea0e84-884e-44f3-8e62-d50234d91b35",
   "metadata": {},
   "source": [
    "# Repeat all with non_scaled data"
   ]
  },
  {
   "cell_type": "markdown",
   "id": "ec543085-805a-49b3-a4b3-c6d32fe4a80e",
   "metadata": {},
   "source": [
    "## Plots in specific cell types"
   ]
  },
  {
   "cell_type": "code",
   "execution_count": null,
   "id": "8c0f5468-de1f-47fa-9574-c541ed6781c8",
   "metadata": {},
   "outputs": [],
   "source": [
    "df_B = df_means[df_means[\"celltype\"] == \"B intermediate lambda\"]\n",
    "df_B_controls = df_B[(df_B[\"Sample\"]==\"Control1\") | (df_B[\"Sample\"]==\"Control2\")]\n",
    "df_B_proband  = df_B[df_B[\"Sample\"]==\"Proband\"]"
   ]
  },
  {
   "cell_type": "code",
   "execution_count": null,
   "id": "b70b4860-0fcc-4d64-a212-2c376953371e",
   "metadata": {},
   "outputs": [],
   "source": [
    "fix, ax = plt.subplots(figsize=(6,3))\n",
    "df_B_controls.chr12.plot.hist(bins=300, ylim=(0,5), xlim=(-0.2,0.2))\n",
    "df_B_proband.chr12.plot.hist(bins=300, ylim=(0,5), xlim=(-0.2,0.2))\n",
    "plt.title(\"Chr12\")\n",
    "plt.show()"
   ]
  },
  {
   "cell_type": "raw",
   "id": "414ad7eb-37af-4142-9cee-ea8eba575423",
   "metadata": {},
   "source": [
    "for n in range(1,23):\n",
    "    chr = \"chr\" + str(n)\n",
    "    fix, ax = plt.subplots(figsize=(6,3))\n",
    "    df_controls[chr].plot.hist(bins=300, ylim=(0,15), xlim=(-1.5,1.5))\n",
    "    df_proband[chr].plot.hist(bins=300, ylim=(0,15), xlim=(-1.5,1.5))\n",
    "    plt.title(\"B lymphocytes \" + chr)\n",
    "    plt.show()"
   ]
  },
  {
   "cell_type": "code",
   "execution_count": null,
   "id": "e5d94c06-442e-4f1e-8f84-90cdc1342d88",
   "metadata": {},
   "outputs": [],
   "source": [
    "fix, ax = plt.subplots(figsize=(6,3))\n",
    "df_B_controls.chr12.plot.kde(ylim=(0,100), xlim=(-0.1,0.1))\n",
    "df_B_proband.chr12.plot.kde(ylim=(0,100), xlim=(-0.1,0.1))\n",
    "plt.title(\"Chr12\")\n",
    "plt.show()"
   ]
  },
  {
   "cell_type": "code",
   "execution_count": null,
   "id": "052cc800-6e80-4aad-a6b7-256daff858c7",
   "metadata": {},
   "outputs": [],
   "source": [
    "for n in range(1,23):\n",
    "    chr = \"chr\" + str(n)\n",
    "    fix, ax = plt.subplots(figsize=(6,3))\n",
    "    df_B_controls[chr].plot.kde(ylim=(0,100), xlim=(-0.1,0.1))\n",
    "    df_B_proband[chr].plot.kde(ylim=(0,100), xlim=(-0.1,0.1))\n",
    "    plt.title(\"B lymphocytes \" + chr)\n",
    "    plt.show()"
   ]
  },
  {
   "cell_type": "code",
   "execution_count": null,
   "id": "7e6c628b-945b-402a-8049-6cefe56c4a57",
   "metadata": {},
   "outputs": [],
   "source": [
    "fix, ax = plt.subplots(figsize=(6,3))\n",
    "for n in range(1,23):\n",
    "    chr = \"chr\" + str(n)\n",
    "    df_B_controls[chr].plot.kde(ylim=(0,100), xlim=(-0.1,0.1))\n",
    "plt.title(\"B intermediate lambda - Controls\")\n",
    "plt.show()"
   ]
  },
  {
   "cell_type": "code",
   "execution_count": null,
   "id": "413817f9-62e8-444d-bf9c-6c3ad1da23ef",
   "metadata": {},
   "outputs": [],
   "source": [
    "fix, ax = plt.subplots(figsize=(6,3))\n",
    "for n in range(1,23):\n",
    "    chr = \"chr\" + str(n)\n",
    "    df_B_proband[chr].plot.kde(ylim=(0,100), xlim=(-0.1,0.1))\n",
    "plt.title(\"B intermediate lambda - Proband\")\n",
    "plt.show()"
   ]
  },
  {
   "cell_type": "code",
   "execution_count": null,
   "id": "7dbb0764-6721-4d3a-bde7-1e3530bd592d",
   "metadata": {},
   "outputs": [],
   "source": [
    "fix, ax = plt.subplots(figsize=(6,3))\n",
    "for n in range(1,23):\n",
    "    chr = \"chr\" + str(n)\n",
    "    df_means[chr].plot.kde(ylim=(0,100), xlim=(-0.1,0.1))\n",
    "plt.title(\"All celltypes\")\n",
    "plt.show()"
   ]
  },
  {
   "cell_type": "code",
   "execution_count": null,
   "id": "11b75a16-1409-4b2d-a640-7f1ee4f179a4",
   "metadata": {},
   "outputs": [],
   "source": [
    "fix, ax = plt.subplots(figsize=(6,3))\n",
    "for n in range(1,23):\n",
    "    chr = \"chr\" + str(n)\n",
    "    df_means_scaled_controls[chr].plot.kde(ylim=(0,15), xlim=(-1,1))\n",
    "plt.title(\"All celltypes\")\n",
    "plt.show()"
   ]
  },
  {
   "cell_type": "markdown",
   "id": "3e5b4964-2cc4-497d-b965-8e7a3c6cfeb0",
   "metadata": {},
   "source": [
    "## Plots in other T"
   ]
  },
  {
   "cell_type": "code",
   "execution_count": null,
   "id": "6a746362-2718-4323-8cd3-beb10692faca",
   "metadata": {},
   "outputs": [],
   "source": [
    "df_otherT = df_means[df_means[\"celltype\"] == \"gdT_4\"]\n",
    "df_otherT_controls = df_otherT[(df_otherT[\"Sample\"]==\"Control1\") | (df_otherT[\"Sample\"]==\"Control2\")]\n",
    "df_otherT_proband  = df_otherT[df_otherT[\"Sample\"]==\"Proband\"]\n",
    "df_otherT.head(3)"
   ]
  },
  {
   "cell_type": "code",
   "execution_count": null,
   "id": "a79fe1dc-0ff1-4ac6-8ad7-769d0fb9c850",
   "metadata": {},
   "outputs": [],
   "source": [
    "fix, ax = plt.subplots(figsize=(6,3))\n",
    "df_otherT_controls.chr12.plot.kde(ylim=(0,100), xlim=(-0.1,0.1))\n",
    "df_otherT_proband.chr12.plot.kde(ylim=(0,100), xlim=(-0.1,0.1))\n",
    "plt.title(\"Chr12\")\n",
    "plt.show()"
   ]
  },
  {
   "cell_type": "code",
   "execution_count": null,
   "id": "9b3821c2-24e9-4d9e-8abe-2f9f9d80044b",
   "metadata": {},
   "outputs": [],
   "source": [
    "fix, ax = plt.subplots(figsize=(6,3))\n",
    "df_otherT_controls.chr18.plot.kde(ylim=(0,100), xlim=(-0.1,0.1))\n",
    "df_otherT_proband.chr18.plot.kde(ylim=(0,80), xlim=(-0.1,0.1))\n",
    "plt.title(\"Chr18\")\n",
    "plt.show()"
   ]
  },
  {
   "cell_type": "markdown",
   "id": "90ebd0e6-a6a0-405a-b30f-a0a604068927",
   "metadata": {},
   "source": [
    "## Classify Aneuploid cells based on non-scaled data"
   ]
  },
  {
   "cell_type": "code",
   "execution_count": null,
   "id": "381894d0-816c-4102-bf75-4f61eb208782",
   "metadata": {},
   "outputs": [],
   "source": [
    "df_means = pd.read_csv(DESKTOP + \"220109_L3_df_means_251_allControls.tsv\", sep=\"\\t\")"
   ]
  },
  {
   "cell_type": "code",
   "execution_count": null,
   "id": "aa66a653-3c81-4b1a-a88e-451bf7cfab1c",
   "metadata": {},
   "outputs": [],
   "source": [
    "threshold = 0.025       \n",
    "\n",
    "chr_list = ['chr1', 'chr2', 'chr3', 'chr4', 'chr5', 'chr6', 'chr7', 'chr8', 'chr9',\n",
    "            'chr10', 'chr11', 'chr12', 'chr13', 'chr14', 'chr15', 'chr16', 'chr17', \n",
    "            'chr18', 'chr19', 'chr20', 'chr21', 'chr22']\n",
    "\n",
    "for chr in chr_list:\n",
    "    new_gain = chr + \"_gain\"\n",
    "    df_means[new_gain] = np.where(df_means[chr] > threshold, \"Y\", \"N\")\n",
    "    \n",
    "    new_loss = chr + \"_loss\"\n",
    "    df_means[new_loss] = np.where(df_means[chr] < -threshold, \"Y\", \"N\")\n",
    "    \n",
    "df_means.head(3)"
   ]
  },
  {
   "cell_type": "code",
   "execution_count": null,
   "id": "860ca149-4490-443b-806d-cf1abd829b3f",
   "metadata": {},
   "outputs": [],
   "source": [
    "# Classify as GAIN: Y/N if any chromosome gained\n",
    "df_means[\"Gain\"] = np.where(df_means.loc[:, \"chr1_gain\": \"chr22_gain\"].ne(\"N\").any(axis=1), \"Y\", \"N\")\n",
    "df_means[\"Loss\"] = np.where(df_means.loc[:, \"chr1_loss\": \"chr22_loss\"].ne(\"N\").any(axis=1), \"Y\", \"N\")\n",
    "df_means[\"Aneu\"] = np.where(df_means.loc[:, \"Gain\": \"Loss\"].ne(\"N\").any(axis=1), \"Aneuploid\", \"Euploid\")\n",
    "df_means"
   ]
  },
  {
   "cell_type": "markdown",
   "id": "2ca74499-299d-413b-834c-089efffdf42f",
   "metadata": {},
   "source": [
    "### Classify CleanAneuploid vs CleanEU cells based on non-scaled data"
   ]
  },
  {
   "cell_type": "code",
   "execution_count": null,
   "id": "bc8e8582-50f8-4926-88eb-c0d1ee2251a9",
   "metadata": {},
   "outputs": [],
   "source": [
    "thresholdEU = 0.01\n",
    "thresholdAneu = 0.035\n",
    "\n",
    "chr_list = ['chr1', 'chr2', 'chr3', 'chr4', 'chr5', 'chr6', 'chr7', 'chr8', 'chr9',\n",
    "            'chr10', 'chr11', 'chr12', 'chr13', 'chr14', 'chr15', 'chr16', 'chr17', \n",
    "            'chr18', 'chr19', 'chr20', 'chr21', 'chr22']\n",
    "\n",
    "for chr in chr_list:\n",
    "    new_gain = chr + \"_CleanGain\"\n",
    "    df_means[new_gain] = np.where(df_means[chr] > thresholdAneu, \"Y\", \"N\")\n",
    "    \n",
    "for chr in chr_list:\n",
    "    new_loss = chr + \"_CleanLoss\"\n",
    "    df_means[new_loss] = np.where(df_means[chr] < -thresholdAneu, \"Y\", \"N\")\n",
    "    \n",
    "for chr in chr_list:\n",
    "    new_EU = chr + \"_CleanEU\"\n",
    "    df_means[new_EU] = np.where((df_means[chr] > -thresholdEU) & \n",
    "                                        (df_means[chr] < thresholdEU), \"Y\", \"N\")\n",
    "\n",
    "df_means"
   ]
  },
  {
   "cell_type": "code",
   "execution_count": null,
   "id": "5fbe7b5e-2e89-4b9b-ba87-eaede741af3a",
   "metadata": {},
   "outputs": [],
   "source": [
    "# Classify as GAIN: Y/N if any chromosome gained\n",
    "\n",
    "df_means[\"CleanGain\"] = np.where(df_means.loc[:, \"chr1_CleanGain\": \"chr22_CleanGain\"].ne(\"N\").any(axis=1), \"Y\", \"N\")\n",
    "df_means[\"CleanLoss\"] = np.where(df_means.loc[:, \"chr1_CleanLoss\": \"chr22_CleanLoss\"].ne(\"N\").any(axis=1), \"Y\", \"N\")\n",
    "df_means[\"CleanAneu\"] = np.where(df_means.loc[:, \"chr1_CleanEU\": \"chr22_CleanEU\"].ne(\"N\").all(axis=1), \"CleanEU\",\n",
    "                                        np.where(df_means.loc[:, \"CleanGain\": \"CleanLoss\"].ne(\"N\").any(axis=1), \n",
    "                                                 \"CleanAneu\", \"Dirty\")\n",
    "                                )\n",
    "df_means"
   ]
  },
  {
   "cell_type": "code",
   "execution_count": null,
   "id": "db53d021-1e25-4836-b590-30d614f94a5b",
   "metadata": {},
   "outputs": [],
   "source": [
    "df_means.groupby(\"Sample\")[\"Aneu\"].value_counts(normalize=True)"
   ]
  },
  {
   "cell_type": "code",
   "execution_count": null,
   "id": "6a814e71-9ab4-4f43-a080-a964258bce5e",
   "metadata": {},
   "outputs": [],
   "source": [
    "df_means.groupby(\"celltype\")[\"Aneu\"].value_counts(normalize=True)"
   ]
  },
  {
   "cell_type": "code",
   "execution_count": null,
   "id": "bdbab10c-9743-43cb-be20-721c9de54502",
   "metadata": {},
   "outputs": [],
   "source": [
    "df_means.groupby(\"Sample\")[\"CleanAneu\"].value_counts(normalize=True)"
   ]
  },
  {
   "cell_type": "code",
   "execution_count": null,
   "id": "77f396de-8e0d-4eaf-be2f-b506699a40d7",
   "metadata": {},
   "outputs": [],
   "source": [
    "df_means.groupby(\"celltype\")[\"CleanAneu\"].value_counts(normalize=True)"
   ]
  },
  {
   "cell_type": "code",
   "execution_count": null,
   "id": "494b04f3-2776-4437-8927-c03a85bdb278",
   "metadata": {},
   "outputs": [],
   "source": [
    "df_means"
   ]
  },
  {
   "cell_type": "code",
   "execution_count": null,
   "id": "2fa9da83-43be-4d19-859d-dacb4947568a",
   "metadata": {},
   "outputs": [],
   "source": [
    "new_obs = df_means.copy()\n",
    "new_obs.pop(\"Sample\")\n",
    "new_obs.pop(\"celltype\")\n",
    "#new_obs.set_index(\"Cell\", inplace=True)\n",
    "new_obs.head(3)"
   ]
  },
  {
   "cell_type": "code",
   "execution_count": null,
   "id": "4b1027e7-35ff-4f87-abab-f8b08df752b7",
   "metadata": {},
   "outputs": [],
   "source": [
    "# Merge into adata.obs\n",
    "adata.obs = adata.obs.merge(new_obs, how=\"left\", left_index=True, right_index=True)"
   ]
  },
  {
   "cell_type": "code",
   "execution_count": null,
   "id": "40cfd337-f73c-4c4a-a181-e16660f43ba9",
   "metadata": {},
   "outputs": [],
   "source": [
    "# 211126_MAD1_scRNAseq_L2.h5ad  = 211126_MAD1_scRNAseq_L2_w251_t0.5_v2.5-6.5_scaled_controls.h5ad\n",
    "adata.obs.to_csv(DESKTOP + \"220109_cell_metadata_L3_w251_t0.5_v2.5-6.5_allControls_non_scaled.tsv\", sep=\"\\t\")\n",
    "#adata.write(DESKTOP + \"211126_MAD1_scRNAseq_L3_w251_t0.5_v2.5-6.5_scaled_controls.h5ad\")"
   ]
  },
  {
   "cell_type": "code",
   "execution_count": null,
   "id": "4e583822-b019-485c-bb1a-7382e8c14dd6",
   "metadata": {},
   "outputs": [],
   "source": []
  }
 ],
 "metadata": {
  "kernelspec": {
   "display_name": "Python 3 (ipykernel)",
   "language": "python",
   "name": "python3"
  },
  "language_info": {
   "codemirror_mode": {
    "name": "ipython",
    "version": 3
   },
   "file_extension": ".py",
   "mimetype": "text/x-python",
   "name": "python",
   "nbconvert_exporter": "python",
   "pygments_lexer": "ipython3",
   "version": "3.8.12"
  }
 },
 "nbformat": 4,
 "nbformat_minor": 5
}
